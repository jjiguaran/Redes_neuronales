{
 "cells": [
  {
   "cell_type": "code",
   "execution_count": 2,
   "metadata": {
    "ExecuteTime": {
     "end_time": "2020-11-07T02:06:53.750540Z",
     "start_time": "2020-11-07T02:06:53.160079Z"
    },
    "colab": {},
    "colab_type": "code",
    "id": "qrta8YAaYYNN"
   },
   "outputs": [
    {
     "name": "stdout",
     "output_type": "stream",
     "text": [
      "The autoreload extension is already loaded. To reload it, use:\n",
      "  %reload_ext autoreload\n",
      "Using matplotlib backend: Qt5Agg\n"
     ]
    }
   ],
   "source": [
    "%load_ext autoreload\n",
    "%autoreload 2\n",
    "%matplotlib \n",
    "import matplotlib.pyplot as plt\n",
    "from mpl_toolkits.mplot3d import Axes3D\n",
    "import utils"
   ]
  },
  {
   "cell_type": "markdown",
   "metadata": {
    "colab_type": "text",
    "collapsed": true,
    "id": "KcqFqabpYYNZ"
   },
   "source": [
    "# Ejercicio 2 -   Regresión Lineal \n",
    "\n",
    "En este ejercicio, tu objetivo será implementar el método `forward` de un modelo de Regresión Lineal con una múltiples variables de entrada. No debés implementar ningún otro método.\n",
    "\n",
    "La función se encuentra en la clase `RegresionLineal`.\n",
    "\n",
    "Luego, ejecuta las pruebas para verificar que implementaste correctamente el modelo.\n",
    "\n",
    "\n"
   ]
  },
  {
   "cell_type": "code",
   "execution_count": 6,
   "metadata": {
    "ExecuteTime": {
     "start_time": "2020-11-07T02:06:55.453Z"
    },
    "colab": {},
    "colab_type": "code",
    "id": "-IOJzhM8YYNb"
   },
   "outputs": [],
   "source": [
    "import numpy as np\n",
    "\n",
    "\n",
    "class RegresionLineal:\n",
    "    '''\n",
    "    Esta clase permite entrenar modelos de regresión lineal, cuya función de predicción es:\n",
    "    y = x . w + b\n",
    "    Los parámetros son:\n",
    "    w: un vector de flotantes de la misma dimensionalidad de x, es decir un vector de tamanio dx1\n",
    "    b (un flotante)\n",
    "    La entrada x debe ser d dimensional, es decir, un vector de tamanio 1xd (o n de tamanio nxd).\n",
    "    '''\n",
    "\n",
    "    def __init__(self,w:np.ndarray,b:float):\n",
    "        self.w=w\n",
    "        self.b=b\n",
    "    \n",
    "    def __repr__(self):\n",
    "        return f\"{self.__class__.__name__}(w = {self.w}, b = {self.b:.5f})\"\n",
    "\n",
    "    def forward(self,x:np.ndarray):\n",
    "        '''\n",
    "\n",
    "        :param x: vector 1D con valores de entrada\n",
    "        :return: la predicción x*w+b\n",
    "        '''\n",
    "        n,d=x.shape\n",
    "        \n",
    "        assert (len(self.w) == d)\n",
    "        \n",
    "        y=np.zeros(n)\n",
    "\n",
    "        # TODO calcular la salida y en base a: x, self.w, y self.b\n",
    "        y  = np.dot(x, self.w) + self.b\n",
    "        \n",
    "        assert (len(y) == n)\n",
    "        \n",
    "        return y\n",
    "    \n",
    "    def backward(self,x:np.ndarray,y:np.ndarray)->(float,float):\n",
    "        '''\n",
    "        Calcula las derivadas de los parámetros del modelo con respecto \n",
    "        al error cuadrático medio y al conjunto de datos (x,y)\n",
    "        No necesitas implementar nada aqui\n",
    "        :param x: vector 1D con los valores de entrada\n",
    "        :param y: vector 1D con los valores de salida _verdaderos_ \n",
    "        :return derivada del error respecto de w y b\n",
    "        '''\n",
    "        d=len(self.w)\n",
    "        yhat = self.forward(x)\n",
    "        # calculo de derivadas\n",
    "        dEdw=np.zeros(d)\n",
    "        for i in range(d):\n",
    "            dEdw[i] = 2 * ((yhat - y)*x[:,i]).mean()\n",
    "        dEdb = 2 * (yhat - y).mean()\n",
    "        return dEdw,dEdb\n",
    "\n",
    "    def fit(self,x:np.ndarray,y:np.ndarray,lr:float=0.001,epochs:int=100):\n",
    "        '''\n",
    "        No necesitas implementar nada aqui\n",
    "        Entrena el modelo (ajusta los parámetros) para minimizar el error cuadrático medio\n",
    "        :param x: vector 1D con los valores de entrada\n",
    "        :param y: vector 1D con los valores de salida _verdaderos_ \n",
    "        :param alpha: velocidad de aprendizaje\n",
    "        :param iterations: cantidad de iteraciones de aprendizaje\n",
    "        '''\n",
    "        \n",
    "        assert (len(x.shape) == 2)\n",
    "        assert (len(y.shape) == 1)\n",
    "        assert ( len(y) == len(x))\n",
    "        n = len(x)\n",
    "\n",
    "        for i in range(epochs):\n",
    "            dEdw,dEdb=self.backward(x,y)\n",
    "            # actualizo los parámetros\n",
    "            self.w = self.w - lr * dEdw\n",
    "            self.b = self.b - lr * dEdb\n",
    "            print(f\"Epoch {i+1}/{epochs} => Error = {self.error(x,y)}\")\n",
    "        \n",
    "    def error(self,x:np.ndarray,y:np.ndarray)->float:\n",
    "        '''\n",
    "        Error cuadrático medio (MSE) del modelo\n",
    "        :param x: vector 1D con los valores de entrada\n",
    "        :param y: vector 1D con los valores de salida _verdaderos_ \n",
    "        :return flotante con el error promedio del modelo entre todos los ejemplos\n",
    "        '''\n",
    "        \n",
    "        yhat = self.forward(x)\n",
    "        d2 = (y-yhat)**2\n",
    "        return d2.mean()\n",
    "    "
   ]
  },
  {
   "cell_type": "markdown",
   "metadata": {
    "colab_type": "text",
    "id": "IlZ9G5NRYYNl"
   },
   "source": [
    "# Ejecuta el siguiente bloque para verificar que la función `forward` está bien implementada"
   ]
  },
  {
   "cell_type": "code",
   "execution_count": 7,
   "metadata": {
    "ExecuteTime": {
     "end_time": "2020-11-07T01:55:05.596711Z",
     "start_time": "2020-11-07T01:55:05.417707Z"
    },
    "colab": {},
    "colab_type": "code",
    "id": "lmm9oQ4VYYNm"
   },
   "outputs": [
    {
     "name": "stdout",
     "output_type": "stream",
     "text": [
      "Los vectores x e y son iguales:\n",
      "x:  [0. 0. 0.]\n",
      "y:  [0. 0. 0.]\n",
      "Los vectores x e y son iguales:\n",
      "x:  [3. 5. 7.]\n",
      "y:  [3. 5. 7.]\n",
      "Los vectores x e y son iguales:\n",
      "x:  [1. 1. 1.]\n",
      "y:  [1. 1. 1.]\n",
      "Los vectores x e y son iguales:\n",
      "x:  [4. 6. 8.]\n",
      "y:  [4. 6. 8.]\n"
     ]
    }
   ],
   "source": [
    "\n",
    "w1=np.zeros(2)\n",
    "rl1=RegresionLineal(w1,0.0)\n",
    "x=np.array([[1.0,2.0]\n",
    "            ,[2.0,3.0]\n",
    "            ,[3.0,4.0]])\n",
    "\n",
    "y=rl1.forward(x)\n",
    "\n",
    "utils.verificar_igualdad(y,np.zeros(3))\n",
    "\n",
    "\n",
    "w2=np.ones(2)\n",
    "rl2=RegresionLineal(w2,0.0)\n",
    "y=rl2.forward(x)\n",
    "utils.verificar_igualdad(y,np.array([3.0,5.0,7.0]))\n",
    "\n",
    "w3=np.zeros(2)\n",
    "rl3=RegresionLineal(w3,1.0)\n",
    "y=rl3.forward(x)\n",
    "utils.verificar_igualdad(y,np.ones(3))\n",
    "\n",
    "\n",
    "w4=np.ones(2)\n",
    "rl4=RegresionLineal(w4,1.0)\n",
    "y=rl4.forward(x)\n",
    "utils.verificar_igualdad(y,np.array([4.0,6.0,8.0]))\n"
   ]
  },
  {
   "cell_type": "markdown",
   "metadata": {
    "colab_type": "text",
    "id": "lh12c0Q9YYNu"
   },
   "source": [
    "# Verifica que el modelo se entrena correctamente."
   ]
  },
  {
   "cell_type": "code",
   "execution_count": 8,
   "metadata": {
    "ExecuteTime": {
     "end_time": "2020-11-07T01:48:01.117713Z",
     "start_time": "2020-11-07T01:48:01.106Z"
    },
    "colab": {},
    "colab_type": "code",
    "id": "GD4l4mZxYYNv"
   },
   "outputs": [
    {
     "name": "stdout",
     "output_type": "stream",
     "text": [
      "Inicialización aleatoria del modelo; vuelve a correr esta celda para obtener otros resultados\n",
      "Modelo inicial: RegresionLineal(w = [0.47107322 0.90599952], b = 0.50684). Error cuadrático medio: 107.4604\n",
      "Epoch 1/100 => Error = 107.21721327448351\n",
      "Epoch 2/100 => Error = 106.9746009566331\n",
      "Epoch 3/100 => Error = 106.73254272959646\n",
      "Epoch 4/100 => Error = 106.49103732787948\n",
      "Epoch 5/100 => Error = 106.2500834888785\n",
      "Epoch 6/100 => Error = 106.00967995287334\n",
      "Epoch 7/100 => Error = 105.76982546302105\n",
      "Epoch 8/100 => Error = 105.53051876534904\n",
      "Epoch 9/100 => Error = 105.2917586087489\n",
      "Epoch 10/100 => Error = 105.05354374496942\n",
      "Epoch 11/100 => Error = 104.81587292861042\n",
      "Epoch 12/100 => Error = 104.57874491711611\n",
      "Epoch 13/100 => Error = 104.34215847076851\n",
      "Epoch 14/100 => Error = 104.10611235268107\n",
      "Epoch 15/100 => Error = 103.87060532879224\n",
      "Epoch 16/100 => Error = 103.63563616785886\n",
      "Epoch 17/100 => Error = 103.40120364144987\n",
      "Epoch 18/100 => Error = 103.1673065239399\n",
      "Epoch 19/100 => Error = 102.93394359250269\n",
      "Epoch 20/100 => Error = 102.70111362710487\n",
      "Epoch 21/100 => Error = 102.46881541049949\n",
      "Epoch 22/100 => Error = 102.23704772821966\n",
      "Epoch 23/100 => Error = 102.00580936857233\n",
      "Epoch 24/100 => Error = 101.77509912263172\n",
      "Epoch 25/100 => Error = 101.54491578423327\n",
      "Epoch 26/100 => Error = 101.31525814996706\n",
      "Epoch 27/100 => Error = 101.08612501917172\n",
      "Epoch 28/100 => Error = 100.85751519392804\n",
      "Epoch 29/100 => Error = 100.62942747905281\n",
      "Epoch 30/100 => Error = 100.4018606820925\n",
      "Epoch 31/100 => Error = 100.17481361331704\n",
      "Epoch 32/100 => Error = 99.9482850857135\n",
      "Epoch 33/100 => Error = 99.72227391498011\n",
      "Epoch 34/100 => Error = 99.4967789195199\n",
      "Epoch 35/100 => Error = 99.27179892043453\n",
      "Epoch 36/100 => Error = 99.04733274151815\n",
      "Epoch 37/100 => Error = 98.82337920925143\n",
      "Epoch 38/100 => Error = 98.59993715279501\n",
      "Epoch 39/100 => Error = 98.37700540398373\n",
      "Epoch 40/100 => Error = 98.15458279732047\n",
      "Epoch 41/100 => Error = 97.93266816996993\n",
      "Epoch 42/100 => Error = 97.71126036175264\n",
      "Epoch 43/100 => Error = 97.49035821513884\n",
      "Epoch 44/100 => Error = 97.26996057524258\n",
      "Epoch 45/100 => Error = 97.05006628981549\n",
      "Epoch 46/100 => Error = 96.83067420924078\n",
      "Epoch 47/100 => Error = 96.61178318652739\n",
      "Epoch 48/100 => Error = 96.39339207730379\n",
      "Epoch 49/100 => Error = 96.17549973981222\n",
      "Epoch 50/100 => Error = 95.95810503490245\n",
      "Epoch 51/100 => Error = 95.74120682602602\n",
      "Epoch 52/100 => Error = 95.52480397923023\n",
      "Epoch 53/100 => Error = 95.3088953631523\n",
      "Epoch 54/100 => Error = 95.09347984901338\n",
      "Epoch 55/100 => Error = 94.87855631061254\n",
      "Epoch 56/100 => Error = 94.6641236243211\n",
      "Epoch 57/100 => Error = 94.45018066907662\n",
      "Epoch 58/100 => Error = 94.23672632637701\n",
      "Epoch 59/100 => Error = 94.02375948027479\n",
      "Epoch 60/100 => Error = 93.81127901737125\n",
      "Epoch 61/100 => Error = 93.59928382681048\n",
      "Epoch 62/100 => Error = 93.38777280027375\n",
      "Epoch 63/100 => Error = 93.17674483197362\n",
      "Epoch 64/100 => Error = 92.96619881864811\n",
      "Epoch 65/100 => Error = 92.7561336595551\n",
      "Epoch 66/100 => Error = 92.54654825646635\n",
      "Epoch 67/100 => Error = 92.33744151366194\n",
      "Epoch 68/100 => Error = 92.1288123379245\n",
      "Epoch 69/100 => Error = 91.9206596385334\n",
      "Epoch 70/100 => Error = 91.71298232725923\n",
      "Epoch 71/100 => Error = 91.50577931835784\n",
      "Epoch 72/100 => Error = 91.29904952856494\n",
      "Epoch 73/100 => Error = 91.09279187709026\n",
      "Epoch 74/100 => Error = 90.8870052856121\n",
      "Epoch 75/100 => Error = 90.68168867827137\n",
      "Epoch 76/100 => Error = 90.47684098166621\n",
      "Epoch 77/100 => Error = 90.27246112484634\n",
      "Epoch 78/100 => Error = 90.06854803930744\n",
      "Epoch 79/100 => Error = 89.86510065898551\n",
      "Epoch 80/100 => Error = 89.66211792025136\n",
      "Epoch 81/100 => Error = 89.45959876190511\n",
      "Epoch 82/100 => Error = 89.25754212517046\n",
      "Epoch 83/100 => Error = 89.0559469536893\n",
      "Epoch 84/100 => Error = 88.85481219351615\n",
      "Epoch 85/100 => Error = 88.65413679311271\n",
      "Epoch 86/100 => Error = 88.4539197033422\n",
      "Epoch 87/100 => Error = 88.25415987746408\n",
      "Epoch 88/100 => Error = 88.05485627112837\n",
      "Epoch 89/100 => Error = 87.85600784237029\n",
      "Epoch 90/100 => Error = 87.65761355160488\n",
      "Epoch 91/100 => Error = 87.45967236162156\n",
      "Epoch 92/100 => Error = 87.26218323757845\n",
      "Epoch 93/100 => Error = 87.06514514699738\n",
      "Epoch 94/100 => Error = 86.8685570597581\n",
      "Epoch 95/100 => Error = 86.67241794809313\n",
      "Epoch 96/100 => Error = 86.47672678658238\n",
      "Epoch 97/100 => Error = 86.2814825521476\n",
      "Epoch 98/100 => Error = 86.08668422404723\n",
      "Epoch 99/100 => Error = 85.89233078387105\n",
      "Epoch 100/100 => Error = 85.69842121553462\n",
      "Modelo inicial: RegresionLineal(w = [0.42589553 0.89455322], b = 0.50510). Error cuadrático medio: 85.6984\n"
     ]
    }
   ],
   "source": [
    "# Carga del dataset\n",
    "import os\n",
    "dataset_path=os.path.join(\"study_regression_2d_small.csv\")\n",
    "\n",
    "data=np.loadtxt(open(dataset_path, \"rb\"), delimiter=\",\", skiprows=1)\n",
    "x,y=data[:,0:2],data[:,2]\n",
    "n,d=x.shape\n",
    "\n",
    "# Creación del modelo inicial\n",
    "print(\"Inicialización aleatoria del modelo; vuelve a correr esta celda para obtener otros resultados\")\n",
    "w_random=np.random.rand(d)\n",
    "b_random=np.random.rand()\n",
    "rl=RegresionLineal(w_random,b_random)\n",
    "\n",
    "# visualización del modelo inicial\n",
    "print(f\"Modelo inicial: {rl}. Error cuadrático medio: {rl.error(x,y):.4f}\")\n",
    "utils.plot_regresion_lineal(rl.w,rl.b,x,y,title=\"Modelo Inicial\")\n",
    "\n",
    "#Entrenamiento del modelo\n",
    "rl.fit(x,y,lr=0.0001,epochs=100)\n",
    "\n",
    "# visualiza el modelo y los datos\n",
    "utils.plot_regresion_lineal(rl.w,rl.b,x,y,title=\"Modelo Final\")\n",
    "print(f\"Modelo inicial: {rl}. Error cuadrático medio: {rl.error(x,y):.4f}\")\n",
    "\n",
    "\n"
   ]
  },
  {
   "cell_type": "code",
   "execution_count": null,
   "metadata": {},
   "outputs": [],
   "source": []
  }
 ],
 "metadata": {
  "colab": {
   "collapsed_sections": [],
   "name": "Ejercicio 2 - Regresion Lineal.ipynb",
   "provenance": []
  },
  "kernelspec": {
   "display_name": "Python 3",
   "language": "python",
   "name": "python3"
  },
  "language_info": {
   "codemirror_mode": {
    "name": "ipython",
    "version": 3
   },
   "file_extension": ".py",
   "mimetype": "text/x-python",
   "name": "python",
   "nbconvert_exporter": "python",
   "pygments_lexer": "ipython3",
   "version": "3.7.1"
  },
  "toc": {
   "base_numbering": 1,
   "nav_menu": {},
   "number_sections": true,
   "sideBar": true,
   "skip_h1_title": false,
   "title_cell": "Table of Contents",
   "title_sidebar": "Contents",
   "toc_cell": false,
   "toc_position": {},
   "toc_section_display": true,
   "toc_window_display": false
  },
  "varInspector": {
   "cols": {
    "lenName": 16,
    "lenType": 16,
    "lenVar": 40
   },
   "kernels_config": {
    "python": {
     "delete_cmd_postfix": "",
     "delete_cmd_prefix": "del ",
     "library": "var_list.py",
     "varRefreshCmd": "print(var_dic_list())"
    },
    "r": {
     "delete_cmd_postfix": ") ",
     "delete_cmd_prefix": "rm(",
     "library": "var_list.r",
     "varRefreshCmd": "cat(var_dic_list()) "
    }
   },
   "types_to_exclude": [
    "module",
    "function",
    "builtin_function_or_method",
    "instance",
    "_Feature"
   ],
   "window_display": false
  }
 },
 "nbformat": 4,
 "nbformat_minor": 1
}
