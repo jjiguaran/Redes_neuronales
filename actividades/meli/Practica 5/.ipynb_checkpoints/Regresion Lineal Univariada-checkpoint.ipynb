{
 "cells": [
  {
   "cell_type": "code",
   "execution_count": 1,
   "metadata": {
    "ExecuteTime": {
     "end_time": "2020-11-07T01:41:59.033140Z",
     "start_time": "2020-11-07T01:41:58.962054Z"
    },
    "colab": {},
    "colab_type": "code",
    "id": "V_gQEh1UYYsW"
   },
   "outputs": [],
   "source": [
    "%load_ext autoreload\n",
    "%autoreload 2"
   ]
  },
  {
   "cell_type": "markdown",
   "metadata": {
    "colab_type": "text",
    "collapsed": true,
    "id": "YvbMMsiGYYsh"
   },
   "source": [
    "# Ejercicio 1 -   Regresión Lineal Univariada\n",
    "\n",
    "En este ejercicio, tu objetivo será implementar el método `forward` de un modelo de Regresión Lineal Univariada (es decir, con una sola variable de entrada). No debés implementar ningún otro método.\n",
    "\n",
    "La función se encuentra en la clase `RegresionLinealUnivariada`.\n",
    "\n",
    "Luego, ejecuta las pruebas para verificar que implementaste correctamente el modelo.\n",
    "\n",
    "\n"
   ]
  },
  {
   "cell_type": "code",
   "execution_count": 2,
   "metadata": {
    "ExecuteTime": {
     "end_time": "2020-11-07T01:42:00.121464Z",
     "start_time": "2020-11-07T01:42:00.029106Z"
    },
    "colab": {},
    "colab_type": "code",
    "id": "5wuoLy2QYYsi"
   },
   "outputs": [],
   "source": [
    "\n",
    "import numpy as np\n",
    "\n",
    "\n",
    "class RegresionLinealUnivariada:\n",
    "    '''\n",
    "    Esta clase permite entrenar modelos de regresión lineal univariada, cuya función de predicción es:\n",
    "    y = w x + b\n",
    "    Los parámetros w y b son números flotantes\n",
    "    La entrada x debe ser unidimensional.\n",
    "    '''\n",
    "\n",
    "    def __init__(self,w:float,b:float):\n",
    "        self.w=w\n",
    "        self.b=b\n",
    "    \n",
    "    def __repr__(self):\n",
    "        return f\"{self.__class__.__name__}(w = {self.w:.5f}, b = {self.b:.5f})\"\n",
    "\n",
    "    def forward(self,x:np.ndarray):\n",
    "        '''\n",
    "\n",
    "        :param x: vector 1D con valores de entrada\n",
    "        :return: la predicción x*w+b\n",
    "        '''\n",
    "        assert (len(x.shape) == 1)\n",
    "\n",
    "        n=len(x)\n",
    "        y=np.zeros(n)\n",
    "\n",
    "        # TODO calcular la salida y en base a: x, self.w, y self.b\n",
    "        y = np.dot(x,self.w) + self.b\n",
    "        \n",
    "        # FIN TODO\n",
    "        assert (len(y) == n)\n",
    "\n",
    "        return y\n",
    "    \n",
    "    def backward(self,x:np.ndarray,y:np.ndarray)->(float,float):\n",
    "        '''\n",
    "        Calcula las derivadas de los parámetros del modelo con respecto \n",
    "        al error cuadrático medio y al conjunto de datos (x,y)\n",
    "        No necesitas implementar nada aqui\n",
    "        :param x: vector 1D con los valores de entrada\n",
    "        :param y: vector 1D con los valores de salida _verdaderos_ \n",
    "        :return derivada del error respecto de w y b\n",
    "        '''\n",
    "        \n",
    "        yhat = self.forward(x)\n",
    "        # calculo de derivadas\n",
    "        dEdw = 2 * ((yhat - y) * x).mean()\n",
    "        dEdb = 2 * (yhat - y).mean()\n",
    "        return dEdw,dEdb\n",
    "\n",
    "    def fit(self,x:np.ndarray,y:np.ndarray,lr:float=0.001,epochs:int=100):\n",
    "        '''\n",
    "        No necesitas implementar nada aqui\n",
    "        Entrena el modelo (ajusta los parámetros) para minimizar el error cuadrático medio\n",
    "        :param x: vector 1D con los valores de entrada\n",
    "        :param y: vector 1D con los valores de salida _verdaderos_ \n",
    "        :param lr: velocidad de aprendizaje (learning rate)\n",
    "        :param epochs: cantidad de iteraciones de aprendizaje\n",
    "        '''\n",
    "        \n",
    "        assert (len(x.shape) == 1)\n",
    "        assert (len(y.shape) == 1)\n",
    "        assert ( len(y) == len(x))\n",
    "        n = len(x)\n",
    "\n",
    "        for i in range(epochs):\n",
    "            dEdw,dEdb=self.backward(x,y)\n",
    "            # actualizo los parámetros\n",
    "            self.w = self.w - lr * dEdw\n",
    "            self.b = self.b - lr * dEdb\n",
    "            print(f\"Epoch {i+1}/{epochs} => Error = {self.error(x,y)}\")\n",
    "        \n",
    "    def error(self,x:np.ndarray,y:np.ndarray)->float:\n",
    "        '''\n",
    "        Error cuadrático medio (MSE) del modelo\n",
    "        :param x: vector 1D con los valores de entrada\n",
    "        :param y: vector 1D con los valores de salida _verdaderos_ \n",
    "        :return flotante con el error promedio del modelo entre todos los ejemplos\n",
    "        '''\n",
    "        \n",
    "        yhat = self.forward(x)\n",
    "        d2 = (y-yhat)**2\n",
    "        return d2.mean()\n",
    "    "
   ]
  },
  {
   "cell_type": "markdown",
   "metadata": {
    "colab_type": "text",
    "id": "7Oj-lPgmYYst"
   },
   "source": [
    "# Ejecuta el siguiente bloque para verificar que la función `forward` está bien implementada"
   ]
  },
  {
   "cell_type": "code",
   "execution_count": 3,
   "metadata": {
    "ExecuteTime": {
     "end_time": "2020-11-07T01:42:01.952732Z",
     "start_time": "2020-11-07T01:42:01.520694Z"
    },
    "colab": {},
    "colab_type": "code",
    "id": "5EyHujpuYYsu"
   },
   "outputs": [
    {
     "name": "stdout",
     "output_type": "stream",
     "text": [
      "Los vectores x e y son iguales:\n",
      "x:  [0. 0. 0.]\n",
      "y:  [0. 0. 0.]\n",
      "Los vectores x e y son iguales:\n",
      "x:  [1. 2. 3.]\n",
      "y:  [1. 2. 3.]\n",
      "Los vectores x e y son iguales:\n",
      "x:  [1. 1. 1.]\n",
      "y:  [1. 1. 1.]\n",
      "Los vectores x e y son iguales:\n",
      "x:  [2. 3. 4.]\n",
      "y:  [2. 3. 4.]\n"
     ]
    }
   ],
   "source": [
    "import utils\n",
    "\n",
    "rl1=RegresionLinealUnivariada(0.0,0.0)\n",
    "x=np.array([1.0,2.0,3.0])\n",
    "y=rl1.forward(x)\n",
    "utils.verificar_igualdad(y,np.zeros(3))\n",
    "\n",
    "\n",
    "\n",
    "rl2=RegresionLinealUnivariada(1.0,0.0)\n",
    "y=rl2.forward(x)\n",
    "utils.verificar_igualdad(y,x)\n",
    "\n",
    "rl3=RegresionLinealUnivariada(0.0,1.0)\n",
    "y=rl3.forward(x)\n",
    "utils.verificar_igualdad(y,np.ones(3))\n",
    "\n",
    "\n",
    "rl4=RegresionLinealUnivariada(1.0,1.0)\n",
    "y=rl4.forward(x)\n",
    "utils.verificar_igualdad(y,np.ones(3)+x)\n"
   ]
  },
  {
   "cell_type": "markdown",
   "metadata": {
    "colab_type": "text",
    "id": "mEbEZ6a0YYs8"
   },
   "source": [
    "# Verifica que el modelo se entrena correctamente."
   ]
  },
  {
   "cell_type": "code",
   "execution_count": 4,
   "metadata": {
    "ExecuteTime": {
     "end_time": "2020-11-07T01:47:26.209059Z",
     "start_time": "2020-11-07T01:47:10.077270Z"
    },
    "colab": {},
    "colab_type": "code",
    "id": "uKOGp7eeYYs_"
   },
   "outputs": [
    {
     "name": "stdout",
     "output_type": "stream",
     "text": [
      "Inicialización aleatoria del modelo; vuelve a correr esta celda para obtener otros resultados\n",
      "Epoch 1/10 => Error = 2.58900269258462\n",
      "Epoch 2/10 => Error = 2.193780273553111\n",
      "Epoch 3/10 => Error = 2.1905599866232315\n",
      "Epoch 4/10 => Error = 2.1896784668409772\n",
      "Epoch 5/10 => Error = 2.1888117860917378\n",
      "Epoch 6/10 => Error = 2.1879460836978417\n",
      "Epoch 7/10 => Error = 2.1870812760758733\n",
      "Epoch 8/10 => Error = 2.1862173618090694\n",
      "Epoch 9/10 => Error = 2.1853543399716515\n",
      "Epoch 10/10 => Error = 2.1844922096417156\n"
     ]
    },
    {
     "data": {
      "image/png": "[encoded data removed]",
      "text/plain": [
       "<Figure size 432x288 with 1 Axes>"
      ]
     },
     "metadata": {
      "needs_background": "light"
     },
     "output_type": "display_data"
    },
    {
     "data": {
      "image/png": "[encoded data removed]",
      "text/plain": [
       "<Figure size 432x288 with 1 Axes>"
      ]
     },
     "metadata": {
      "needs_background": "light"
     },
     "output_type": "display_data"
    }
   ],
   "source": [
    "# Carga del dataset\n",
    "import os\n",
    "dataset_path=os.path.join(\"study_regression_small.csv\")\n",
    "\n",
    "\n",
    "data=np.loadtxt(open(dataset_path, \"rb\"), delimiter=\",\", skiprows=1)\n",
    "x,y=data[:,0],data[:,1]\n",
    "\n",
    "print(\"Inicialización aleatoria del modelo; vuelve a correr esta celda para obtener otros resultados\")\n",
    "w_random=np.random.rand()\n",
    "b_random=np.random.rand()\n",
    "rl=RegresionLinealUnivariada(w_random,b_random)\n",
    "\n",
    "# visualiza el modelo inicial aleatorio y los datos\n",
    "utils.plot_regresion_lineal_univariada(rl.w,rl.b,x,y,title=\"Modelo Inicial: \")\n",
    "\n",
    "# entrena el modelo\n",
    "rl.fit(x,y,lr=0.001,epochs=10)\n",
    "\n",
    "#visualiza el modelo entrenado\n",
    "utils.plot_regresion_lineal_univariada(rl.w,rl.b,x,y,title=\"Modelo Final: \")\n"
   ]
  },
  {
   "cell_type": "code",
   "execution_count": null,
   "metadata": {},
   "outputs": [],
   "source": []
  }
 ],
 "metadata": {
  "colab": {
   "collapsed_sections": [],
   "name": "Ejercicio 1 - Regresion Lineal Univariada.ipynb",
   "provenance": []
  },
  "kernelspec": {
   "display_name": "Python 3",
   "language": "python",
   "name": "python3"
  },
  "language_info": {
   "codemirror_mode": {
    "name": "ipython",
    "version": 3
   },
   "file_extension": ".py",
   "mimetype": "text/x-python",
   "name": "python",
   "nbconvert_exporter": "python",
   "pygments_lexer": "ipython3",
   "version": "3.7.1"
  },
  "toc": {
   "base_numbering": 1,
   "nav_menu": {},
   "number_sections": true,
   "sideBar": true,
   "skip_h1_title": false,
   "title_cell": "Table of Contents",
   "title_sidebar": "Contents",
   "toc_cell": false,
   "toc_position": {},
   "toc_section_display": true,
   "toc_window_display": false
  },
  "varInspector": {
   "cols": {
    "lenName": 16,
    "lenType": 16,
    "lenVar": 40
   },
   "kernels_config": {
    "python": {
     "delete_cmd_postfix": "",
     "delete_cmd_prefix": "del ",
     "library": "var_list.py",
     "varRefreshCmd": "print(var_dic_list())"
    },
    "r": {
     "delete_cmd_postfix": ") ",
     "delete_cmd_prefix": "rm(",
     "library": "var_list.r",
     "varRefreshCmd": "cat(var_dic_list()) "
    }
   },
   "types_to_exclude": [
    "module",
    "function",
    "builtin_function_or_method",
    "instance",
    "_Feature"
   ],
   "window_display": false
  }
 },
 "nbformat": 4,
 "nbformat_minor": 1
}
