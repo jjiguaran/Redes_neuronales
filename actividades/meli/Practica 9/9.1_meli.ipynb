{
 "cells": [
  {
   "cell_type": "code",
   "execution_count": 42,
   "metadata": {},
   "outputs": [],
   "source": [
    "# comando de Jupyter para que las imagenes se muestren automaticamente \n",
    "%matplotlib inline\n",
    "\n",
    "import tensorflow as tf\n",
    "import keras\n",
    "import numpy as np\n",
    "import matplotlib.pyplot as plt\n",
    "\n",
    "from sklearn.metrics import classification_report, confusion_matrix\n",
    "from keras.layers.convolutional import Conv2D, MaxPooling2D\n",
    "from keras.models import Sequential\n",
    "from keras.layers import Dense, Activation, Flatten\n",
    "from keras.preprocessing.image import ImageDataGenerator\n",
    "from keras.callbacks import EarlyStopping"
   ]
  },
  {
   "cell_type": "markdown",
   "metadata": {},
   "source": [
    "# Carga Datos"
   ]
  },
  {
   "cell_type": "code",
   "execution_count": 43,
   "metadata": {},
   "outputs": [],
   "source": [
    "from keras.datasets import cifar10\n",
    "(x_train, y_train), (x_test, y_test) = cifar10.load_data()"
   ]
  },
  {
   "cell_type": "code",
   "execution_count": 44,
   "metadata": {},
   "outputs": [
    {
     "name": "stdout",
     "output_type": "stream",
     "text": [
      "Train: X=(50000, 32, 32, 3), y=(50000, 1)\n",
      "Test: X=(10000, 32, 32, 3), y=(10000, 1)\n"
     ]
    }
   ],
   "source": [
    "# summarize loaded dataset\n",
    "print('Train: X=%s, y=%s' % (x_train.shape, y_train.shape))\n",
    "print('Test: X=%s, y=%s' % (x_test.shape, y_test.shape))"
   ]
  },
  {
   "cell_type": "code",
   "execution_count": 45,
   "metadata": {},
   "outputs": [],
   "source": [
    "n,h,w,c = x_train.shape\n",
    "classes=int(y_train.max()+1)"
   ]
  },
  {
   "cell_type": "markdown",
   "metadata": {},
   "source": [
    "# Aumento de clases"
   ]
  },
  {
   "cell_type": "code",
   "execution_count": 46,
   "metadata": {},
   "outputs": [],
   "source": [
    "#datagen = ImageDataGenerator(rotation_range=20,\n",
    "#                             rescale=1./255,\n",
    "#                             horizontal_flip=True,\n",
    "#                             )"
   ]
  },
  {
   "cell_type": "code",
   "execution_count": 47,
   "metadata": {},
   "outputs": [],
   "source": [
    "datagen = ImageDataGenerator(\n",
    "    featurewise_center=True,\n",
    "    featurewise_std_normalization=True,\n",
    "    rotation_range=20,\n",
    "    width_shift_range=0.2,\n",
    "    height_shift_range=0.2,\n",
    "    horizontal_flip=True)"
   ]
  },
  {
   "cell_type": "code",
   "execution_count": 48,
   "metadata": {},
   "outputs": [],
   "source": [
    "# Aca hacerlo por canal\n",
    "for i in range(c):\n",
    "    x_train = (x_train - x_train.mean()) / x_train.std()\n",
    "    x_test = (x_test - x_test.mean()) / x_test.std()"
   ]
  },
  {
   "cell_type": "code",
   "execution_count": 49,
   "metadata": {},
   "outputs": [],
   "source": [
    "generator = datagen.flow(x_train, y_train, batch_size=32)"
   ]
  },
  {
   "cell_type": "code",
   "execution_count": 50,
   "metadata": {},
   "outputs": [],
   "source": [
    "input_shape = (32, 32, 3)"
   ]
  },
  {
   "cell_type": "markdown",
   "metadata": {},
   "source": [
    "## Modelo 1"
   ]
  },
  {
   "cell_type": "code",
   "execution_count": 51,
   "metadata": {},
   "outputs": [],
   "source": [
    "es = EarlyStopping(monitor='val_acc', mode='min', patience=10, verbose=1)\n",
    "\n",
    "model = Sequential()\n",
    "model.add(Conv2D(64, kernel_size = 7, activation='relu', input_shape=(input_shape), strides = 1))\n",
    "model.add(MaxPooling2D(pool_size=(2,2), strides = 2))\n",
    "model.add(Flatten())\n",
    "model.add(Dense(classes, activation='softmax'))\n",
    "\n",
    "model.compile(\n",
    "  optimizer=keras.optimizers.Adam(lr=0.001,beta_1=0.9,beta_2=0.999,amsgrad=False), \n",
    "  loss='sparse_categorical_crossentropy', \n",
    "  # metricas para ir calculando en cada iteracion o batch \n",
    "  # Agregamos el accuracy del modelo\n",
    "  metrics=['accuracy'], \n",
    ")"
   ]
  },
  {
   "cell_type": "code",
   "execution_count": 52,
   "metadata": {},
   "outputs": [
    {
     "name": "stdout",
     "output_type": "stream",
     "text": [
      "Model: \"sequential_6\"\n",
      "_________________________________________________________________\n",
      "Layer (type)                 Output Shape              Param #   \n",
      "=================================================================\n",
      "conv2d_5 (Conv2D)            (None, 26, 26, 64)        9472      \n",
      "_________________________________________________________________\n",
      "max_pooling2d_5 (MaxPooling2 (None, 13, 13, 64)        0         \n",
      "_________________________________________________________________\n",
      "flatten_5 (Flatten)          (None, 10816)             0         \n",
      "_________________________________________________________________\n",
      "dense_5 (Dense)              (None, 10)                108170    \n",
      "=================================================================\n",
      "Total params: 117,642\n",
      "Trainable params: 117,642\n",
      "Non-trainable params: 0\n",
      "_________________________________________________________________\n",
      "None\n"
     ]
    }
   ],
   "source": [
    "print(model.summary())"
   ]
  },
  {
   "cell_type": "code",
   "execution_count": 53,
   "metadata": {
    "scrolled": true
   },
   "outputs": [
    {
     "name": "stdout",
     "output_type": "stream",
     "text": [
      "Epoch 1/100\n"
     ]
    },
    {
     "name": "stderr",
     "output_type": "stream",
     "text": [
      "C:\\Users\\dalessam\\AppData\\Local\\Continuum\\anaconda3\\envs\\deep_env\\lib\\site-packages\\keras_preprocessing\\image\\image_data_generator.py:716: UserWarning: This ImageDataGenerator specifies `featurewise_center`, but it hasn't been fit on any training data. Fit it first by calling `.fit(numpy_data)`.\n",
      "  warnings.warn('This ImageDataGenerator specifies '\n",
      "C:\\Users\\dalessam\\AppData\\Local\\Continuum\\anaconda3\\envs\\deep_env\\lib\\site-packages\\keras_preprocessing\\image\\image_data_generator.py:724: UserWarning: This ImageDataGenerator specifies `featurewise_std_normalization`, but it hasn't been fit on any training data. Fit it first by calling `.fit(numpy_data)`.\n",
      "  warnings.warn('This ImageDataGenerator specifies '\n"
     ]
    },
    {
     "name": "stdout",
     "output_type": "stream",
     "text": [
      "49/48 [==============================] - 4s 86ms/step - loss: 2.1408 - acc: 0.2270 - val_loss: 1.9105 - val_acc: 0.2987\n",
      "Epoch 2/100\n",
      "49/48 [==============================] - 3s 69ms/step - loss: 1.9630 - acc: 0.2876 - val_loss: 1.8251 - val_acc: 0.3476\n",
      "Epoch 3/100\n",
      "49/48 [==============================] - 3s 65ms/step - loss: 1.9523 - acc: 0.3099 - val_loss: 1.8233 - val_acc: 0.3588\n",
      "Epoch 4/100\n",
      "49/48 [==============================] - 3s 66ms/step - loss: 1.9363 - acc: 0.3023 - val_loss: 1.7866 - val_acc: 0.3695\n",
      "Epoch 5/100\n",
      "49/48 [==============================] - 3s 71ms/step - loss: 1.9396 - acc: 0.3176 - val_loss: 1.7557 - val_acc: 0.3667\n",
      "Epoch 6/100\n",
      "49/48 [==============================] - 3s 69ms/step - loss: 1.8859 - acc: 0.3202 - val_loss: 1.6565 - val_acc: 0.4126\n",
      "Epoch 7/100\n",
      "49/48 [==============================] - 4s 72ms/step - loss: 1.8095 - acc: 0.3457 - val_loss: 1.7282 - val_acc: 0.3990\n",
      "Epoch 8/100\n",
      "49/48 [==============================] - 3s 68ms/step - loss: 1.8412 - acc: 0.3476 - val_loss: 1.6623 - val_acc: 0.4118\n",
      "Epoch 9/100\n",
      "49/48 [==============================] - 3s 70ms/step - loss: 1.8286 - acc: 0.3482 - val_loss: 1.6162 - val_acc: 0.4338\n",
      "Epoch 10/100\n",
      "49/48 [==============================] - 3s 70ms/step - loss: 1.8174 - acc: 0.3514 - val_loss: 1.6578 - val_acc: 0.4179\n",
      "Epoch 11/100\n",
      "49/48 [==============================] - 4s 74ms/step - loss: 1.7448 - acc: 0.3763 - val_loss: 1.6641 - val_acc: 0.4154\n",
      "Epoch 00011: early stopping\n"
     ]
    },
    {
     "data": {
      "text/plain": [
       "<keras.callbacks.History at 0x291807d2e10>"
      ]
     },
     "execution_count": 53,
     "metadata": {},
     "output_type": "execute_result"
    }
   ],
   "source": [
    "model.fit_generator(generator, steps_per_epoch=len(generator)/32, epochs=100, validation_data=(x_test,y_test), callbacks=[es])"
   ]
  },
  {
   "cell_type": "code",
   "execution_count": 54,
   "metadata": {},
   "outputs": [
    {
     "data": {
      "text/plain": [
       "[1.7867029775619507, 0.3673]"
      ]
     },
     "execution_count": 54,
     "metadata": {},
     "output_type": "execute_result"
    }
   ],
   "source": [
    "test_generator = datagen.flow(x_test,y_test,batch_size=32)\n",
    "model.evaluate_generator(test_generator)"
   ]
  },
  {
   "cell_type": "markdown",
   "metadata": {},
   "source": [
    "## Modelo 2"
   ]
  },
  {
   "cell_type": "code",
   "execution_count": 57,
   "metadata": {},
   "outputs": [],
   "source": [
    "es = EarlyStopping(monitor='val_acc', mode='min', patience=10, verbose=1)\n",
    "\n",
    "conv_filters=32\n",
    "dense_filters=64\n",
    "\n",
    "model = Sequential()\n",
    "model.add(Conv2D(conv_filters,(3,3),activation=None,input_shape=input_shape))\n",
    "model.add(Activation(\"relu\"))\n",
    "model.add(Flatten())\n",
    "model.add(Dense(dense_filters,activation=None))\n",
    "model.add(Activation(\"relu\"))\n",
    "model.add(Dense(classes,activation=\"softmax\"))\n",
    "\n",
    "\n",
    "model.compile(\n",
    "  optimizer=keras.optimizers.Adam(lr=0.001,beta_1=0.9,beta_2=0.999,amsgrad=False), \n",
    "  loss='sparse_categorical_crossentropy', \n",
    "  # metricas para ir calculando en cada iteracion o batch \n",
    "  # Agregamos el accuracy del modelo\n",
    "  metrics=['accuracy'], \n",
    ")"
   ]
  },
  {
   "cell_type": "code",
   "execution_count": 58,
   "metadata": {},
   "outputs": [
    {
     "name": "stdout",
     "output_type": "stream",
     "text": [
      "Epoch 1/100\n"
     ]
    },
    {
     "name": "stderr",
     "output_type": "stream",
     "text": [
      "C:\\Users\\dalessam\\AppData\\Local\\Continuum\\anaconda3\\envs\\deep_env\\lib\\site-packages\\keras_preprocessing\\image\\image_data_generator.py:716: UserWarning: This ImageDataGenerator specifies `featurewise_center`, but it hasn't been fit on any training data. Fit it first by calling `.fit(numpy_data)`.\n",
      "  warnings.warn('This ImageDataGenerator specifies '\n",
      "C:\\Users\\dalessam\\AppData\\Local\\Continuum\\anaconda3\\envs\\deep_env\\lib\\site-packages\\keras_preprocessing\\image\\image_data_generator.py:724: UserWarning: This ImageDataGenerator specifies `featurewise_std_normalization`, but it hasn't been fit on any training data. Fit it first by calling `.fit(numpy_data)`.\n",
      "  warnings.warn('This ImageDataGenerator specifies '\n"
     ]
    },
    {
     "name": "stdout",
     "output_type": "stream",
     "text": [
      "49/48 [==============================] - 5s 108ms/step - loss: 2.2745 - acc: 0.1958 - val_loss: 2.0248 - val_acc: 0.2672\n",
      "Epoch 2/100\n",
      "49/48 [==============================] - 4s 77ms/step - loss: 2.0063 - acc: 0.2793 - val_loss: 1.8787 - val_acc: 0.3154\n",
      "Epoch 3/100\n",
      "49/48 [==============================] - 4s 75ms/step - loss: 1.9408 - acc: 0.3017 - val_loss: 1.8152 - val_acc: 0.3417\n",
      "Epoch 4/100\n",
      "49/48 [==============================] - 4s 72ms/step - loss: 1.9261 - acc: 0.2946 - val_loss: 1.7628 - val_acc: 0.3553\n",
      "Epoch 5/100\n",
      "49/48 [==============================] - 4s 78ms/step - loss: 1.8625 - acc: 0.3202 - val_loss: 1.7327 - val_acc: 0.3718\n",
      "Epoch 6/100\n",
      "49/48 [==============================] - 4s 75ms/step - loss: 1.7927 - acc: 0.3450 - val_loss: 1.7517 - val_acc: 0.3699\n",
      "Epoch 7/100\n",
      "49/48 [==============================] - 4s 73ms/step - loss: 1.7649 - acc: 0.3533 - val_loss: 1.7010 - val_acc: 0.3831\n",
      "Epoch 8/100\n",
      "49/48 [==============================] - 3s 69ms/step - loss: 1.7681 - acc: 0.3533 - val_loss: 1.6188 - val_acc: 0.4226\n",
      "Epoch 9/100\n",
      "49/48 [==============================] - 4s 73ms/step - loss: 1.7724 - acc: 0.3533 - val_loss: 1.6266 - val_acc: 0.4103\n",
      "Epoch 10/100\n",
      "49/48 [==============================] - 4s 78ms/step - loss: 1.7364 - acc: 0.3801 - val_loss: 1.6460 - val_acc: 0.3997\n",
      "Epoch 11/100\n",
      "49/48 [==============================] - 3s 71ms/step - loss: 1.7629 - acc: 0.3673 - val_loss: 1.5595 - val_acc: 0.4321\n",
      "Epoch 00011: early stopping\n"
     ]
    },
    {
     "data": {
      "text/plain": [
       "<keras.callbacks.History at 0x291803d1d30>"
      ]
     },
     "execution_count": 58,
     "metadata": {},
     "output_type": "execute_result"
    }
   ],
   "source": [
    "model.fit_generator(generator, steps_per_epoch=len(generator)/32, epochs=100, validation_data=(x_test,y_test), callbacks=[es])"
   ]
  },
  {
   "cell_type": "code",
   "execution_count": 59,
   "metadata": {},
   "outputs": [
    {
     "data": {
      "text/plain": [
       "[1.6818044284820557, 0.3846]"
      ]
     },
     "execution_count": 59,
     "metadata": {},
     "output_type": "execute_result"
    }
   ],
   "source": [
    "test_generator = datagen.flow(x_test,y_test,batch_size=32)\n",
    "model.evaluate_generator(test_generator)"
   ]
  },
  {
   "cell_type": "code",
   "execution_count": null,
   "metadata": {},
   "outputs": [],
   "source": []
  }
 ],
 "metadata": {
  "kernelspec": {
   "display_name": "Python 3",
   "language": "python",
   "name": "python3"
  },
  "language_info": {
   "codemirror_mode": {
    "name": "ipython",
    "version": 3
   },
   "file_extension": ".py",
   "mimetype": "text/x-python",
   "name": "python",
   "nbconvert_exporter": "python",
   "pygments_lexer": "ipython3",
   "version": "3.7.1"
  },
  "toc": {
   "base_numbering": 1,
   "nav_menu": {},
   "number_sections": true,
   "sideBar": true,
   "skip_h1_title": false,
   "title_cell": "Table of Contents",
   "title_sidebar": "Contents",
   "toc_cell": false,
   "toc_position": {},
   "toc_section_display": true,
   "toc_window_display": false
  },
  "varInspector": {
   "cols": {
    "lenName": 16,
    "lenType": 16,
    "lenVar": 40
   },
   "kernels_config": {
    "python": {
     "delete_cmd_postfix": "",
     "delete_cmd_prefix": "del ",
     "library": "var_list.py",
     "varRefreshCmd": "print(var_dic_list())"
    },
    "r": {
     "delete_cmd_postfix": ") ",
     "delete_cmd_prefix": "rm(",
     "library": "var_list.r",
     "varRefreshCmd": "cat(var_dic_list()) "
    }
   },
   "types_to_exclude": [
    "module",
    "function",
    "builtin_function_or_method",
    "instance",
    "_Feature"
   ],
   "window_display": false
  }
 },
 "nbformat": 4,
 "nbformat_minor": 4
}
