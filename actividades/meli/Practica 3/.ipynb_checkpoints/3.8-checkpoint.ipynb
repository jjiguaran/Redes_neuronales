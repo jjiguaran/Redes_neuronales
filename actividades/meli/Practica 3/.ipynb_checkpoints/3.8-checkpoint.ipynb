{
 "cells": [
  {
   "cell_type": "markdown",
   "metadata": {},
   "source": [
    "El archivo Quimil.csv posee información diaria de ocho parámetros climáticos junto con la cantidad de radiación solar observada (la última columna).\n",
    "Se desea entrenar una red neuronal utilizando el algoritmo backpropagation para encontrar un modelo que sea capaz de predecir la radiación solar de un determinado día, al conocerse los valores de los datos climáticos actuales.\n",
    "a) Utilice el dataset para llevar a cabo el entrenamiento. Ejecute varias pruebas para conseguir un modelo cuyo error total sea lo más bajo posible.\n",
    "b) Utilice el modelo conseguido en a) para predecir la radiación solar diaria de los datos usados en el entrenamiento. ¿Cuál es el día que menor error se obtuvo en la predicción? ¿Y el día con máximo error?\n",
    "c) Conseguido el modelo ¿Qué predice la red conseguida sobre los datos que están en el dataset Quimil_pred.csv?\n",
    "d) ¿Al entrenar usando una única neurona en la capa oculta que sucede con la predicción de la red? Grafique la predicción de la red con los datos usados para el entrenamiento.\n",
    "e) ¿Y si se usan dos? ¿Y si se usan tres?\n",
    "f) ¿Qué sucede a medida que se van agregando más neuronas a la capa oculta? Explique el fenómeno observado."
   ]
  },
  {
   "cell_type": "markdown",
   "metadata": {},
   "source": [
    "La funcion de activacion de la salida van a ser purelin. En la capa de salida vamos a tener una sola capa porque queremos que nos de un unico valor. Con este dataset anda bastante bien y da resultado aceptable. \n",
    "\n",
    "\n",
    "d) Si se usara una sola capa oculta lo que hago es trazar un unico hiperplano. Si fuera sigmoide daran todos los datos cercanos a 0 o 1. La capa de salida recibe muchos valores cercanos a 0 y muchos cercanos a 1 y la respuesta da A o B. Al agregar una neurona recibe una combinacion de 0 y 1 y la prediccion oscila en 4 valores. Si tenes 3 neuronas va a haber 8 posibbles valores y con 4 va a haber 16. Cuanto mas grande sea el numero de neuronas en la capa oculta mas posibles valores en rango en cuanto a rango me va a dar respuesta. Si hay 10 me da 2^10 posibles respuestas, en funcion de eso uso la cantidad de neuronas en la capa oculta, para ver cuan preciso o cuan general."
   ]
  },
  {
   "cell_type": "code",
   "execution_count": null,
   "metadata": {},
   "outputs": [],
   "source": [
    "La red de mas de una capa oculta dejaba de tener sentido para cortar la linealidad."
   ]
  }
 ],
 "metadata": {
  "kernelspec": {
   "display_name": "Python 3",
   "language": "python",
   "name": "python3"
  },
  "language_info": {
   "codemirror_mode": {
    "name": "ipython",
    "version": 3
   },
   "file_extension": ".py",
   "mimetype": "text/x-python",
   "name": "python",
   "nbconvert_exporter": "python",
   "pygments_lexer": "ipython3",
   "version": "3.7.1"
  }
 },
 "nbformat": 4,
 "nbformat_minor": 2
}
