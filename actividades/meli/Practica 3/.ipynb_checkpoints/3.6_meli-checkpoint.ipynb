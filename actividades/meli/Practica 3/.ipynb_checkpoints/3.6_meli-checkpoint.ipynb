{
 "cells": [
  {
   "cell_type": "markdown",
   "metadata": {},
   "source": [
    "Dada la base de datos iris y sus características conocidas ¿Cuántas neuronas en la capa oculta son necesarias, como mínimo, en un multiperceptrón para lograr una clasificación aceptable? Realice un entrenamiento con la arquitectura elegida usando el 70% de los datos como conjunto de entrenamiento y mida la performance del modelo con el 30% restante."
   ]
  },
  {
   "cell_type": "code",
   "execution_count": 1,
   "metadata": {},
   "outputs": [],
   "source": [
    "import pandas as pd\n",
    "import numpy as np\n",
    "\n",
    "from sklearn.model_selection import train_test_split\n",
    "from sklearn.metrics import accuracy_score\n",
    "from bpn import train, plot"
   ]
  },
  {
   "cell_type": "code",
   "execution_count": 2,
   "metadata": {},
   "outputs": [],
   "source": [
    "iris = pd.read_csv('../Practica 1/Iris.csv', sep = \";\")"
   ]
  },
  {
   "cell_type": "code",
   "execution_count": 3,
   "metadata": {},
   "outputs": [],
   "source": [
    "# Se unen las clases virginica y versicolor\n",
    "iris[\"Clase\"]= iris[\"Clase\"].replace(\"Iris-setosa\", 0)\n",
    "iris[\"Clase\"]= iris[\"Clase\"].replace(\"Iris-versicolor\", 1)\n",
    "iris[\"Clase\"]= iris[\"Clase\"].replace(\"Iris-virginica\", 2)"
   ]
  },
  {
   "cell_type": "code",
   "execution_count": 4,
   "metadata": {},
   "outputs": [
    {
     "data": {
      "text/html": [
       "<div>\n",
       "<style scoped>\n",
       "    .dataframe tbody tr th:only-of-type {\n",
       "        vertical-align: middle;\n",
       "    }\n",
       "\n",
       "    .dataframe tbody tr th {\n",
       "        vertical-align: top;\n",
       "    }\n",
       "\n",
       "    .dataframe thead th {\n",
       "        text-align: right;\n",
       "    }\n",
       "</style>\n",
       "<table border=\"1\" class=\"dataframe\">\n",
       "  <thead>\n",
       "    <tr style=\"text-align: right;\">\n",
       "      <th></th>\n",
       "      <th>sepal length</th>\n",
       "      <th>sepal width</th>\n",
       "      <th>petal length</th>\n",
       "      <th>petal width</th>\n",
       "      <th>Clase</th>\n",
       "    </tr>\n",
       "  </thead>\n",
       "  <tbody>\n",
       "    <tr>\n",
       "      <th>0</th>\n",
       "      <td>5.1</td>\n",
       "      <td>3.5</td>\n",
       "      <td>1.4</td>\n",
       "      <td>0.2</td>\n",
       "      <td>0</td>\n",
       "    </tr>\n",
       "    <tr>\n",
       "      <th>1</th>\n",
       "      <td>4.9</td>\n",
       "      <td>3.0</td>\n",
       "      <td>1.4</td>\n",
       "      <td>0.2</td>\n",
       "      <td>0</td>\n",
       "    </tr>\n",
       "    <tr>\n",
       "      <th>2</th>\n",
       "      <td>4.7</td>\n",
       "      <td>3.2</td>\n",
       "      <td>1.3</td>\n",
       "      <td>0.2</td>\n",
       "      <td>0</td>\n",
       "    </tr>\n",
       "    <tr>\n",
       "      <th>3</th>\n",
       "      <td>4.6</td>\n",
       "      <td>3.1</td>\n",
       "      <td>1.5</td>\n",
       "      <td>0.2</td>\n",
       "      <td>0</td>\n",
       "    </tr>\n",
       "    <tr>\n",
       "      <th>4</th>\n",
       "      <td>5.0</td>\n",
       "      <td>3.6</td>\n",
       "      <td>1.4</td>\n",
       "      <td>0.2</td>\n",
       "      <td>0</td>\n",
       "    </tr>\n",
       "  </tbody>\n",
       "</table>\n",
       "</div>"
      ],
      "text/plain": [
       "   sepal length  sepal width  petal length  petal width  Clase\n",
       "0           5.1          3.5           1.4          0.2      0\n",
       "1           4.9          3.0           1.4          0.2      0\n",
       "2           4.7          3.2           1.3          0.2      0\n",
       "3           4.6          3.1           1.5          0.2      0\n",
       "4           5.0          3.6           1.4          0.2      0"
      ]
     },
     "execution_count": 4,
     "metadata": {},
     "output_type": "execute_result"
    }
   ],
   "source": [
    "iris.head()"
   ]
  },
  {
   "cell_type": "code",
   "execution_count": 5,
   "metadata": {},
   "outputs": [],
   "source": [
    "train_set, test_set = train_test_split(iris, test_size=0.3, random_state=320)"
   ]
  },
  {
   "cell_type": "code",
   "execution_count": 6,
   "metadata": {},
   "outputs": [
    {
     "name": "stderr",
     "output_type": "stream",
     "text": [
      "C:\\Users\\dalessam\\AppData\\Local\\Continuum\\anaconda3\\lib\\site-packages\\ipykernel_launcher.py:3: SettingWithCopyWarning: \n",
      "A value is trying to be set on a copy of a slice from a DataFrame.\n",
      "Try using .loc[row_indexer,col_indexer] = value instead\n",
      "\n",
      "See the caveats in the documentation: http://pandas.pydata.org/pandas-docs/stable/indexing.html#indexing-view-versus-copy\n",
      "  This is separate from the ipykernel package so we can avoid doing imports until\n"
     ]
    }
   ],
   "source": [
    "P = train_set[['sepal length', 'sepal width', 'petal length', 'petal width']].values\n",
    "\n",
    "train_set['value'] = 1\n",
    "T = train_set.pivot(columns = 'Clase', values = 'value').fillna(0).values\n",
    "\n",
    "T2 = train_set[['Clase']].values\n",
    " "
   ]
  },
  {
   "cell_type": "code",
   "execution_count": 7,
   "metadata": {},
   "outputs": [],
   "source": [
    "#Parámetros:\n",
    "#       P: es una matriz con los datos de los patrones con los cuales\n",
    "#           entrenar la red neuronal. Los ejemplos deben estar en filas.\n",
    "#       T: es una matriz con la salida esperada para cada ejemplo. Esta matriz \n",
    "#           debe tener tantas columnas como neuronas de salida tenga la red\n",
    "#       T2: clases con su valor original (0 .. n-1) (Solo es utilizado para graficar)\n",
    "#       ocultas: la cantidad de neuronas ocultas que tendrá la red    \n",
    "#       alfa: velocidad de aprendizaje\n",
    "#       momento: término de momento\n",
    "#       fun_oculta: función de activación en las neuronas de la capa oculta\n",
    "#       fun_salida: función de activación en las neuronas de la capa de salida\n",
    "#       MAX_ITERA: la cantidad máxima de iteraciones en las cuales se va a\n",
    "#           ejecutar el algoritmo\n",
    "#       cota_error: diferencia de error (entre una iteración y la anterior) mínima aceptada para finalizar con el algoritmo\n",
    "#       dibujar: si vale True (y los datos son en dos dimensiones) dibuja los\n",
    "#           ejemplos y las rectas discriminantes.\n",
    "#\n",
    "#Devuelve:\n",
    "#       w_O: la matriz de pesos de las neuronas de la capa oculta\n",
    "#       b_O: vector de bias de las neuronas de la capa oculta\n",
    "#       w_S: la matriz de pesos de las neuronas de la capa de salida\n",
    "#       b_S: vector de bias de las neuronas de la capa de salida\n",
    "#       ite: número de iteraciones ejecutadas durante el algoritmo\n",
    "#       error_prom: errorPromedio finalizado el algoritmo\n",
    "#\n",
    "#Ejemplo de uso:\n",
    "#       (w_O, b_O, w_S, b_S, ite, error_prom) = train(P, T, T2, 10, 0.25, 1.2, 'logsig', 'tansig', 25000, 0.001, True);"
   ]
  },
  {
   "cell_type": "code",
   "execution_count": 8,
   "metadata": {},
   "outputs": [
    {
     "name": "stdout",
     "output_type": "stream",
     "text": [
      "1 0.8310180930698453 0.16908190693015468\n",
      "2 0.7716511991631346 0.05936689390671068\n",
      "3 0.7375616043097791 0.0340895948533555\n",
      "4 0.7159918667820782 0.021569737527700972\n",
      "5 0.7001514144121083 0.015840452369969893\n",
      "6 0.6885174291025349 0.01163398530957338\n",
      "7 0.6806086733979807 0.007908755704554182\n",
      "8 0.6754533001216558 0.0051553732763248705\n",
      "9 0.672135114768886 0.0033181853527698424\n",
      "10 0.6700011573573234 0.002133957411562637\n",
      "11 0.6686243926002636 0.001376764757059723\n",
      "12 0.6677325628441292 0.0008918297561344435\n",
      "13 0.6671528349981516 0.0005797278459775956\n",
      "14 0.6667750948959534 0.0003777401021981541\n",
      "15 0.6665287363694697 0.00024635852648369205\n",
      "16 0.6663681669841341 0.00016056938533559606\n",
      "17 0.6662637495990239 0.00010441738511024479\n",
      "18 0.666196105795511 6.764380351287347e-05\n",
      "19 0.666152503879777 4.360191573404837e-05\n",
      "20 0.666124548707195 2.7955172582028176e-05\n",
      "21 0.6661066917198639 1.7856987331033025e-05\n",
      "22 0.6660952625328382 1.1429187025679965e-05\n",
      "23 0.666087835116361 7.427416477190363e-06\n",
      "24 0.6660828104173601 5.024699000988342e-06\n",
      "25 0.6660791400461279 3.670371232167291e-06\n",
      "26 0.6660761425266376 2.9975194902887026e-06\n",
      "27 0.6660733806516397 2.76187499792524e-06\n",
      "28 0.6660705793903083 2.8012613313421753e-06\n",
      "29 0.6660675708341035 3.008556204830981e-06\n",
      "30 0.6660642572424266 3.3135916769344576e-06\n",
      "31 0.6660605862452199 3.6709972066617524e-06\n",
      "32 0.6660565342327759 4.052012444022424e-06\n",
      "33 0.6660520952700363 4.438962739605756e-06\n",
      "34 0.6660472737427824 4.821527253895397e-06\n",
      "35 0.6660420795251007 5.194217681636637e-06\n",
      "36 0.666036524848425 5.5546766757341715e-06\n",
      "37 0.6660306223160227 5.902532402290994e-06\n",
      "38 0.6660243836851353 6.23863088744514e-06\n",
      "39 0.666017819160041 6.564525094288065e-06\n",
      "40 0.6660109370216841 6.882138356867351e-06\n",
      "41 0.6660037434757167 7.193545967454362e-06\n",
      "42 0.6659962426392217 7.500836494922503e-06\n",
      "43 0.6659884366126445 7.8060265772395e-06\n",
      "44 0.6659803256014682 8.111011176259453e-06\n",
      "45 0.665971908064463 8.41753700520087e-06\n",
      "46 0.665963180873755 8.727190708102128e-06\n",
      "47 0.6659541394776891 9.041396065834206e-06\n",
      "48 0.6659447780613375 9.361416351660878e-06\n",
      "49 0.6659350897021336 9.688359203896546e-06\n",
      "50 0.6659250665198312 1.0023182302365541e-05\n",
      "51 0.6659146998211587 1.0366698672492625e-05\n",
      "52 0.6659039802402417 1.071958091702907e-05\n",
      "53 0.6658928978763419 1.1082363899794778e-05\n",
      "54 0.6658814424307051 1.1455445636743278e-05\n",
      "55 0.665869603344438 1.1839086267118049e-05\n",
      "56 0.6658573699393749 1.2233405063066805e-05\n",
      "57 0.6658447315638653 1.263837550968816e-05\n",
      "58 0.6658316777453215 1.305381854377341e-05\n",
      "59 0.6658181983512694 1.3479394052051674e-05\n",
      "60 0.6658042837604733 1.3914590796137993e-05\n"
     ]
    }
   ],
   "source": [
    "(w_O, b_O, w_S, b_S, ite, error_prom) = train(P, T, T2, 3, 0.01, 0, 'tansig', 'logsig', 60, 0.0001, True);"
   ]
  },
  {
   "cell_type": "code",
   "execution_count": 9,
   "metadata": {},
   "outputs": [
    {
     "data": {
      "text/plain": [
       "(array([[ 0.09914532,  0.2910458 ,  0.06147725,  0.02159611],\n",
       "        [-0.21191578,  0.07020115, -0.19057778,  0.3345684 ],\n",
       "        [ 0.41908659, -0.14564883,  0.27513638,  0.02529702]]),\n",
       " array([[ 0.07626543],\n",
       "        [ 0.38779503],\n",
       "        [-0.43787675]]),\n",
       " array([[-0.57374515, -0.34740648,  0.04813756],\n",
       "        [-0.17096611,  0.39595016,  0.04955926],\n",
       "        [ 0.27229715,  0.3337436 ,  0.099804  ]]),\n",
       " array([[-0.66910975],\n",
       "        [-0.3021158 ],\n",
       "        [-0.54670024]]),\n",
       " 60,\n",
       " 0.6658042837604733)"
      ]
     },
     "execution_count": 9,
     "metadata": {},
     "output_type": "execute_result"
    }
   ],
   "source": [
    "w_O, b_O, w_S, b_S, ite, error_prom"
   ]
  },
  {
   "cell_type": "code",
   "execution_count": 10,
   "metadata": {},
   "outputs": [],
   "source": [
    "testing = test_set[['sepal length', 'sepal width', 'petal length', 'petal width']]"
   ]
  },
  {
   "cell_type": "code",
   "execution_count": 11,
   "metadata": {},
   "outputs": [],
   "source": [
    "def logsig(x):\n",
    "    return 1 / (1 + np.exp(-x))\n",
    "\n",
    "def dlogsig(x):\n",
    "    return logsig(x) * (1 - logsig(x))\n",
    "\n",
    "def tansig(x):\n",
    "    return np.tanh(x)\n",
    "\n",
    "def dtansig(x):\n",
    "    return 1.0 - np.square(tansig(x))"
   ]
  },
  {
   "cell_type": "code",
   "execution_count": 17,
   "metadata": {},
   "outputs": [
    {
     "data": {
      "text/plain": [
       "array([[0.29237627, 0.27460046, 0.27700487, 0.29206897, 0.28023761,\n",
       "        0.2848373 , 0.2924747 , 0.29693675, 0.28930945, 0.29721628,\n",
       "        0.27416126, 0.27741349, 0.27235767, 0.29048399, 0.28885235,\n",
       "        0.27739734, 0.29107304, 0.27875005, 0.29025243, 0.29171409,\n",
       "        0.27602737, 0.28039053, 0.27313344, 0.29272007, 0.28936407,\n",
       "        0.29172293, 0.29306742, 0.29088081, 0.29294596, 0.28118665,\n",
       "        0.29533249, 0.2911524 , 0.29078301, 0.27576531, 0.2908937 ,\n",
       "        0.29663268, 0.27555279, 0.27329636, 0.29586552, 0.29591495,\n",
       "        0.28984449, 0.27539082, 0.29271616, 0.27950151, 0.2887947 ],\n",
       "       [0.32190617, 0.34764644, 0.34468605, 0.32380276, 0.34329215,\n",
       "        0.33480061, 0.32304144, 0.31512704, 0.32787714, 0.31496003,\n",
       "        0.35050711, 0.33990806, 0.34838278, 0.32705267, 0.32896534,\n",
       "        0.34366328, 0.32278301, 0.34618744, 0.32430819, 0.32450954,\n",
       "        0.34607584, 0.35377134, 0.35425669, 0.32131902, 0.33171758,\n",
       "        0.3275831 , 0.32132533, 0.33149079, 0.32266306, 0.34271095,\n",
       "        0.31918232, 0.32157419, 0.322044  , 0.34336818, 0.32672374,\n",
       "        0.31809647, 0.34696332, 0.34654712, 0.32283209, 0.31348554,\n",
       "        0.32659429, 0.34212892, 0.3212242 , 0.3454432 , 0.32696525],\n",
       "       [0.38638516, 0.40584947, 0.40298446, 0.38725349, 0.4002556 ,\n",
       "        0.39587202, 0.38676673, 0.38096886, 0.39046082, 0.38073464,\n",
       "        0.40632213, 0.40156911, 0.407563  , 0.389438  , 0.39117055,\n",
       "        0.40295954, 0.38761375, 0.40227399, 0.38869774, 0.38772809,\n",
       "        0.40391441, 0.40343951, 0.40780242, 0.38597209, 0.39179144,\n",
       "        0.38876489, 0.38574759, 0.39071503, 0.38629074, 0.39972961,\n",
       "        0.38347364, 0.38712781, 0.38754399, 0.40341341, 0.3890351 ,\n",
       "        0.38225341, 0.40525522, 0.40617347, 0.38442364, 0.38104011,\n",
       "        0.38977027, 0.40309194, 0.38592527, 0.40129383, 0.39059553]])"
      ]
     },
     "execution_count": 17,
     "metadata": {},
     "output_type": "execute_result"
    }
   ],
   "source": [
    "# Calculo en test\n",
    "neta_oculta = w_O.dot(testing.values.T) + b_O\n",
    "salida_oculta = eval('tansig' + '(neta_oculta)')\n",
    "neta_salida = w_S.dot(salida_oculta) + b_S\n",
    "salida_salida = eval('logsig' + '(neta_salida)')\n",
    "salida_salida"
   ]
  },
  {
   "cell_type": "code",
   "execution_count": 23,
   "metadata": {},
   "outputs": [],
   "source": [
    "salida = pd.DataFrame(salida_salida.T)"
   ]
  },
  {
   "cell_type": "code",
   "execution_count": 24,
   "metadata": {},
   "outputs": [
    {
     "data": {
      "text/html": [
       "<div>\n",
       "<style scoped>\n",
       "    .dataframe tbody tr th:only-of-type {\n",
       "        vertical-align: middle;\n",
       "    }\n",
       "\n",
       "    .dataframe tbody tr th {\n",
       "        vertical-align: top;\n",
       "    }\n",
       "\n",
       "    .dataframe thead th {\n",
       "        text-align: right;\n",
       "    }\n",
       "</style>\n",
       "<table border=\"1\" class=\"dataframe\">\n",
       "  <thead>\n",
       "    <tr style=\"text-align: right;\">\n",
       "      <th></th>\n",
       "      <th>0</th>\n",
       "      <th>1</th>\n",
       "      <th>2</th>\n",
       "    </tr>\n",
       "  </thead>\n",
       "  <tbody>\n",
       "    <tr>\n",
       "      <th>0</th>\n",
       "      <td>0.292376</td>\n",
       "      <td>0.321906</td>\n",
       "      <td>0.386385</td>\n",
       "    </tr>\n",
       "    <tr>\n",
       "      <th>1</th>\n",
       "      <td>0.274600</td>\n",
       "      <td>0.347646</td>\n",
       "      <td>0.405849</td>\n",
       "    </tr>\n",
       "    <tr>\n",
       "      <th>2</th>\n",
       "      <td>0.277005</td>\n",
       "      <td>0.344686</td>\n",
       "      <td>0.402984</td>\n",
       "    </tr>\n",
       "    <tr>\n",
       "      <th>3</th>\n",
       "      <td>0.292069</td>\n",
       "      <td>0.323803</td>\n",
       "      <td>0.387253</td>\n",
       "    </tr>\n",
       "    <tr>\n",
       "      <th>4</th>\n",
       "      <td>0.280238</td>\n",
       "      <td>0.343292</td>\n",
       "      <td>0.400256</td>\n",
       "    </tr>\n",
       "  </tbody>\n",
       "</table>\n",
       "</div>"
      ],
      "text/plain": [
       "          0         1         2\n",
       "0  0.292376  0.321906  0.386385\n",
       "1  0.274600  0.347646  0.405849\n",
       "2  0.277005  0.344686  0.402984\n",
       "3  0.292069  0.323803  0.387253\n",
       "4  0.280238  0.343292  0.400256"
      ]
     },
     "execution_count": 24,
     "metadata": {},
     "output_type": "execute_result"
    }
   ],
   "source": [
    "salida.head()"
   ]
  },
  {
   "cell_type": "code",
   "execution_count": null,
   "metadata": {},
   "outputs": [],
   "source": []
  }
 ],
 "metadata": {
  "kernelspec": {
   "display_name": "Python 3",
   "language": "python",
   "name": "python3"
  },
  "language_info": {
   "codemirror_mode": {
    "name": "ipython",
    "version": 3
   },
   "file_extension": ".py",
   "mimetype": "text/x-python",
   "name": "python",
   "nbconvert_exporter": "python",
   "pygments_lexer": "ipython3",
   "version": "3.7.1"
  }
 },
 "nbformat": 4,
 "nbformat_minor": 2
}
