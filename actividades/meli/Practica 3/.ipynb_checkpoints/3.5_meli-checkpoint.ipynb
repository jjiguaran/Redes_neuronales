{
 "cells": [
  {
   "cell_type": "markdown",
   "metadata": {},
   "source": [
    "A partir de las imágenes proporcionadas en actividades anteriores entrene usando el algoritmo backpropagation una arquitectura para cada una de ellas en forma independiente.\n",
    "Para cada imagen deberá:"
   ]
  },
  {
   "cell_type": "markdown",
   "metadata": {},
   "source": [
    "a) Analizarla visualmente y determinar a priori cuantas neuronas en la capa oculta son necesarias para resolver el problema."
   ]
  },
  {
   "cell_type": "markdown",
   "metadata": {},
   "source": [
    "b) Entrenar un multiperceptrón y hallar la arquitectura (número de neuronas en la capa oculta, y parámetros del algoritmo) que permita resolver el problema. ¿Pudo resolver el problema con el número de neuronas previstas anteriormente?"
   ]
  },
  {
   "cell_type": "markdown",
   "metadata": {},
   "source": []
  },
  {
   "cell_type": "markdown",
   "metadata": {},
   "source": [
    "c) ¿En cuántas iteraciones se resuelve el problema?"
   ]
  },
  {
   "cell_type": "markdown",
   "metadata": {},
   "source": [
    "Seleccione una de las imágenes y pruebe de realizar el entrenamiento con el quíntuple de neuronas ocultas que haya solucionado el problema. ¿Qué sucede con cada neurona de la capa oculta? ¿Qué puede decir de los pesos finales de la red?"
   ]
  },
  {
   "cell_type": "code",
   "execution_count": null,
   "metadata": {},
   "outputs": [],
   "source": []
  }
 ],
 "metadata": {
  "kernelspec": {
   "display_name": "Python 3",
   "language": "python",
   "name": "python3"
  },
  "language_info": {
   "codemirror_mode": {
    "name": "ipython",
    "version": 3
   },
   "file_extension": ".py",
   "mimetype": "text/x-python",
   "name": "python",
   "nbconvert_exporter": "python",
   "pygments_lexer": "ipython3",
   "version": "3.7.1"
  }
 },
 "nbformat": 4,
 "nbformat_minor": 2
}
