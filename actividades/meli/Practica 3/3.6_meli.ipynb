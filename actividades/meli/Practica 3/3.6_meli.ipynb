{
 "cells": [
  {
   "cell_type": "markdown",
   "metadata": {},
   "source": [
    "Dada la base de datos iris y sus características conocidas ¿Cuántas neuronas en la capa oculta son necesarias, como mínimo, en un multiperceptrón para lograr una clasificación aceptable? Realice un entrenamiento con la arquitectura elegida usando el 70% de los datos como conjunto de entrenamiento y mida la performance del modelo con el 30% restante."
   ]
  },
  {
   "cell_type": "code",
   "execution_count": 27,
   "metadata": {},
   "outputs": [],
   "source": [
    "import pandas as pd\n",
    "import numpy as np\n",
    "\n",
    "from sklearn.model_selection import train_test_split\n",
    "from sklearn.metrics import accuracy_score\n",
    "from bpn import train, plot"
   ]
  },
  {
   "cell_type": "code",
   "execution_count": 28,
   "metadata": {},
   "outputs": [],
   "source": [
    "iris = pd.read_csv('../Practica 1/Iris.csv', sep = \";\")"
   ]
  },
  {
   "cell_type": "code",
   "execution_count": 29,
   "metadata": {},
   "outputs": [],
   "source": [
    "# Se unen las clases virginica y versicolor\n",
    "iris[\"Clase\"]= iris[\"Clase\"].replace(\"Iris-setosa\", 0)\n",
    "iris[\"Clase\"]= iris[\"Clase\"].replace(\"Iris-versicolor\", 1)\n",
    "iris[\"Clase\"]= iris[\"Clase\"].replace(\"Iris-virginica\", 2)"
   ]
  },
  {
   "cell_type": "code",
   "execution_count": 30,
   "metadata": {},
   "outputs": [
    {
     "data": {
      "text/html": [
       "<div>\n",
       "<style scoped>\n",
       "    .dataframe tbody tr th:only-of-type {\n",
       "        vertical-align: middle;\n",
       "    }\n",
       "\n",
       "    .dataframe tbody tr th {\n",
       "        vertical-align: top;\n",
       "    }\n",
       "\n",
       "    .dataframe thead th {\n",
       "        text-align: right;\n",
       "    }\n",
       "</style>\n",
       "<table border=\"1\" class=\"dataframe\">\n",
       "  <thead>\n",
       "    <tr style=\"text-align: right;\">\n",
       "      <th></th>\n",
       "      <th>sepal length</th>\n",
       "      <th>sepal width</th>\n",
       "      <th>petal length</th>\n",
       "      <th>petal width</th>\n",
       "      <th>Clase</th>\n",
       "    </tr>\n",
       "  </thead>\n",
       "  <tbody>\n",
       "    <tr>\n",
       "      <th>0</th>\n",
       "      <td>5.1</td>\n",
       "      <td>3.5</td>\n",
       "      <td>1.4</td>\n",
       "      <td>0.2</td>\n",
       "      <td>0</td>\n",
       "    </tr>\n",
       "    <tr>\n",
       "      <th>1</th>\n",
       "      <td>4.9</td>\n",
       "      <td>3.0</td>\n",
       "      <td>1.4</td>\n",
       "      <td>0.2</td>\n",
       "      <td>0</td>\n",
       "    </tr>\n",
       "    <tr>\n",
       "      <th>2</th>\n",
       "      <td>4.7</td>\n",
       "      <td>3.2</td>\n",
       "      <td>1.3</td>\n",
       "      <td>0.2</td>\n",
       "      <td>0</td>\n",
       "    </tr>\n",
       "    <tr>\n",
       "      <th>3</th>\n",
       "      <td>4.6</td>\n",
       "      <td>3.1</td>\n",
       "      <td>1.5</td>\n",
       "      <td>0.2</td>\n",
       "      <td>0</td>\n",
       "    </tr>\n",
       "    <tr>\n",
       "      <th>4</th>\n",
       "      <td>5.0</td>\n",
       "      <td>3.6</td>\n",
       "      <td>1.4</td>\n",
       "      <td>0.2</td>\n",
       "      <td>0</td>\n",
       "    </tr>\n",
       "  </tbody>\n",
       "</table>\n",
       "</div>"
      ],
      "text/plain": [
       "   sepal length  sepal width  petal length  petal width  Clase\n",
       "0           5.1          3.5           1.4          0.2      0\n",
       "1           4.9          3.0           1.4          0.2      0\n",
       "2           4.7          3.2           1.3          0.2      0\n",
       "3           4.6          3.1           1.5          0.2      0\n",
       "4           5.0          3.6           1.4          0.2      0"
      ]
     },
     "execution_count": 30,
     "metadata": {},
     "output_type": "execute_result"
    }
   ],
   "source": [
    "iris.head()"
   ]
  },
  {
   "cell_type": "code",
   "execution_count": 31,
   "metadata": {},
   "outputs": [],
   "source": [
    "train_set, test_set = train_test_split(iris, test_size=0.3, random_state=320)"
   ]
  },
  {
   "cell_type": "code",
   "execution_count": 32,
   "metadata": {},
   "outputs": [
    {
     "name": "stderr",
     "output_type": "stream",
     "text": [
      "C:\\Users\\dalessam\\AppData\\Local\\Continuum\\anaconda3\\lib\\site-packages\\ipykernel_launcher.py:3: SettingWithCopyWarning: \n",
      "A value is trying to be set on a copy of a slice from a DataFrame.\n",
      "Try using .loc[row_indexer,col_indexer] = value instead\n",
      "\n",
      "See the caveats in the documentation: http://pandas.pydata.org/pandas-docs/stable/indexing.html#indexing-view-versus-copy\n",
      "  This is separate from the ipykernel package so we can avoid doing imports until\n"
     ]
    }
   ],
   "source": [
    "P = train_set[['sepal length', 'sepal width', 'petal length', 'petal width']].values\n",
    "\n",
    "train_set['value'] = 1\n",
    "T = train_set.pivot(columns = 'Clase', values = 'value').fillna(0).values\n",
    "\n",
    "T2 = train_set[['Clase']].values\n",
    " "
   ]
  },
  {
   "cell_type": "code",
   "execution_count": 33,
   "metadata": {},
   "outputs": [],
   "source": [
    "#Parámetros:\n",
    "#       P: es una matriz con los datos de los patrones con los cuales\n",
    "#           entrenar la red neuronal. Los ejemplos deben estar en filas.\n",
    "#       T: es una matriz con la salida esperada para cada ejemplo. Esta matriz \n",
    "#           debe tener tantas columnas como neuronas de salida tenga la red\n",
    "#       T2: clases con su valor original (0 .. n-1) (Solo es utilizado para graficar)\n",
    "#       ocultas: la cantidad de neuronas ocultas que tendrá la red    \n",
    "#       alfa: velocidad de aprendizaje\n",
    "#       momento: término de momento\n",
    "#       fun_oculta: función de activación en las neuronas de la capa oculta\n",
    "#       fun_salida: función de activación en las neuronas de la capa de salida\n",
    "#       MAX_ITERA: la cantidad máxima de iteraciones en las cuales se va a\n",
    "#           ejecutar el algoritmo\n",
    "#       cota_error: diferencia de error (entre una iteración y la anterior) mínima aceptada para finalizar con el algoritmo\n",
    "#       dibujar: si vale True (y los datos son en dos dimensiones) dibuja los\n",
    "#           ejemplos y las rectas discriminantes.\n",
    "#\n",
    "#Devuelve:\n",
    "#       w_O: la matriz de pesos de las neuronas de la capa oculta\n",
    "#       b_O: vector de bias de las neuronas de la capa oculta\n",
    "#       w_S: la matriz de pesos de las neuronas de la capa de salida\n",
    "#       b_S: vector de bias de las neuronas de la capa de salida\n",
    "#       ite: número de iteraciones ejecutadas durante el algoritmo\n",
    "#       error_prom: errorPromedio finalizado el algoritmo\n",
    "#\n",
    "#Ejemplo de uso:\n",
    "#       (w_O, b_O, w_S, b_S, ite, error_prom) = train(P, T, T2, 10, 0.25, 1.2, 'logsig', 'tansig', 25000, 0.001, True);"
   ]
  },
  {
   "cell_type": "code",
   "execution_count": 34,
   "metadata": {},
   "outputs": [
    {
     "name": "stdout",
     "output_type": "stream",
     "text": [
      "1 0.7788193098175245 0.22128069018247554\n",
      "2 0.7443423661636309 0.03447694365389353\n",
      "3 0.7240736551907616 0.020268710972869308\n",
      "4 0.7110466042486391 0.013027050942122531\n",
      "5 0.7012817775164767 0.00976482673216239\n",
      "6 0.6936034599559877 0.007678317560488979\n",
      "7 0.6875374492832782 0.00606601067270951\n",
      "8 0.6827598298816532 0.004777619401625022\n",
      "9 0.6790105500029953 0.0037492798786579185\n",
      "10 0.6760783764867042 0.002932173516291048\n",
      "11 0.673792948447246 0.0022854280394581927\n",
      "12 0.6720174563254621 0.0017754921217839614\n",
      "13 0.6706422862612907 0.001375170064171316\n",
      "14 0.6695798978249442 0.0010623884363465397\n",
      "15 0.6687607529830446 0.0008191448418995995\n",
      "16 0.6681299942450857 0.0006307587379589252\n",
      "17 0.6676446560372644 0.000485338207821262\n",
      "18 0.6672713035733072 0.00037335246395719945\n",
      "19 0.6669840531220688 0.00028725045123845216\n",
      "20 0.6667629421554222 0.00022111096664656493\n",
      "21 0.6665926131777499 0.00017032897767232935\n",
      "22 0.666461268469595 0.0001313447081549013\n",
      "23 0.6663598507563422 0.0001014177132527827\n",
      "24 0.6662814070826008 7.844367374143513e-05\n",
      "25 0.6662205981832393 6.080889936144196e-05\n",
      "26 0.6661733216921525 4.727649108682286e-05\n",
      "27 0.6661364235040657 3.689818808683132e-05\n",
      "28 0.6661074769328178 2.894657124785649e-05\n",
      "29 0.6660846137860773 2.2863146740492724e-05\n",
      "30 0.666066395099212 1.821868686535666e-05\n",
      "31 0.6660517121321812 1.4682967030776872e-05\n",
      "32 0.6660397104570747 1.2001675106509957e-05\n",
      "33 0.666029731674041 9.97878303365951e-06\n",
      "34 0.6660212685997563 8.463074284703609e-06\n",
      "35 0.6660139307663833 7.337833373033398e-06\n",
      "36 0.6660074178234042 6.512942979042258e-06\n",
      "37 0.6660014990069316 5.918816472605393e-06\n",
      "38 0.6659959972751427 5.501731788926101e-06\n",
      "39 0.6659907770380782 5.220237064507138e-06\n",
      "40 0.6659857346605903 5.0423774878849414e-06\n",
      "41 0.6659807911080194 4.943552570857435e-06\n",
      "42 0.6659758862497903 4.904858229126674e-06\n",
      "43 0.6659709744473814 4.911802408913424e-06\n",
      "44 0.665966021138424 4.953308957444946e-06\n",
      "45 0.6659610001940947 5.020944329303667e-06\n",
      "46 0.6659558918773655 5.108316729174334e-06\n",
      "47 0.6659506812684322 5.210608933325922e-06\n",
      "48 0.665945357053637 5.32421479515488e-06\n",
      "49 0.6659399105973538 5.4464562831979535e-06\n",
      "50 0.6659343352342781 5.575363075660533e-06\n",
      "51 0.6659286257334868 5.709500791373223e-06\n",
      "52 0.6659227778964708 5.8478370159598114e-06\n",
      "53 0.6659167882597501 5.98963672071573e-06\n",
      "54 0.6659106538792778 6.134380472255785e-06\n",
      "55 0.6659043721789182 6.281700359656028e-06\n",
      "56 0.6658979408493132 6.431329604983382e-06\n",
      "57 0.6658913577865521 6.583062761134073e-06\n",
      "58 0.6658846210624998 6.736724052269771e-06\n",
      "59 0.665877728920541 6.8921419588141575e-06\n",
      "60 0.665870679791988 7.049128552982786e-06\n",
      "61 0.6658634723295305 7.207462457525793e-06\n",
      "62 0.6658561054550296 7.366874500869258e-06\n",
      "63 0.6658485784196088 7.5270354208401e-06\n",
      "64 0.665840890874532 7.687545076739966e-06\n",
      "65 0.6658330429517294 7.847922802617369e-06\n",
      "66 0.6658250353530987 8.007598630732637e-06\n",
      "67 0.6658168694478859 8.16590521279803e-06\n",
      "68 0.6658085473775359 8.322070349953137e-06\n",
      "69 0.6658000721674111 8.475210124814225e-06\n",
      "70 0.6657914478447594 8.62432265169577e-06\n",
      "71 0.6657826795621478 8.768282611648637e-06\n",
      "72 0.6657737737254765 8.90583667123579e-06\n",
      "73 0.6657647381254064 9.035600070150807e-06\n",
      "74 0.6657555820708034 9.156054602943442e-06\n",
      "75 0.6657463165224536 9.265548349790542e-06\n",
      "76 0.66573695422496 9.36229749359807e-06\n",
      "77 0.665727509834318 9.44439064198832e-06\n",
      "78 0.6657180000382464 9.509796071616172e-06\n",
      "79 0.6657084436659227 9.556372323693552e-06\n",
      "80 0.6656988617833245 9.581882598252989e-06\n",
      "81 0.6656892777699832 9.584013341279451e-06\n",
      "82 0.665679717372594 9.560397389196673e-06\n",
      "83 0.6656702087306545 9.508641939492968e-06\n",
      "84 0.6656607823691597 9.426361494813129e-06\n",
      "85 0.6656514711533547 9.311215805052342e-06\n",
      "86 0.6656423102007542 9.160952600506533e-06\n",
      "87 0.6656333367460502 8.973454703964379e-06\n",
      "88 0.6656245899552067 8.746790843505714e-06\n",
      "89 0.6656161106859975 8.479269209216156e-06\n",
      "90 0.6656079411935162 8.169492481280294e-06\n",
      "91 0.6656001247807367 7.816412779471094e-06\n",
      "92 0.6655927053960086 7.4193847281467384e-06\n",
      "93 0.6655857271814228 6.978214585728892e-06\n",
      "94 0.6655792339781365 6.4932032863840305e-06\n",
      "95 0.6655732687969685 5.9651811679106714e-06\n",
      "96 0.6655678732646717 5.395532296836869e-06\n",
      "97 0.6655630870582079 4.7862064638248825e-06\n",
      "98 0.665558947340833 4.139717374895824e-06\n",
      "99 0.6655554882148419 3.459125991089884e-06\n",
      "100 0.6655527402061634 2.7480086784992253e-06\n"
     ]
    }
   ],
   "source": [
    "(w_O, b_O, w_S, b_S, ite, error_prom) = train(P, T, T2, 2, 0.01, 0, 'tansig', 'logsig', 100, 0.0001, True);"
   ]
  },
  {
   "cell_type": "code",
   "execution_count": 35,
   "metadata": {},
   "outputs": [
    {
     "data": {
      "text/plain": [
       "(array([[ 0.47101976,  0.03437088, -0.06393194, -0.22789668],\n",
       "        [ 0.15031867, -0.19282971,  0.17979147, -0.41161364]]),\n",
       " array([[0.12275122],\n",
       "        [0.09151085]]),\n",
       " array([[-0.21410248,  0.15371549],\n",
       "        [-0.35143002,  0.03050162],\n",
       "        [-0.23975667, -0.34308572]]),\n",
       " array([[-0.76914431],\n",
       "        [-0.38865695],\n",
       "        [-0.01426247]]),\n",
       " 100,\n",
       " 0.6655527402061634)"
      ]
     },
     "execution_count": 35,
     "metadata": {},
     "output_type": "execute_result"
    }
   ],
   "source": [
    "w_O, b_O, w_S, b_S, ite, error_prom"
   ]
  },
  {
   "cell_type": "code",
   "execution_count": 36,
   "metadata": {},
   "outputs": [],
   "source": [
    "testing = test_set[['sepal length', 'sepal width', 'petal length', 'petal width']]"
   ]
  },
  {
   "cell_type": "code",
   "execution_count": 37,
   "metadata": {},
   "outputs": [],
   "source": [
    "def logsig(x):\n",
    "    return 1 / (1 + np.exp(-x))\n",
    "\n",
    "def dlogsig(x):\n",
    "    return logsig(x) * (1 - logsig(x))\n",
    "\n",
    "def tansig(x):\n",
    "    return np.tanh(x)\n",
    "\n",
    "def dtansig(x):\n",
    "    return 1.0 - np.square(tansig(x))"
   ]
  },
  {
   "cell_type": "code",
   "execution_count": 38,
   "metadata": {},
   "outputs": [
    {
     "data": {
      "text/plain": [
       "array([[0.2916874 , 0.28221357, 0.28393263, 0.29201807, 0.28619942,\n",
       "        0.2870203 , 0.29175651, 0.29604975, 0.29035968, 0.29603714,\n",
       "        0.28295595, 0.28220716, 0.28038163, 0.29060287, 0.28991834,\n",
       "        0.28316586, 0.29021141, 0.28518976, 0.28953796, 0.29159761,\n",
       "        0.28374326, 0.28601229, 0.28305706, 0.29184233, 0.29033195,\n",
       "        0.29229519, 0.29261778, 0.29117811, 0.29223621, 0.28646385,\n",
       "        0.29429974, 0.28969716, 0.28916472, 0.2826484 , 0.29152529,\n",
       "        0.29538963, 0.28250786, 0.28098501, 0.29430836, 0.29436151,\n",
       "        0.28972243, 0.28200533, 0.29196746, 0.28590872, 0.28897752],\n",
       "       [0.32768317, 0.32625194, 0.32651308, 0.32819169, 0.32706964,\n",
       "        0.32744122, 0.32817088, 0.32851185, 0.32806734, 0.32850939,\n",
       "        0.32661062, 0.3255804 , 0.32572538, 0.32777758, 0.32803674,\n",
       "        0.32610193, 0.32793137, 0.32689653, 0.32762285, 0.32793752,\n",
       "        0.32669286, 0.32771051, 0.32707707, 0.32784279, 0.32838303,\n",
       "        0.32879739, 0.3284278 , 0.32858324, 0.32796563, 0.32709585,\n",
       "        0.32822327, 0.32759528, 0.32738663, 0.3261349 , 0.32843484,\n",
       "        0.32871925, 0.32628396, 0.32580622, 0.32847913, 0.32800112,\n",
       "        0.32781284, 0.32585501, 0.3277875 , 0.32710538, 0.32775748],\n",
       "       [0.38629002, 0.41257081, 0.4077199 , 0.3865392 , 0.40191932,\n",
       "        0.40026401, 0.38729554, 0.37500279, 0.3913702 , 0.3750349 ,\n",
       "        0.41110007, 0.41087177, 0.41714291, 0.3898869 , 0.39266866,\n",
       "        0.40912599, 0.39149054, 0.40468577, 0.39281528, 0.38720351,\n",
       "        0.40878464, 0.40413938, 0.41196769, 0.38621029, 0.39224907,\n",
       "        0.38719615, 0.38527854, 0.39011964, 0.38530148, 0.40114842,\n",
       "        0.3796105 , 0.3922491 , 0.39338706, 0.41087184, 0.38867142,\n",
       "        0.37751834, 0.41170527, 0.41539514, 0.38021903, 0.37887095,\n",
       "        0.39271715, 0.41222505, 0.38568583, 0.40293181, 0.39490665]])"
      ]
     },
     "execution_count": 38,
     "metadata": {},
     "output_type": "execute_result"
    }
   ],
   "source": [
    "# Calculo en test\n",
    "neta_oculta = w_O.dot(testing.values.T) + b_O\n",
    "salida_oculta = eval('tansig' + '(neta_oculta)')\n",
    "neta_salida = w_S.dot(salida_oculta) + b_S\n",
    "salida_salida = eval('logsig' + '(neta_salida)')\n",
    "salida_salida"
   ]
  },
  {
   "cell_type": "code",
   "execution_count": 39,
   "metadata": {},
   "outputs": [],
   "source": [
    "salida = pd.DataFrame(salida_salida.T)"
   ]
  },
  {
   "cell_type": "code",
   "execution_count": 40,
   "metadata": {},
   "outputs": [
    {
     "data": {
      "text/html": [
       "<div>\n",
       "<style scoped>\n",
       "    .dataframe tbody tr th:only-of-type {\n",
       "        vertical-align: middle;\n",
       "    }\n",
       "\n",
       "    .dataframe tbody tr th {\n",
       "        vertical-align: top;\n",
       "    }\n",
       "\n",
       "    .dataframe thead th {\n",
       "        text-align: right;\n",
       "    }\n",
       "</style>\n",
       "<table border=\"1\" class=\"dataframe\">\n",
       "  <thead>\n",
       "    <tr style=\"text-align: right;\">\n",
       "      <th></th>\n",
       "      <th>0</th>\n",
       "      <th>1</th>\n",
       "      <th>2</th>\n",
       "    </tr>\n",
       "  </thead>\n",
       "  <tbody>\n",
       "    <tr>\n",
       "      <th>0</th>\n",
       "      <td>0.291687</td>\n",
       "      <td>0.327683</td>\n",
       "      <td>0.386290</td>\n",
       "    </tr>\n",
       "    <tr>\n",
       "      <th>1</th>\n",
       "      <td>0.282214</td>\n",
       "      <td>0.326252</td>\n",
       "      <td>0.412571</td>\n",
       "    </tr>\n",
       "    <tr>\n",
       "      <th>2</th>\n",
       "      <td>0.283933</td>\n",
       "      <td>0.326513</td>\n",
       "      <td>0.407720</td>\n",
       "    </tr>\n",
       "    <tr>\n",
       "      <th>3</th>\n",
       "      <td>0.292018</td>\n",
       "      <td>0.328192</td>\n",
       "      <td>0.386539</td>\n",
       "    </tr>\n",
       "    <tr>\n",
       "      <th>4</th>\n",
       "      <td>0.286199</td>\n",
       "      <td>0.327070</td>\n",
       "      <td>0.401919</td>\n",
       "    </tr>\n",
       "  </tbody>\n",
       "</table>\n",
       "</div>"
      ],
      "text/plain": [
       "          0         1         2\n",
       "0  0.291687  0.327683  0.386290\n",
       "1  0.282214  0.326252  0.412571\n",
       "2  0.283933  0.326513  0.407720\n",
       "3  0.292018  0.328192  0.386539\n",
       "4  0.286199  0.327070  0.401919"
      ]
     },
     "execution_count": 40,
     "metadata": {},
     "output_type": "execute_result"
    }
   ],
   "source": [
    "salida.head()"
   ]
  },
  {
   "cell_type": "code",
   "execution_count": 41,
   "metadata": {},
   "outputs": [],
   "source": [
    "#testing['1'] = 0\n",
    "#testing['2'] = 0\n",
    "#testing['3'] = 0\n",
    "#\n",
    "#for index,row in testing.iterrows():\n",
    "#    neta_oculta = w_O.dot(row[0:4].values[np.newaxis].T) + b_O\n",
    "#    salida_oculta = eval('tansig' + '(neta_oculta)')\n",
    "#    neta_salida = w_S.dot(salida_oculta) + b_S\n",
    "#    salida_salida = eval('logsig' + '(neta_salida)')\n",
    "#    testing.loc[index,'1'] = salida_salida[0] \n",
    "#    testing.loc[index,'2'] = salida_salida[1] \n",
    "#    testing.loc[index,'3'] = salida_salida[2] \n",
    "#\n",
    "#testing"
   ]
  },
  {
   "cell_type": "code",
   "execution_count": null,
   "metadata": {},
   "outputs": [],
   "source": [
    "# Con 2 da bastante bien"
   ]
  }
 ],
 "metadata": {
  "kernelspec": {
   "display_name": "Python 3",
   "language": "python",
   "name": "python3"
  },
  "language_info": {
   "codemirror_mode": {
    "name": "ipython",
    "version": 3
   },
   "file_extension": ".py",
   "mimetype": "text/x-python",
   "name": "python",
   "nbconvert_exporter": "python",
   "pygments_lexer": "ipython3",
   "version": "3.7.1"
  }
 },
 "nbformat": 4,
 "nbformat_minor": 2
}
