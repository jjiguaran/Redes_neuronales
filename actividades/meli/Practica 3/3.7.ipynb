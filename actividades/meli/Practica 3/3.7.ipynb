{
 "cells": [
  {
   "cell_type": "markdown",
   "metadata": {},
   "source": [
    "Utilice la base de datos de iris para entrenar un multiperceptrón utilizando el algoritmo de Backpropagation con la condición inicial de que todos los pesos de cada neurona (de ambas capas) se inicialicen con el mismo valor.\n",
    "Utilice el siguiente código para generar la matriz de valores esperados para las tres clases:\n",
    "T_matriz = np.concatenate(([T==1], [T==2], [T==3]), axis=0).astype(int).T\n",
    "donde T es la columna del dataset con las clases de cada observación, donde en este ejemplo fueron mapeados a los valores 1, 2 y 3.\n",
    "Finalizado el entrenamiento de la BPN observe la matriz de pesos de las capas ocultas y de salida y responda a las siguientes preguntas:"
   ]
  },
  {
   "cell_type": "markdown",
   "metadata": {},
   "source": [
    "a) ¿Qué fenómeno observa en la matriz de pesos de la capa oculta?\n",
    "Si las dos neuronas tienen el mismo vector de peso es que son las mismas. Corrigen los pesos de la misma manera todo el entrenamiento independientemente de las iteraciones, el bias es el que cambia para modificar algo.\n"
   ]
  },
  {
   "cell_type": "markdown",
   "metadata": {},
   "source": [
    "b) ¿Qué fenómeno observa en la matriz de pesos de la capa de salida?\n",
    "Recibe dos columnas (dos neuronas ocultas). Los valores son distintos y las 3 al comparar con el data esperado tienen valores distintos pero sus componentes son todos iguales porque las neuronas le aportan la misma informacion."
   ]
  },
  {
   "cell_type": "markdown",
   "metadata": {},
   "source": [
    "c) ¿Cuál cree que es la explicación para que explica ambos fenómenos observados? Justifique su respuesta.\n",
    "La justificacion es las cuetnas, lo que tiene que pasar."
   ]
  },
  {
   "cell_type": "markdown",
   "metadata": {},
   "source": [
    "d) Si se modifica el número de neuronas en la capa oculta, el alfa, el beta o la cantidad máxima de iteraciones y se lleva a cabo otro entrenamiento. ¿Se observa el mismo fenómeno? Justifique su respuesta.\n",
    "\n"
   ]
  }
 ],
 "metadata": {
  "kernelspec": {
   "display_name": "Python 3",
   "language": "python",
   "name": "python3"
  },
  "language_info": {
   "codemirror_mode": {
    "name": "ipython",
    "version": 3
   },
   "file_extension": ".py",
   "mimetype": "text/x-python",
   "name": "python",
   "nbconvert_exporter": "python",
   "pygments_lexer": "ipython3",
   "version": "3.7.1"
  }
 },
 "nbformat": 4,
 "nbformat_minor": 2
}
