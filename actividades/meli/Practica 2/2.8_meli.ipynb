{
 "cells": [
  {
   "cell_type": "markdown",
   "metadata": {},
   "source": [
    "El archivo “MP_Training.csv” contiene 75 registros, los cuales están divididos en tres clases. Se desea formar un modelo de los datos que permita hacer la clasificación de nuevas muestras en una de las tres clases posibles. Este modelo sólo puede estar formado por neuronas no lineales.\n",
    "Sabiendo que una neurona no lineal sólo divide los datos en dos clases se deberá armar una arquitectura formada por dos neuronas que logre el objetivo pedido.\n",
    "Por lo tanto para conseguir este modelo de clasificación deberá seguir los siguientes pasos:"
   ]
  },
  {
   "cell_type": "markdown",
   "metadata": {},
   "source": [
    "a) Entrenar una neurona no lineal que permita separar los datos de una de las clases de las dos restantes.\n",
    "La neurona no lineal entrenada será capaz de clasificar una nueva muestra como perteneciente a una clase o bien a las otras dos.\n",
    "Preste atención que el valor asociado a la clase (valor esperado) está relacionado con la función de salida utilizada (logsig o tansig). Por ello al separar los dos subconjuntos deberá renombrar las clases a 0 y 1 (o -1 y 1) según la función utilizada."
   ]
  },
  {
   "cell_type": "markdown",
   "metadata": {},
   "source": [
    "b) Repita el paso anterior con el subconjunto restante."
   ]
  },
  {
   "cell_type": "markdown",
   "metadata": {},
   "source": [
    "c) ¿Cómo es la arquitectura de la red de neuronas hallada? Recuerde que la arquitectura es la cantidad de neuronas, como se conectan entre ellas, qué pesos tiene cada neurona y cual es la función de activación de cada neurona."
   ]
  },
  {
   "cell_type": "markdown",
   "metadata": {},
   "source": [
    "d) ¿Qué clases de datos (A, B o C) separa cada una de las neuronas entrenadas?"
   ]
  },
  {
   "cell_type": "markdown",
   "metadata": {},
   "source": [
    "e) Utilice el modelo encontrado para clasificar los cuatro registros que se encuentran en el archivo MP_Unknown.csv"
   ]
  },
  {
   "cell_type": "markdown",
   "metadata": {},
   "source": [
    "Con dos rectas cruzadas entre si podria crear 4 sectores con 3 con datos de cada clase y uno vacio. Tomo clase A, calse B entreno y veo si logré resultado o no. Luego B y C. Luego una tercera neurona que se alimente de las otras. Con 3 seguro y una 4 que te diga la clase."
   ]
  },
  {
   "cell_type": "code",
   "execution_count": null,
   "metadata": {},
   "outputs": [],
   "source": []
  }
 ],
 "metadata": {
  "kernelspec": {
   "display_name": "Python 3",
   "language": "python",
   "name": "python3"
  },
  "language_info": {
   "codemirror_mode": {
    "name": "ipython",
    "version": 3
   },
   "file_extension": ".py",
   "mimetype": "text/x-python",
   "name": "python",
   "nbconvert_exporter": "python",
   "pygments_lexer": "ipython3",
   "version": "3.7.1"
  }
 },
 "nbformat": 4,
 "nbformat_minor": 2
}
