{
 "cells": [
  {
   "cell_type": "code",
   "execution_count": 1,
   "metadata": {},
   "outputs": [
    {
     "name": "stderr",
     "output_type": "stream",
     "text": [
      "Using TensorFlow backend.\n"
     ]
    }
   ],
   "source": [
    "# comando de Jupyter para que las imagenes se muestren automaticamente \n",
    "%matplotlib inline\n",
    "\n",
    "import tensorflow as tf\n",
    "import keras\n",
    "import numpy as np\n",
    "import matplotlib.pyplot as plt\n",
    "\n",
    "from sklearn.metrics import classification_report, confusion_matrix\n",
    "from keras.layers.convolutional import Conv2D, MaxPooling2D\n",
    "from keras.models import Sequential\n",
    "from keras.layers import Dense, Activation, Flatten\n",
    "from keras.callbacks import EarlyStopping"
   ]
  },
  {
   "cell_type": "markdown",
   "metadata": {},
   "source": [
    "# Carga Datos"
   ]
  },
  {
   "cell_type": "code",
   "execution_count": 2,
   "metadata": {},
   "outputs": [],
   "source": [
    "from keras.datasets import cifar10\n",
    "(x_train, y_train), (x_test, y_test) = cifar10.load_data()"
   ]
  },
  {
   "cell_type": "code",
   "execution_count": 3,
   "metadata": {},
   "outputs": [
    {
     "name": "stdout",
     "output_type": "stream",
     "text": [
      "Train: X=(50000, 32, 32, 3), y=(50000, 1)\n",
      "Test: X=(10000, 32, 32, 3), y=(10000, 1)\n"
     ]
    }
   ],
   "source": [
    "# summarize loaded dataset\n",
    "print('Train: X=%s, y=%s' % (x_train.shape, y_train.shape))\n",
    "print('Test: X=%s, y=%s' % (x_test.shape, y_test.shape))"
   ]
  },
  {
   "cell_type": "code",
   "execution_count": 4,
   "metadata": {},
   "outputs": [],
   "source": [
    "n,h,w,c = x_train.shape\n",
    "classes=int(y_train.max()+1)"
   ]
  },
  {
   "cell_type": "markdown",
   "metadata": {},
   "source": [
    "# Visualización"
   ]
  },
  {
   "cell_type": "code",
   "execution_count": 5,
   "metadata": {},
   "outputs": [
    {
     "data": {
      "text/plain": [
       "<matplotlib.image.AxesImage at 0x1aadb257a90>"
      ]
     },
     "execution_count": 5,
     "metadata": {},
     "output_type": "execute_result"
    },
    {
     "data": {
      "image/png": "[encoded data removed]",
      "text/plain": [
       "<Figure size 432x288 with 1 Axes>"
      ]
     },
     "metadata": {
      "needs_background": "light"
     },
     "output_type": "display_data"
    }
   ],
   "source": [
    "plt.imshow(x_train[0,:,:,:]) #se incluye la dimensión de canales"
   ]
  },
  {
   "cell_type": "markdown",
   "metadata": {},
   "source": [
    "# Normalización"
   ]
  },
  {
   "cell_type": "code",
   "execution_count": 6,
   "metadata": {},
   "outputs": [],
   "source": [
    "# Aca hacerlo por canal\n",
    "for i in range(c):\n",
    "    x_train = (x_train - x_train.mean()) / x_train.std()\n",
    "    x_test = (x_test - x_test.mean()) / x_test.std()"
   ]
  },
  {
   "cell_type": "code",
   "execution_count": 7,
   "metadata": {},
   "outputs": [
    {
     "name": "stdout",
     "output_type": "stream",
     "text": [
      "mean:  -4.440892098500626e-18\n",
      "std:  1.0000000000000002\n"
     ]
    }
   ],
   "source": [
    "print (\"mean: \",x_train.mean())\n",
    "print (\"std: \",x_train.std())"
   ]
  },
  {
   "cell_type": "markdown",
   "metadata": {},
   "source": [
    "# Sin CNN CIFAR10"
   ]
  },
  {
   "cell_type": "markdown",
   "metadata": {},
   "source": [
    "Entrene un modelo para clasificar las imágenes, utilizando una softmax en la capa de salida y la entropía cruzada como función de error.  Mida el error y el accuracy en el conjunto de test (y el de train). Compute la matriz de confusión, pero antes de mirarla ¿qué pares de clases te parece que van a confundirse más? Recuerde normalizar los datos con anterioridad. En este caso, la normalización debe realizarse por cada canal."
   ]
  },
  {
   "cell_type": "code",
   "execution_count": 8,
   "metadata": {},
   "outputs": [
    {
     "name": "stdout",
     "output_type": "stream",
     "text": [
      "WARNING:tensorflow:From C:\\Users\\dalessam\\AppData\\Local\\Continuum\\anaconda3\\envs\\deep_env\\lib\\site-packages\\keras\\backend\\tensorflow_backend.py:66: The name tf.get_default_graph is deprecated. Please use tf.compat.v1.get_default_graph instead.\n",
      "\n",
      "WARNING:tensorflow:From C:\\Users\\dalessam\\AppData\\Local\\Continuum\\anaconda3\\envs\\deep_env\\lib\\site-packages\\keras\\backend\\tensorflow_backend.py:541: The name tf.placeholder is deprecated. Please use tf.compat.v1.placeholder instead.\n",
      "\n",
      "WARNING:tensorflow:From C:\\Users\\dalessam\\AppData\\Local\\Continuum\\anaconda3\\envs\\deep_env\\lib\\site-packages\\keras\\backend\\tensorflow_backend.py:4432: The name tf.random_uniform is deprecated. Please use tf.random.uniform instead.\n",
      "\n",
      "WARNING:tensorflow:From C:\\Users\\dalessam\\AppData\\Local\\Continuum\\anaconda3\\envs\\deep_env\\lib\\site-packages\\keras\\optimizers.py:793: The name tf.train.Optimizer is deprecated. Please use tf.compat.v1.train.Optimizer instead.\n",
      "\n",
      "WARNING:tensorflow:From C:\\Users\\dalessam\\AppData\\Local\\Continuum\\anaconda3\\envs\\deep_env\\lib\\site-packages\\keras\\backend\\tensorflow_backend.py:3622: The name tf.log is deprecated. Please use tf.math.log instead.\n",
      "\n"
     ]
    }
   ],
   "source": [
    "es = EarlyStopping(monitor='val_acc', mode='min', patience=10, verbose=1)\n",
    "\n",
    "model = Sequential()\n",
    "model.add(Flatten(input_shape=(32,32,3)))\n",
    "model.add(Dense(32,activation='relu'))\n",
    "model.add(Dense(classes, activation='softmax'))\n",
    "model.compile(\n",
    "  optimizer=keras.optimizers.Adam(lr=0.001,beta_1=0.9,beta_2=0.999,amsgrad=False), \n",
    "  loss='sparse_categorical_crossentropy', \n",
    "  # metricas para ir calculando en cada iteracion o batch \n",
    "  # Agregamos el accuracy del modelo\n",
    "  metrics=['accuracy'], \n",
    ")"
   ]
  },
  {
   "cell_type": "code",
   "execution_count": 9,
   "metadata": {},
   "outputs": [
    {
     "name": "stdout",
     "output_type": "stream",
     "text": [
      "WARNING:tensorflow:From C:\\Users\\dalessam\\AppData\\Local\\Continuum\\anaconda3\\envs\\deep_env\\lib\\site-packages\\tensorflow\\python\\ops\\math_grad.py:1250: add_dispatch_support.<locals>.wrapper (from tensorflow.python.ops.array_ops) is deprecated and will be removed in a future version.\n",
      "Instructions for updating:\n",
      "Use tf.where in 2.0, which has the same broadcast rule as np.where\n",
      "WARNING:tensorflow:From C:\\Users\\dalessam\\AppData\\Local\\Continuum\\anaconda3\\envs\\deep_env\\lib\\site-packages\\keras\\backend\\tensorflow_backend.py:1033: The name tf.assign_add is deprecated. Please use tf.compat.v1.assign_add instead.\n",
      "\n",
      "Train on 50000 samples, validate on 10000 samples\n",
      "Epoch 1/10\n",
      "50000/50000 [==============================] - 6s 127us/step - loss: 1.8940 - acc: 0.3662 - val_loss: 1.6102 - val_acc: 0.4343\n",
      "Epoch 2/10\n",
      "50000/50000 [==============================] - 6s 127us/step - loss: 1.5904 - acc: 0.4393 - val_loss: 1.5920 - val_acc: 0.4382\n",
      "Epoch 3/10\n",
      "50000/50000 [==============================] - 6s 121us/step - loss: 1.5293 - acc: 0.4614 - val_loss: 1.5507 - val_acc: 0.4509\n",
      "Epoch 4/10\n",
      "50000/50000 [==============================] - 6s 116us/step - loss: 1.4861 - acc: 0.4754 - val_loss: 1.5374 - val_acc: 0.4577\n",
      "Epoch 5/10\n",
      "50000/50000 [==============================] - 6s 121us/step - loss: 1.4590 - acc: 0.4838 - val_loss: 1.5428 - val_acc: 0.4615\n",
      "Epoch 6/10\n",
      "50000/50000 [==============================] - 6s 127us/step - loss: 1.4328 - acc: 0.4918 - val_loss: 1.5068 - val_acc: 0.4679\n",
      "Epoch 7/10\n",
      "50000/50000 [==============================] - 7s 132us/step - loss: 1.4125 - acc: 0.5021 - val_loss: 1.5639 - val_acc: 0.4509\n",
      "Epoch 8/10\n",
      "50000/50000 [==============================] - 6s 120us/step - loss: 1.3961 - acc: 0.5062 - val_loss: 1.5210 - val_acc: 0.4713\n",
      "Epoch 9/10\n",
      "50000/50000 [==============================] - 6s 118us/step - loss: 1.3785 - acc: 0.5108 - val_loss: 1.5490 - val_acc: 0.4587\n",
      "Epoch 10/10\n",
      "50000/50000 [==============================] - 6s 123us/step - loss: 1.3665 - acc: 0.5152 - val_loss: 1.5424 - val_acc: 0.4615\n"
     ]
    },
    {
     "data": {
      "text/plain": [
       "<keras.callbacks.History at 0x1aad2dccc50>"
      ]
     },
     "execution_count": 9,
     "metadata": {},
     "output_type": "execute_result"
    }
   ],
   "source": [
    "# Entrenamiento del modelo\n",
    "model.fit(x_train, y_train, epochs=10, batch_size=16, validation_data=(x_test,y_test), callbacks=[es])"
   ]
  },
  {
   "cell_type": "code",
   "execution_count": 10,
   "metadata": {},
   "outputs": [
    {
     "name": "stdout",
     "output_type": "stream",
     "text": [
      "Model: \"sequential_1\"\n",
      "_________________________________________________________________\n",
      "Layer (type)                 Output Shape              Param #   \n",
      "=================================================================\n",
      "flatten_1 (Flatten)          (None, 3072)              0         \n",
      "_________________________________________________________________\n",
      "dense_1 (Dense)              (None, 32)                98336     \n",
      "_________________________________________________________________\n",
      "dense_2 (Dense)              (None, 10)                330       \n",
      "=================================================================\n",
      "Total params: 98,666\n",
      "Trainable params: 98,666\n",
      "Non-trainable params: 0\n",
      "_________________________________________________________________\n",
      "None\n"
     ]
    }
   ],
   "source": [
    "print(model.summary())"
   ]
  },
  {
   "cell_type": "code",
   "execution_count": 11,
   "metadata": {},
   "outputs": [],
   "source": [
    "#Confution Matrix and Classification Report\n",
    "y_pred = model.predict(x_test)\n",
    "y_pred_labels = np.argmax(y_pred,axis = 1) "
   ]
  },
  {
   "cell_type": "code",
   "execution_count": 12,
   "metadata": {},
   "outputs": [
    {
     "name": "stdout",
     "output_type": "stream",
     "text": [
      "Confusion Matrix\n",
      "[[475  39  73   3  24  23  24  20 213 106]\n",
      " [ 37 525  32   4  22  12  20  15 105 228]\n",
      " [ 74  18 387  20 196  89  82  57  37  40]\n",
      " [ 49  23 131  94  92 294 133  43  60  81]\n",
      " [ 51  12 180  10 482  55  84  53  42  31]\n",
      " [ 18  18 150  77  90 400  78  67  52  50]\n",
      " [ 12  19  94  32 186  56 511  19  35  36]\n",
      " [ 55  21  89  21 117  88  28 474  27  80]\n",
      " [ 95  52  16   3  23  24   7   8 643 129]\n",
      " [ 47 161  24   8  18  18  25  19  56 624]]\n"
     ]
    }
   ],
   "source": [
    "print('Confusion Matrix')\n",
    "print(confusion_matrix(y_test, y_pred_labels))"
   ]
  },
  {
   "cell_type": "code",
   "execution_count": 13,
   "metadata": {},
   "outputs": [
    {
     "name": "stdout",
     "output_type": "stream",
     "text": [
      "Classification Report\n",
      "              precision    recall  f1-score   support\n",
      "\n",
      "           0       0.52      0.47      0.50      1000\n",
      "           1       0.59      0.53      0.56      1000\n",
      "           2       0.33      0.39      0.36      1000\n",
      "           3       0.35      0.09      0.15      1000\n",
      "           4       0.39      0.48      0.43      1000\n",
      "           5       0.38      0.40      0.39      1000\n",
      "           6       0.52      0.51      0.51      1000\n",
      "           7       0.61      0.47      0.53      1000\n",
      "           8       0.51      0.64      0.57      1000\n",
      "           9       0.44      0.62      0.52      1000\n",
      "\n",
      "    accuracy                           0.46     10000\n",
      "   macro avg       0.46      0.46      0.45     10000\n",
      "weighted avg       0.46      0.46      0.45     10000\n",
      "\n"
     ]
    }
   ],
   "source": [
    "print('Classification Report')\n",
    "#target_names = ['1', '2', '3', '4', '5', '6', '7', '8', '9', '10']\n",
    "print(classification_report(y_test, y_pred_labels))\n",
    "#print(classification_report(Y_test, y_pred_labels, target_names=target_names))"
   ]
  },
  {
   "cell_type": "markdown",
   "metadata": {},
   "source": [
    "# CNN en CIFAR10"
   ]
  },
  {
   "cell_type": "code",
   "execution_count": 17,
   "metadata": {},
   "outputs": [],
   "source": [
    "input_shape = (32, 32, 3)"
   ]
  },
  {
   "cell_type": "markdown",
   "metadata": {},
   "source": [
    "## Modelo 1"
   ]
  },
  {
   "cell_type": "code",
   "execution_count": 18,
   "metadata": {},
   "outputs": [
    {
     "name": "stdout",
     "output_type": "stream",
     "text": [
      "WARNING:tensorflow:From C:\\Users\\dalessam\\AppData\\Local\\Continuum\\anaconda3\\envs\\deep_env\\lib\\site-packages\\keras\\backend\\tensorflow_backend.py:4267: The name tf.nn.max_pool is deprecated. Please use tf.nn.max_pool2d instead.\n",
      "\n"
     ]
    }
   ],
   "source": [
    "es = EarlyStopping(monitor='val_acc', mode='min', patience=5, verbose=1)\n",
    "\n",
    "model = Sequential()\n",
    "model.add(Conv2D(64, kernel_size = 7, activation='relu', input_shape=(input_shape), strides = 1))\n",
    "model.add(MaxPooling2D(pool_size=(2,2), strides = 2))\n",
    "model.add(Flatten())\n",
    "model.add(Dense(classes, activation='softmax'))\n",
    "\n",
    "model.compile(\n",
    "  optimizer=keras.optimizers.Adam(lr=0.001,beta_1=0.9,beta_2=0.999,amsgrad=False), \n",
    "  loss='sparse_categorical_crossentropy', \n",
    "  # metricas para ir calculando en cada iteracion o batch \n",
    "  # Agregamos el accuracy del modelo\n",
    "  metrics=['accuracy'], \n",
    ")"
   ]
  },
  {
   "cell_type": "code",
   "execution_count": 19,
   "metadata": {},
   "outputs": [
    {
     "name": "stdout",
     "output_type": "stream",
     "text": [
      "Train on 50000 samples, validate on 10000 samples\n",
      "Epoch 1/10\n",
      "50000/50000 [==============================] - 42s 842us/step - loss: 1.4727 - acc: 0.5003 - val_loss: 1.2561 - val_acc: 0.5733\n",
      "Epoch 2/10\n",
      "50000/50000 [==============================] - 43s 860us/step - loss: 1.2290 - acc: 0.5921 - val_loss: 1.2491 - val_acc: 0.5894\n",
      "Epoch 3/10\n",
      "50000/50000 [==============================] - 43s 866us/step - loss: 1.1572 - acc: 0.6138 - val_loss: 1.2304 - val_acc: 0.5995\n",
      "Epoch 4/10\n",
      "50000/50000 [==============================] - 41s 828us/step - loss: 1.1140 - acc: 0.6309 - val_loss: 1.3264 - val_acc: 0.5742\n",
      "Epoch 5/10\n",
      "50000/50000 [==============================] - 42s 849us/step - loss: 1.0678 - acc: 0.6462 - val_loss: 1.2562 - val_acc: 0.5992\n",
      "Epoch 6/10\n",
      "50000/50000 [==============================] - 47s 933us/step - loss: 1.0230 - acc: 0.6592 - val_loss: 1.3086 - val_acc: 0.5891\n",
      "Epoch 00006: early stopping\n"
     ]
    },
    {
     "data": {
      "text/plain": [
       "<keras.callbacks.History at 0x1aadb2802e8>"
      ]
     },
     "execution_count": 19,
     "metadata": {},
     "output_type": "execute_result"
    }
   ],
   "source": [
    "# Entrenamiento del modelo\n",
    "model.fit(x_train, y_train, epochs=10, batch_size=16, validation_data=(x_test,y_test), callbacks=[es])"
   ]
  },
  {
   "cell_type": "code",
   "execution_count": 20,
   "metadata": {},
   "outputs": [
    {
     "name": "stdout",
     "output_type": "stream",
     "text": [
      "Model: \"sequential_3\"\n",
      "_________________________________________________________________\n",
      "Layer (type)                 Output Shape              Param #   \n",
      "=================================================================\n",
      "conv2d_1 (Conv2D)            (None, 26, 26, 64)        9472      \n",
      "_________________________________________________________________\n",
      "max_pooling2d_1 (MaxPooling2 (None, 13, 13, 64)        0         \n",
      "_________________________________________________________________\n",
      "flatten_2 (Flatten)          (None, 10816)             0         \n",
      "_________________________________________________________________\n",
      "dense_3 (Dense)              (None, 10)                108170    \n",
      "=================================================================\n",
      "Total params: 117,642\n",
      "Trainable params: 117,642\n",
      "Non-trainable params: 0\n",
      "_________________________________________________________________\n",
      "None\n"
     ]
    }
   ],
   "source": [
    "print(model.summary())"
   ]
  },
  {
   "cell_type": "code",
   "execution_count": 21,
   "metadata": {},
   "outputs": [],
   "source": [
    "#Confution Matrix and Classification Report\n",
    "y_pred = model.predict(x_test)\n",
    "y_pred_labels = np.argmax(y_pred,axis = 1) "
   ]
  },
  {
   "cell_type": "code",
   "execution_count": 22,
   "metadata": {},
   "outputs": [
    {
     "name": "stdout",
     "output_type": "stream",
     "text": [
      "Confusion Matrix\n",
      "[[561  56 153  15  55   8  31  20  69  32]\n",
      " [ 46 753  28  18   9  12  12  12  22  88]\n",
      " [ 48   7 537  61 106  96  79  45  12   9]\n",
      " [ 21  21 125 404  86 187  88  42  15  11]\n",
      " [ 20   7 130  67 576  43  79  71   6   1]\n",
      " [ 10  15 150 185  68 446  44  60  14   8]\n",
      " [  3   6  56  79  65  28 746  13   2   2]\n",
      " [ 20   9  83  53  93  68  13 648   2  11]\n",
      " [120  93  55  19  21   7  22   9 597  57]\n",
      " [ 63 155  31  22  17  13  23  33  20 623]]\n"
     ]
    }
   ],
   "source": [
    "print('Confusion Matrix')\n",
    "print(confusion_matrix(y_test, y_pred_labels))"
   ]
  },
  {
   "cell_type": "code",
   "execution_count": 23,
   "metadata": {},
   "outputs": [
    {
     "name": "stdout",
     "output_type": "stream",
     "text": [
      "Classification Report\n",
      "              precision    recall  f1-score   support\n",
      "\n",
      "           0       0.62      0.56      0.59      1000\n",
      "           1       0.67      0.75      0.71      1000\n",
      "           2       0.40      0.54      0.46      1000\n",
      "           3       0.44      0.40      0.42      1000\n",
      "           4       0.53      0.58      0.55      1000\n",
      "           5       0.49      0.45      0.47      1000\n",
      "           6       0.66      0.75      0.70      1000\n",
      "           7       0.68      0.65      0.66      1000\n",
      "           8       0.79      0.60      0.68      1000\n",
      "           9       0.74      0.62      0.68      1000\n",
      "\n",
      "    accuracy                           0.59     10000\n",
      "   macro avg       0.60      0.59      0.59     10000\n",
      "weighted avg       0.60      0.59      0.59     10000\n",
      "\n"
     ]
    }
   ],
   "source": [
    "print('Classification Report')\n",
    "#target_names = ['1', '2', '3', '4', '5', '6', '7', '8', '9', '10']\n",
    "print(classification_report(y_test, y_pred_labels))\n",
    "#print(classification_report(Y_test, y_pred_labels, target_names=target_names))"
   ]
  },
  {
   "cell_type": "markdown",
   "metadata": {},
   "source": [
    "## Modelo 2"
   ]
  },
  {
   "cell_type": "code",
   "execution_count": 24,
   "metadata": {},
   "outputs": [],
   "source": [
    "es = EarlyStopping(monitor='val_acc', mode='min', patience=5, verbose=1)\n",
    "\n",
    "model = Sequential()\n",
    "model.add(Conv2D(128, kernel_size = 7, activation='relu', input_shape=(input_shape), strides = 1))\n",
    "model.add(MaxPooling2D(pool_size=(2,2), strides = 2))\n",
    "model.add(Flatten())\n",
    "model.add(Dense(classes, activation='softmax'))\n",
    "\n",
    "model.compile(\n",
    "  optimizer=keras.optimizers.Adam(lr=0.001,beta_1=0.9,beta_2=0.999,amsgrad=False), \n",
    "  loss='sparse_categorical_crossentropy', \n",
    "  # metricas para ir calculando en cada iteracion o batch \n",
    "  # Agregamos el accuracy del modelo\n",
    "  metrics=['accuracy'], \n",
    ")"
   ]
  },
  {
   "cell_type": "code",
   "execution_count": 25,
   "metadata": {},
   "outputs": [
    {
     "name": "stdout",
     "output_type": "stream",
     "text": [
      "Train on 50000 samples, validate on 10000 samples\n",
      "Epoch 1/10\n",
      "50000/50000 [==============================] - 78s 2ms/step - loss: 1.5254 - acc: 0.4958 - val_loss: 1.2684 - val_acc: 0.5810\n",
      "Epoch 2/10\n",
      "50000/50000 [==============================] - 86s 2ms/step - loss: 1.2579 - acc: 0.5849 - val_loss: 1.2199 - val_acc: 0.5948\n",
      "Epoch 3/10\n",
      "50000/50000 [==============================] - 79s 2ms/step - loss: 1.1828 - acc: 0.6099 - val_loss: 1.2623 - val_acc: 0.5863\n",
      "Epoch 4/10\n",
      "50000/50000 [==============================] - 88s 2ms/step - loss: 1.1314 - acc: 0.6263 - val_loss: 1.2231 - val_acc: 0.6053\n",
      "Epoch 5/10\n",
      "50000/50000 [==============================] - 89s 2ms/step - loss: 1.0823 - acc: 0.6426 - val_loss: 1.2217 - val_acc: 0.6022\n",
      "Epoch 6/10\n",
      "50000/50000 [==============================] - 90s 2ms/step - loss: 1.0283 - acc: 0.6578 - val_loss: 1.2770 - val_acc: 0.5931\n",
      "Epoch 00006: early stopping\n"
     ]
    },
    {
     "data": {
      "text/plain": [
       "<keras.callbacks.History at 0x1aad31f9ba8>"
      ]
     },
     "execution_count": 25,
     "metadata": {},
     "output_type": "execute_result"
    }
   ],
   "source": [
    "# Entrenamiento del modelo\n",
    "model.fit(x_train, y_train, epochs=10, batch_size=16, validation_data=(x_test,y_test), callbacks=[es])"
   ]
  },
  {
   "cell_type": "code",
   "execution_count": null,
   "metadata": {},
   "outputs": [],
   "source": []
  }
 ],
 "metadata": {
  "kernelspec": {
   "display_name": "Python 3",
   "language": "python",
   "name": "python3"
  },
  "language_info": {
   "codemirror_mode": {
    "name": "ipython",
    "version": 3
   },
   "file_extension": ".py",
   "mimetype": "text/x-python",
   "name": "python",
   "nbconvert_exporter": "python",
   "pygments_lexer": "ipython3",
   "version": "3.7.1"
  },
  "toc": {
   "base_numbering": 1,
   "nav_menu": {},
   "number_sections": true,
   "sideBar": true,
   "skip_h1_title": false,
   "title_cell": "Table of Contents",
   "title_sidebar": "Contents",
   "toc_cell": false,
   "toc_position": {},
   "toc_section_display": true,
   "toc_window_display": false
  },
  "varInspector": {
   "cols": {
    "lenName": 16,
    "lenType": 16,
    "lenVar": 40
   },
   "kernels_config": {
    "python": {
     "delete_cmd_postfix": "",
     "delete_cmd_prefix": "del ",
     "library": "var_list.py",
     "varRefreshCmd": "print(var_dic_list())"
    },
    "r": {
     "delete_cmd_postfix": ") ",
     "delete_cmd_prefix": "rm(",
     "library": "var_list.r",
     "varRefreshCmd": "cat(var_dic_list()) "
    }
   },
   "types_to_exclude": [
    "module",
    "function",
    "builtin_function_or_method",
    "instance",
    "_Feature"
   ],
   "window_display": false
  }
 },
 "nbformat": 4,
 "nbformat_minor": 4
}
