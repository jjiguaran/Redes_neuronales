{
 "cells": [
  {
   "cell_type": "markdown",
   "metadata": {},
   "source": [
    "# Convoluciones 1D\n",
    "En este ejercicio implementaremos convoluciones en 1D utilizando numpy. El objetivo es comprender el funcionamiento de estas operaciones para luego poder utilizarlas de manera mas eficaz al definir redes neuronales.\n",
    "\n",
    "Comenzaremos implementando convoluciones 1D sin stride o salto. Luego agregaremos la habilidad de especificar el stride, y finalmente el padding o relleno. Por último, tendrás que determinar el valor de los parámetros para filtrar una señal con ruido."
   ]
  },
  {
   "cell_type": "code",
   "execution_count": null,
   "metadata": {},
   "outputs": [],
   "source": [
    "import numpy as np\n",
    "import matplotlib.pyplot as plt\n",
    "\n",
    "def equal_array(verdadero,calculado):\n",
    "    if verdadero.shape != calculado.shape:\n",
    "        print(\"Incorrecto: Los vectores tienen tamaños distintos\")\n",
    "        print(\"verdadero.shape = \", verdadero.shape)\n",
    "        print(\"calculado.shape = \", calculado.shape)\n",
    "        return\n",
    "    equals=np.all(verdadero==calculado)\n",
    "    if equals:\n",
    "        print(\"Correcto: Los arreglos son iguales.\")\n",
    "    else:\n",
    "        print(\"Incorrecto: Los arreglos no son iguales.\")\n",
    "        print(\"Debió obtener:\")\n",
    "        print(verdadero)\n",
    "        print(\"Obtuvo:\")\n",
    "        print(calculado)\n",
    "\n",
    "def impar(x): \n",
    "    return x%2 == 1\n"
   ]
  },
  {
   "cell_type": "markdown",
   "metadata": {},
   "source": [
    "## 1. Convoluciones 1D simples\n",
    "En este ejercicio deberas implementar convoluciones para señales de 1D. Esto quiere decir que el vector de entrada `x` tiene una sola dimensión, así como el vector de pesos `w`.\n",
    "\n",
    "Ejemplo: \n",
    "![](conv1d/conv1d_slow.gif)\n"
   ]
  },
  {
   "cell_type": "code",
   "execution_count": null,
   "metadata": {},
   "outputs": [],
   "source": [
    "def conv1d_simple(w, x):\n",
    "    nx, = x.shape #Longitud del vector de entrada\n",
    "    d, = w.shape #Longitud del vector de pesos\n",
    "    assert impar(d), \"La longitud de w debe ser un número impar\"\n",
    "    ny = nx-d+1 #Longitud del vector de salida\n",
    "    y = np.zeros(ny) #Vector de salida\n",
    "    \n",
    "    ## TODO : COMPLETAR\n",
    "    ## Calcular la convolución y guardarla en el vector Y\n",
    "    ## Pista: Usar un for y la variable ny\n",
    "  \n",
    "\n",
    "     ## FIN TODO    \n",
    "    \n",
    "    return y\n",
    "\n",
    "w = np.array([1, 0, -1])\n",
    "x = np.array ([5 , 0, 2, -1, 3, 0, 2])\n",
    "y_verdadero = np.array([3, 1 , -1, -1, 1])\n",
    "y = conv1d_simple(w, x)\n",
    "\n",
    "equal_array(y_verdadero, y)\n",
    "\n"
   ]
  },
  {
   "cell_type": "markdown",
   "metadata": {},
   "source": [
    "## 2. Convoluciones 1D con stride\n",
    "En este ejercicio deberás agregar la capacidad de hacer convoluciones con stride mayores a 1. Ten en cuenta que ahora el vector resultante va a ser más corto si el stride es mayor a 1.\n",
    "\n",
    "Ejemplo con `stride = 2`: \n",
    "![](conv1d/conv1dstride_slow.gif)"
   ]
  },
  {
   "cell_type": "code",
   "execution_count": null,
   "metadata": {},
   "outputs": [],
   "source": [
    "def conv1d_stride(w, x, stride):\n",
    "    nx, = x.shape #Longitud del vector de entrada\n",
    "    d, = w.shape #Longitud del vector de pesos\n",
    "    assert impar(d), \"La longitud de w debe ser un número impar\"\n",
    "    ny = int((nx-d)/stride)+1 #Longitud del vector de salida\n",
    "    y = np.zeros(ny) #Vector de salida\n",
    "    \n",
    "     ## TODO : COMPLETAR\n",
    "    #Calcular la convolución y guardarla en el vector Y\n",
    "  \n",
    "\n",
    "\n",
    "     ## FIN TODO    \n",
    "    \n",
    "    return y\n",
    "\n",
    "w = np.array([1, 0, -1])\n",
    "x = np.array ([5 , 0, 2, -1, 3, 0, 2])\n",
    "y_verdadero = np.array([3, -1, 1])\n",
    "stride = 2\n",
    "y = conv1d_stride(w, x, stride)\n",
    "\n",
    "equal_array(y_verdadero, y)\n",
    "\n"
   ]
  },
  {
   "cell_type": "markdown",
   "metadata": {},
   "source": [
    "## 3. Padding para conservar la dimensión\n",
    "Como habrás notado al aplicar la convolución en los bordes el tamaño del vector de salida es menor que el de entrada, aún cuando `stride = 1`.\n",
    "\n",
    "Por ejemplo, sí el tamaño de `w` es 3, la salida tendrá dos elementos menos, ya que se pierde uno a la izquierda de `x` y otro a la derecha del mismo. \n",
    "\n",
    "Sí el tamaño de `w` es 5 entonces la salida tendrá 4 elementos menos, dos a la izquierda de `x` y dos a la derecha.\n",
    "\n",
    "Una manera de evitar esto es rellenar el vector de entrada con 0 a la izquierda y a la derecha. Este proceso se llama agregar *padding*. Eligiendo el tamaño del relleno con cuidado podemos lograr que el tamaño del vector de salida sea igual que el de entrada.\n",
    "\n",
    "Implementa la función `pad1d` que rellena un vector de 1D con `0` a izquierda y derecha.\n"
   ]
  },
  {
   "cell_type": "code",
   "execution_count": null,
   "metadata": {},
   "outputs": [],
   "source": [
    "def pad1d(x, pad_size):\n",
    "    x_relleno = np.zeros(x.shape[0]+2*pad_size)\n",
    "    \n",
    "    ##TODO: COMPLETAR\n",
    "    ##x_relleno debe ser igual que x\n",
    "    ##pero agregando pad_size ceros a izquierda y derecha\n",
    "\n",
    "    \n",
    "    \n",
    "    ##FIN TODO\n",
    "\n",
    "    return x_relleno\n",
    "\n",
    "x = np.array([1.0, 2, 3])\n",
    "x_relleno = pad1d(x, 2)\n",
    "x_relleno_verdadero = np.array([0, 0, 1.0, 2, 3, 0, 0])\n",
    "\n",
    "equal_array(x_relleno_verdadero, x_relleno)\n"
   ]
  },
  {
   "cell_type": "markdown",
   "metadata": {},
   "source": [
    "## 4. Convoluciones con padding\n",
    "\n",
    "Implementa la función `conv1d` para que soporte el parametro `pad_size`. Antes de realizar la convolución, debe llamar a la función `pad1d` para generar un `x` relleno. \n",
    "\n",
    "![](conv1d/conv1dpad_slow.gif)"
   ]
  },
  {
   "cell_type": "code",
   "execution_count": null,
   "metadata": {},
   "outputs": [],
   "source": [
    "def conv1d(w, x, stride = 1, pad_size = 0):\n",
    "    \n",
    "    ##TODO: IMPLEMENTAR\n",
    "    ##RELLENAR A X ANTES DE HACER LA CONVOLUCION\n",
    "    \n",
    "    \n",
    "    ##FIN TODO\n",
    "    \n",
    "    return conv1d_stride(w, x_relleno, stride)\n",
    "\n",
    "w = np.array([1, 0, -1])\n",
    "x = np.array ([5 , 0, 2, -1, 3, 0, 2])\n",
    "y_verdadero = np.array([0, 3, 1, -1, -1, 1, 0])\n",
    "y = conv1d(w, x, stride = 1, pad_size = 1)\n",
    "\n",
    "equal_array(y_verdadero, y)\n"
   ]
  },
  {
   "cell_type": "markdown",
   "metadata": {},
   "source": [
    "## 5. Jugando con convoluciones 1D\n",
    "Ahora que has implementado correctamente las convoluciones de 1D, utilizaremos esa operación para intentar filtrar una señal. Tu objetivo será encontrar un vector `w` que elimine la información de alta frecuencia, es decir las pequeñas oscilaciones. "
   ]
  },
  {
   "cell_type": "code",
   "execution_count": null,
   "metadata": {},
   "outputs": [],
   "source": [
    "##MODIFICA LAS VARIABLES STRIDE Y W PARA FILTRAR LA SEÑAL. \n",
    "##PRUEBA CAMBIANDO TANTO LOS VALORES DE W COMO SU TAMAÑO,\n",
    "##PERO RECUERDA QUE SIEMPRE DEBE TENER UNA CANTIDAD IMPAR DE VALORES\n",
    "stride= 1 \n",
    "w= np.array([1, 0, -1])\n",
    "##FIN MODIFICACION\n",
    "\n",
    "ix= np.arange(100)\n",
    "x= np.cos(ix*0.1)+np.sin(ix*10)*0.1\n",
    "y= conv1d(w, x, stride, pad_size = 1)\n",
    "\n",
    "f,(ax1, ax2, ax3) = plt.subplots(3,1, figsize=(15, 10))\n",
    "ax1.plot(ix, x)\n",
    "ax1.set_title(\"Original: x\")\n",
    "\n",
    "ax2.plot(np.arange(len(y)), y)\n",
    "ax2.set_title(f\"Filtrado: conv1d(w, x, stride) (w={w}, stride={stride})\")\n",
    "\n",
    "y_ideal = np.load(\"ideal.npy\")\n",
    "\n",
    "ax3.plot(np.arange(len(y_ideal)), y_ideal)\n",
    "ax3.set_title(\"Ideal (El filtrado debería verse así)\")\n",
    "\n"
   ]
  }
 ],
 "metadata": {
  "kernelspec": {
   "display_name": "Python 3",
   "language": "python",
   "name": "python3"
  },
  "language_info": {
   "codemirror_mode": {
    "name": "ipython",
    "version": 3
   },
   "file_extension": ".py",
   "mimetype": "text/x-python",
   "name": "python",
   "nbconvert_exporter": "python",
   "pygments_lexer": "ipython3",
   "version": "3.6.7"
  }
 },
 "nbformat": 4,
 "nbformat_minor": 2
}
