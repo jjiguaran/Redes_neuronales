{
 "cells": [
  {
   "cell_type": "code",
   "execution_count": 30,
   "metadata": {},
   "outputs": [],
   "source": [
    "# comando de Jupyter para que las imagenes se muestren automaticamente \n",
    "%matplotlib inline\n",
    "\n",
    "import tensorflow as tf\n",
    "import keras\n",
    "import numpy as np\n",
    "import matplotlib.pyplot as plt\n",
    "\n",
    "from sklearn.metrics import classification_report, confusion_matrix\n",
    "from keras.layers.convolutional import Conv2D, MaxPooling2D\n",
    "from keras.models import Sequential\n",
    "from keras.layers import Dense, Activation, Flatten"
   ]
  },
  {
   "cell_type": "markdown",
   "metadata": {},
   "source": [
    "# Carga Datos"
   ]
  },
  {
   "cell_type": "code",
   "execution_count": 14,
   "metadata": {},
   "outputs": [],
   "source": [
    "from keras.datasets import cifar10\n",
    "(x_train, y_train), (x_test, y_test) = cifar10.load_data()"
   ]
  },
  {
   "cell_type": "code",
   "execution_count": 15,
   "metadata": {},
   "outputs": [
    {
     "name": "stdout",
     "output_type": "stream",
     "text": [
      "Train: X=(50000, 32, 32, 3), y=(50000, 1)\n",
      "Test: X=(10000, 32, 32, 3), y=(10000, 1)\n"
     ]
    }
   ],
   "source": [
    "# summarize loaded dataset\n",
    "print('Train: X=%s, y=%s' % (x_train.shape, y_train.shape))\n",
    "print('Test: X=%s, y=%s' % (x_test.shape, y_test.shape))"
   ]
  },
  {
   "cell_type": "code",
   "execution_count": 33,
   "metadata": {},
   "outputs": [],
   "source": [
    "n,h,w,c = x_train.shape\n",
    "classes=int(y_train.max()+1)"
   ]
  },
  {
   "cell_type": "markdown",
   "metadata": {},
   "source": [
    "# Visualización"
   ]
  },
  {
   "cell_type": "code",
   "execution_count": 18,
   "metadata": {},
   "outputs": [
    {
     "name": "stderr",
     "output_type": "stream",
     "text": [
      "Clipping input data to the valid range for imshow with RGB data ([0..1] for floats or [0..255] for integers).\n"
     ]
    },
    {
     "data": {
      "text/plain": [
       "<matplotlib.image.AxesImage at 0x210ac0fee10>"
      ]
     },
     "execution_count": 18,
     "metadata": {},
     "output_type": "execute_result"
    },
    {
     "data": {
      "image/png": "[encoded data removed]",
      "text/plain": [
       "<Figure size 432x288 with 1 Axes>"
      ]
     },
     "metadata": {
      "needs_background": "light"
     },
     "output_type": "display_data"
    }
   ],
   "source": [
    "plt.imshow(x_train[0,:,:,:]) #se incluye la dimensión de canales"
   ]
  },
  {
   "cell_type": "markdown",
   "metadata": {},
   "source": [
    "# Normalización"
   ]
  },
  {
   "cell_type": "code",
   "execution_count": 17,
   "metadata": {},
   "outputs": [],
   "source": [
    "# Aca hacerlo por canal\n",
    "for i in range(c):\n",
    "    x_train = (x_train - x_train.mean()) / x_train.std()\n",
    "    x_test = (x_test - x_test.mean()) / x_test.std()"
   ]
  },
  {
   "cell_type": "code",
   "execution_count": 28,
   "metadata": {},
   "outputs": [
    {
     "name": "stdout",
     "output_type": "stream",
     "text": [
      "mean:  -4.440892098500626e-18\n",
      "std:  1.0000000000000002\n"
     ]
    }
   ],
   "source": [
    "print (\"mean: \",x_train.mean())\n",
    "print (\"std: \",x_train.std())"
   ]
  },
  {
   "cell_type": "markdown",
   "metadata": {},
   "source": [
    "# Sin CNN CIFAR10"
   ]
  },
  {
   "cell_type": "markdown",
   "metadata": {},
   "source": [
    "Entrene un modelo para clasificar las imágenes, utilizando una softmax en la capa de salida y la entropía cruzada como función de error.  Mida el error y el accuracy en el conjunto de test (y el de train). Compute la matriz de confusión, pero antes de mirarla ¿qué pares de clases te parece que van a confundirse más? Recuerde normalizar los datos con anterioridad. En este caso, la normalización debe realizarse por cada canal."
   ]
  },
  {
   "cell_type": "code",
   "execution_count": 35,
   "metadata": {},
   "outputs": [
    {
     "name": "stdout",
     "output_type": "stream",
     "text": [
      "WARNING:tensorflow:From C:\\Users\\dalessam\\AppData\\Local\\Continuum\\anaconda3\\envs\\deep_env\\lib\\site-packages\\keras\\optimizers.py:793: The name tf.train.Optimizer is deprecated. Please use tf.compat.v1.train.Optimizer instead.\n",
      "\n",
      "WARNING:tensorflow:From C:\\Users\\dalessam\\AppData\\Local\\Continuum\\anaconda3\\envs\\deep_env\\lib\\site-packages\\keras\\backend\\tensorflow_backend.py:3622: The name tf.log is deprecated. Please use tf.math.log instead.\n",
      "\n"
     ]
    }
   ],
   "source": [
    "model = Sequential()\n",
    "model.add(Flatten(input_shape=(32,32,3)))\n",
    "model.add(Dense(32,activation='relu'))\n",
    "model.add(Dense(classes, activation='softmax'))\n",
    "model.compile(\n",
    "  optimizer=keras.optimizers.Adam(lr=0.001,beta_1=0.9,beta_2=0.999,amsgrad=False), \n",
    "  loss='sparse_categorical_crossentropy', \n",
    "  # metricas para ir calculando en cada iteracion o batch \n",
    "  # Agregamos el accuracy del modelo\n",
    "  metrics=['accuracy'], \n",
    ")"
   ]
  },
  {
   "cell_type": "code",
   "execution_count": 36,
   "metadata": {},
   "outputs": [
    {
     "name": "stdout",
     "output_type": "stream",
     "text": [
      "WARNING:tensorflow:From C:\\Users\\dalessam\\AppData\\Local\\Continuum\\anaconda3\\envs\\deep_env\\lib\\site-packages\\tensorflow\\python\\ops\\math_grad.py:1250: add_dispatch_support.<locals>.wrapper (from tensorflow.python.ops.array_ops) is deprecated and will be removed in a future version.\n",
      "Instructions for updating:\n",
      "Use tf.where in 2.0, which has the same broadcast rule as np.where\n",
      "WARNING:tensorflow:From C:\\Users\\dalessam\\AppData\\Local\\Continuum\\anaconda3\\envs\\deep_env\\lib\\site-packages\\keras\\backend\\tensorflow_backend.py:1033: The name tf.assign_add is deprecated. Please use tf.compat.v1.assign_add instead.\n",
      "\n",
      "Train on 50000 samples, validate on 10000 samples\n",
      "Epoch 1/10\n",
      "50000/50000 [==============================] - 7s 133us/step - loss: 1.8830 - acc: 0.3697 - val_loss: 1.6047 - val_acc: 0.4346\n",
      "Epoch 2/10\n",
      "50000/50000 [==============================] - 6s 125us/step - loss: 1.5897 - acc: 0.4388 - val_loss: 1.5795 - val_acc: 0.4451\n",
      "Epoch 3/10\n",
      "50000/50000 [==============================] - 6s 122us/step - loss: 1.5282 - acc: 0.4611 - val_loss: 1.5555 - val_acc: 0.4499\n",
      "Epoch 4/10\n",
      "50000/50000 [==============================] - 6s 122us/step - loss: 1.4912 - acc: 0.4751 - val_loss: 1.5363 - val_acc: 0.4578\n",
      "Epoch 5/10\n",
      "50000/50000 [==============================] - 6s 126us/step - loss: 1.4599 - acc: 0.4845 - val_loss: 1.5310 - val_acc: 0.4727\n",
      "Epoch 6/10\n",
      "50000/50000 [==============================] - 6s 121us/step - loss: 1.4371 - acc: 0.4929 - val_loss: 1.5553 - val_acc: 0.4565\n",
      "Epoch 7/10\n",
      "50000/50000 [==============================] - 6s 123us/step - loss: 1.4150 - acc: 0.4998 - val_loss: 1.5584 - val_acc: 0.4593\n",
      "Epoch 8/10\n",
      "50000/50000 [==============================] - 6s 118us/step - loss: 1.3970 - acc: 0.5047 - val_loss: 1.5423 - val_acc: 0.4629\n",
      "Epoch 9/10\n",
      "50000/50000 [==============================] - 6s 122us/step - loss: 1.3804 - acc: 0.5111 - val_loss: 1.5453 - val_acc: 0.4666\n",
      "Epoch 10/10\n",
      "50000/50000 [==============================] - 6s 125us/step - loss: 1.3666 - acc: 0.5155 - val_loss: 1.5588 - val_acc: 0.4660\n"
     ]
    },
    {
     "data": {
      "text/plain": [
       "<keras.callbacks.History at 0x210ac4068d0>"
      ]
     },
     "execution_count": 36,
     "metadata": {},
     "output_type": "execute_result"
    }
   ],
   "source": [
    "# Entrenamiento del modelo\n",
    "model.fit(x_train, y_train, epochs=10, batch_size=16, validation_data=(x_test,y_test))"
   ]
  },
  {
   "cell_type": "code",
   "execution_count": 37,
   "metadata": {},
   "outputs": [
    {
     "name": "stdout",
     "output_type": "stream",
     "text": [
      "Model: \"sequential_2\"\n",
      "_________________________________________________________________\n",
      "Layer (type)                 Output Shape              Param #   \n",
      "=================================================================\n",
      "flatten_2 (Flatten)          (None, 3072)              0         \n",
      "_________________________________________________________________\n",
      "dense_2 (Dense)              (None, 32)                98336     \n",
      "_________________________________________________________________\n",
      "dense_3 (Dense)              (None, 10)                330       \n",
      "=================================================================\n",
      "Total params: 98,666\n",
      "Trainable params: 98,666\n",
      "Non-trainable params: 0\n",
      "_________________________________________________________________\n",
      "None\n"
     ]
    }
   ],
   "source": [
    "print(model.summary())"
   ]
  },
  {
   "cell_type": "code",
   "execution_count": 39,
   "metadata": {},
   "outputs": [],
   "source": [
    "#Confution Matrix and Classification Report\n",
    "y_pred = model.predict(x_test)\n",
    "y_pred_labels = np.argmax(y_pred,axis = 1) "
   ]
  },
  {
   "cell_type": "code",
   "execution_count": 40,
   "metadata": {},
   "outputs": [
    {
     "name": "stdout",
     "output_type": "stream",
     "text": [
      "Confusion Matrix\n",
      "[[595  43  56   9  16  20  26  50 133  52]\n",
      " [ 64 532  18   4   5   4  29  42  64 238]\n",
      " [ 88  31 318  40 116  82 133 147  14  31]\n",
      " [ 50  34  81 148  49 213 156 160  51  58]\n",
      " [ 64  21 121  20 334  53 134 208  31  14]\n",
      " [ 31  19  72 100  50 359 114 173  51  31]\n",
      " [ 15  22  85  35 121  59 529  81  29  24]\n",
      " [ 62  11  40  23  40  76  29 667  17  35]\n",
      " [140  65  19  11  19  16  16  25 613  76]\n",
      " [ 59 140  16   9   7  28  22  97  57 565]]\n"
     ]
    }
   ],
   "source": [
    "print('Confusion Matrix')\n",
    "print(confusion_matrix(y_test, y_pred_labels))"
   ]
  },
  {
   "cell_type": "code",
   "execution_count": 41,
   "metadata": {},
   "outputs": [
    {
     "name": "stdout",
     "output_type": "stream",
     "text": [
      "Classification Report\n",
      "              precision    recall  f1-score   support\n",
      "\n",
      "           0       0.51      0.59      0.55      1000\n",
      "           1       0.58      0.53      0.55      1000\n",
      "           2       0.38      0.32      0.35      1000\n",
      "           3       0.37      0.15      0.21      1000\n",
      "           4       0.44      0.33      0.38      1000\n",
      "           5       0.39      0.36      0.38      1000\n",
      "           6       0.45      0.53      0.48      1000\n",
      "           7       0.40      0.67      0.50      1000\n",
      "           8       0.58      0.61      0.60      1000\n",
      "           9       0.50      0.56      0.53      1000\n",
      "\n",
      "    accuracy                           0.47     10000\n",
      "   macro avg       0.46      0.47      0.45     10000\n",
      "weighted avg       0.46      0.47      0.45     10000\n",
      "\n"
     ]
    }
   ],
   "source": [
    "print('Classification Report')\n",
    "#target_names = ['1', '2', '3', '4', '5', '6', '7', '8', '9', '10']\n",
    "print(classification_report(y_test, y_pred_labels))\n",
    "#print(classification_report(Y_test, y_pred_labels, target_names=target_names))"
   ]
  },
  {
   "cell_type": "markdown",
   "metadata": {},
   "source": [
    "# CNN en CIFAR10"
   ]
  },
  {
   "cell_type": "code",
   "execution_count": 43,
   "metadata": {},
   "outputs": [],
   "source": [
    "input_shape = (32, 32, 3)"
   ]
  },
  {
   "cell_type": "markdown",
   "metadata": {},
   "source": [
    "## Modelo 1"
   ]
  },
  {
   "cell_type": "code",
   "execution_count": 44,
   "metadata": {},
   "outputs": [
    {
     "name": "stdout",
     "output_type": "stream",
     "text": [
      "WARNING:tensorflow:From C:\\Users\\dalessam\\AppData\\Local\\Continuum\\anaconda3\\envs\\deep_env\\lib\\site-packages\\keras\\backend\\tensorflow_backend.py:4267: The name tf.nn.max_pool is deprecated. Please use tf.nn.max_pool2d instead.\n",
      "\n"
     ]
    }
   ],
   "source": [
    "model = Sequential()\n",
    "model.add(Conv2D(64, kernel_size = 7, activation='relu', input_shape=(input_shape), strides = 1))\n",
    "model.add(MaxPooling2D(pool_size=(2,2), strides = 2))\n",
    "model.add(Flatten())\n",
    "model.add(Dense(classes, activation='softmax'))\n",
    "\n",
    "model.compile(\n",
    "  optimizer=keras.optimizers.Adam(lr=0.001,beta_1=0.9,beta_2=0.999,amsgrad=False), \n",
    "  loss='sparse_categorical_crossentropy', \n",
    "  # metricas para ir calculando en cada iteracion o batch \n",
    "  # Agregamos el accuracy del modelo\n",
    "  metrics=['accuracy'], \n",
    ")"
   ]
  },
  {
   "cell_type": "code",
   "execution_count": 45,
   "metadata": {},
   "outputs": [
    {
     "name": "stdout",
     "output_type": "stream",
     "text": [
      "Train on 50000 samples, validate on 10000 samples\n",
      "Epoch 1/10\n",
      "50000/50000 [==============================] - 45s 909us/step - loss: 1.4746 - acc: 0.4993 - val_loss: 1.2199 - val_acc: 0.5854\n",
      "Epoch 2/10\n",
      "50000/50000 [==============================] - 41s 810us/step - loss: 1.2318 - acc: 0.5879 - val_loss: 1.2433 - val_acc: 0.5831\n",
      "Epoch 3/10\n",
      "50000/50000 [==============================] - 44s 877us/step - loss: 1.1602 - acc: 0.6113 - val_loss: 1.2278 - val_acc: 0.5995\n",
      "Epoch 4/10\n",
      "50000/50000 [==============================] - 43s 856us/step - loss: 1.1027 - acc: 0.6309 - val_loss: 1.2297 - val_acc: 0.6054\n",
      "Epoch 5/10\n",
      "50000/50000 [==============================] - 43s 859us/step - loss: 1.0619 - acc: 0.6455 - val_loss: 1.2673 - val_acc: 0.5906\n",
      "Epoch 6/10\n",
      "50000/50000 [==============================] - 44s 872us/step - loss: 1.0211 - acc: 0.6600 - val_loss: 1.2732 - val_acc: 0.6005\n",
      "Epoch 7/10\n",
      "50000/50000 [==============================] - 48s 951us/step - loss: 0.9854 - acc: 0.6704 - val_loss: 1.2198 - val_acc: 0.6106\n",
      "Epoch 8/10\n",
      "50000/50000 [==============================] - 48s 961us/step - loss: 0.9513 - acc: 0.6824 - val_loss: 1.2544 - val_acc: 0.6113\n",
      "Epoch 9/10\n",
      "50000/50000 [==============================] - 50s 991us/step - loss: 0.9240 - acc: 0.6910 - val_loss: 1.3049 - val_acc: 0.6079\n",
      "Epoch 10/10\n",
      "50000/50000 [==============================] - 52s 1ms/step - loss: 0.8829 - acc: 0.7057 - val_loss: 1.3738 - val_acc: 0.6004\n"
     ]
    },
    {
     "data": {
      "text/plain": [
       "<keras.callbacks.History at 0x210ad807358>"
      ]
     },
     "execution_count": 45,
     "metadata": {},
     "output_type": "execute_result"
    }
   ],
   "source": [
    "# Entrenamiento del modelo\n",
    "model.fit(x_train, y_train, epochs=10, batch_size=16, validation_data=(x_test,y_test))"
   ]
  },
  {
   "cell_type": "code",
   "execution_count": 46,
   "metadata": {},
   "outputs": [
    {
     "name": "stdout",
     "output_type": "stream",
     "text": [
      "Model: \"sequential_4\"\n",
      "_________________________________________________________________\n",
      "Layer (type)                 Output Shape              Param #   \n",
      "=================================================================\n",
      "conv2d_1 (Conv2D)            (None, 26, 26, 64)        9472      \n",
      "_________________________________________________________________\n",
      "max_pooling2d_1 (MaxPooling2 (None, 13, 13, 64)        0         \n",
      "_________________________________________________________________\n",
      "flatten_3 (Flatten)          (None, 10816)             0         \n",
      "_________________________________________________________________\n",
      "dense_4 (Dense)              (None, 10)                108170    \n",
      "=================================================================\n",
      "Total params: 117,642\n",
      "Trainable params: 117,642\n",
      "Non-trainable params: 0\n",
      "_________________________________________________________________\n",
      "None\n"
     ]
    }
   ],
   "source": [
    "print(model.summary())"
   ]
  },
  {
   "cell_type": "code",
   "execution_count": 47,
   "metadata": {},
   "outputs": [],
   "source": [
    "#Confution Matrix and Classification Report\n",
    "y_pred = model.predict(x_test)\n",
    "y_pred_labels = np.argmax(y_pred,axis = 1) "
   ]
  },
  {
   "cell_type": "code",
   "execution_count": 48,
   "metadata": {},
   "outputs": [
    {
     "name": "stdout",
     "output_type": "stream",
     "text": [
      "Confusion Matrix\n",
      "[[594  20  48  20  34  30  24  10 157  63]\n",
      " [ 40 613   6  19   6  17  12   4  53 230]\n",
      " [ 50   2 409  86 126 143  96  33  26  29]\n",
      " [ 22   7  60 377  89 232 120  25  28  40]\n",
      " [ 29   3  75  63 561  86 105  51  16  11]\n",
      " [ 10   6  50 164  62 596  56  31  10  15]\n",
      " [ 10   4  38  60  52  48 769   3   5  11]\n",
      " [ 22   6  38  69  89 138  27 562   7  42]\n",
      " [ 72  26  19  13  18  18  11   3 749  71]\n",
      " [ 33  63  15  13  12  14   9  17  50 774]]\n"
     ]
    }
   ],
   "source": [
    "print('Confusion Matrix')\n",
    "print(confusion_matrix(y_test, y_pred_labels))"
   ]
  },
  {
   "cell_type": "code",
   "execution_count": 49,
   "metadata": {},
   "outputs": [
    {
     "name": "stdout",
     "output_type": "stream",
     "text": [
      "Classification Report\n",
      "              precision    recall  f1-score   support\n",
      "\n",
      "           0       0.67      0.59      0.63      1000\n",
      "           1       0.82      0.61      0.70      1000\n",
      "           2       0.54      0.41      0.47      1000\n",
      "           3       0.43      0.38      0.40      1000\n",
      "           4       0.53      0.56      0.55      1000\n",
      "           5       0.45      0.60      0.51      1000\n",
      "           6       0.63      0.77      0.69      1000\n",
      "           7       0.76      0.56      0.65      1000\n",
      "           8       0.68      0.75      0.71      1000\n",
      "           9       0.60      0.77      0.68      1000\n",
      "\n",
      "    accuracy                           0.60     10000\n",
      "   macro avg       0.61      0.60      0.60     10000\n",
      "weighted avg       0.61      0.60      0.60     10000\n",
      "\n"
     ]
    }
   ],
   "source": [
    "print('Classification Report')\n",
    "#target_names = ['1', '2', '3', '4', '5', '6', '7', '8', '9', '10']\n",
    "print(classification_report(y_test, y_pred_labels))\n",
    "#print(classification_report(Y_test, y_pred_labels, target_names=target_names))"
   ]
  },
  {
   "cell_type": "markdown",
   "metadata": {},
   "source": [
    "## Modelo 2"
   ]
  },
  {
   "cell_type": "code",
   "execution_count": 50,
   "metadata": {},
   "outputs": [],
   "source": [
    "model = Sequential()\n",
    "model.add(Conv2D(128, kernel_size = 7, activation='relu', input_shape=(input_shape), strides = 1))\n",
    "model.add(MaxPooling2D(pool_size=(2,2), strides = 2))\n",
    "model.add(Flatten())\n",
    "model.add(Dense(classes, activation='softmax'))\n",
    "\n",
    "model.compile(\n",
    "  optimizer=keras.optimizers.Adam(lr=0.001,beta_1=0.9,beta_2=0.999,amsgrad=False), \n",
    "  loss='sparse_categorical_crossentropy', \n",
    "  # metricas para ir calculando en cada iteracion o batch \n",
    "  # Agregamos el accuracy del modelo\n",
    "  metrics=['accuracy'], \n",
    ")"
   ]
  },
  {
   "cell_type": "code",
   "execution_count": 51,
   "metadata": {},
   "outputs": [
    {
     "name": "stdout",
     "output_type": "stream",
     "text": [
      "Train on 50000 samples, validate on 10000 samples\n",
      "Epoch 1/10\n",
      "50000/50000 [==============================] - 72s 1ms/step - loss: 1.5508 - acc: 0.4876 - val_loss: 1.3084 - val_acc: 0.5642\n",
      "Epoch 2/10\n",
      "50000/50000 [==============================] - 64s 1ms/step - loss: 1.2631 - acc: 0.5825 - val_loss: 1.2484 - val_acc: 0.5892\n",
      "Epoch 3/10\n",
      "50000/50000 [==============================] - 70s 1ms/step - loss: 1.1901 - acc: 0.6079 - val_loss: 1.2368 - val_acc: 0.5998\n",
      "Epoch 4/10\n",
      "50000/50000 [==============================] - 73s 1ms/step - loss: 1.1232 - acc: 0.6287 - val_loss: 1.2092 - val_acc: 0.6082\n",
      "Epoch 5/10\n",
      "50000/50000 [==============================] - 71s 1ms/step - loss: 1.0808 - acc: 0.6431 - val_loss: 1.2878 - val_acc: 0.5963\n",
      "Epoch 6/10\n",
      "50000/50000 [==============================] - 79s 2ms/step - loss: 1.0323 - acc: 0.6578 - val_loss: 1.3024 - val_acc: 0.5902\n",
      "Epoch 7/10\n",
      "50000/50000 [==============================] - 79s 2ms/step - loss: 0.9933 - acc: 0.6714 - val_loss: 1.2535 - val_acc: 0.6092\n",
      "Epoch 8/10\n",
      "50000/50000 [==============================] - 80s 2ms/step - loss: 0.9507 - acc: 0.6853 - val_loss: 1.6075 - val_acc: 0.5591\n",
      "Epoch 9/10\n",
      "50000/50000 [==============================] - 80s 2ms/step - loss: 0.9085 - acc: 0.6982 - val_loss: 1.3854 - val_acc: 0.5898\n",
      "Epoch 10/10\n",
      "50000/50000 [==============================] - 99s 2ms/step - loss: 0.8800 - acc: 0.7110 - val_loss: 1.4586 - val_acc: 0.5896\n"
     ]
    },
    {
     "data": {
      "text/plain": [
       "<keras.callbacks.History at 0x210ac1f2fd0>"
      ]
     },
     "execution_count": 51,
     "metadata": {},
     "output_type": "execute_result"
    }
   ],
   "source": [
    "# Entrenamiento del modelo\n",
    "model.fit(x_train, y_train, epochs=10, batch_size=16, validation_data=(x_test,y_test))"
   ]
  },
  {
   "cell_type": "code",
   "execution_count": null,
   "metadata": {},
   "outputs": [],
   "source": []
  }
 ],
 "metadata": {
  "kernelspec": {
   "display_name": "Python 3",
   "language": "python",
   "name": "python3"
  },
  "language_info": {
   "codemirror_mode": {
    "name": "ipython",
    "version": 3
   },
   "file_extension": ".py",
   "mimetype": "text/x-python",
   "name": "python",
   "nbconvert_exporter": "python",
   "pygments_lexer": "ipython3",
   "version": "3.7.1"
  },
  "toc": {
   "base_numbering": 1,
   "nav_menu": {},
   "number_sections": true,
   "sideBar": true,
   "skip_h1_title": false,
   "title_cell": "Table of Contents",
   "title_sidebar": "Contents",
   "toc_cell": false,
   "toc_position": {},
   "toc_section_display": true,
   "toc_window_display": false
  },
  "varInspector": {
   "cols": {
    "lenName": 16,
    "lenType": 16,
    "lenVar": 40
   },
   "kernels_config": {
    "python": {
     "delete_cmd_postfix": "",
     "delete_cmd_prefix": "del ",
     "library": "var_list.py",
     "varRefreshCmd": "print(var_dic_list())"
    },
    "r": {
     "delete_cmd_postfix": ") ",
     "delete_cmd_prefix": "rm(",
     "library": "var_list.r",
     "varRefreshCmd": "cat(var_dic_list()) "
    }
   },
   "types_to_exclude": [
    "module",
    "function",
    "builtin_function_or_method",
    "instance",
    "_Feature"
   ],
   "window_display": false
  }
 },
 "nbformat": 4,
 "nbformat_minor": 4
}
