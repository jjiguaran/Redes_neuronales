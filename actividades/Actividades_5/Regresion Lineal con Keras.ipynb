{
 "cells": [
  {
   "cell_type": "markdown",
   "metadata": {
    "colab_type": "text",
    "collapsed": true,
    "id": "AqE_KDgXtGlJ"
   },
   "source": [
    "# Ejercicio 3 -   Regresión Lineal con Keras\n",
    "\n",
    "En este ejercicio, tu objetivo será entrenar modelos de Regresión Lineal utilizando Keras (y Tensorflow como backend) para familiarizarte con la librería y comprender la relación de sus clases y métodos con los que definimos en los ejercicios 1 y 2.\n",
    "\n"
   ]
  },
  {
   "cell_type": "code",
   "execution_count": 1,
   "metadata": {
    "ExecuteTime": {
     "end_time": "2020-11-07T15:12:53.642210Z",
     "start_time": "2020-11-07T15:12:50.436074Z"
    }
   },
   "outputs": [
    {
     "name": "stderr",
     "output_type": "stream",
     "text": [
      "Using TensorFlow backend.\n"
     ]
    }
   ],
   "source": [
    "import tensorflow as tf\n",
    "import keras\n",
    "import numpy as np"
   ]
  },
  {
   "cell_type": "code",
   "execution_count": 2,
   "metadata": {
    "ExecuteTime": {
     "end_time": "2020-11-07T15:12:54.341216Z",
     "start_time": "2020-11-07T15:12:53.659212Z"
    },
    "colab": {},
    "colab_type": "code",
    "id": "Z4OsE2xntGlL"
   },
   "outputs": [
    {
     "name": "stdout",
     "output_type": "stream",
     "text": [
      "Using matplotlib backend: Qt5Agg\n"
     ]
    }
   ],
   "source": [
    "%load_ext autoreload\n",
    "%autoreload 2\n",
    "%matplotlib \n",
    "import matplotlib.pyplot as plt\n",
    "from mpl_toolkits.mplot3d import Axes3D\n",
    "\n",
    "# Funciones útiles\n",
    "\n",
    "def equals_vector(x, y):\n",
    "    return np.all(x==y)\n",
    "\n",
    "def verificar_igualdad(x,y):\n",
    "    iguales=equals_vector(x, y)\n",
    "    if iguales:\n",
    "        print(\"Los vectores x e y son iguales:\")\n",
    "    else:\n",
    "        print(\"Los vectores x e y son distintos:\")\n",
    "\n",
    "    print(\"x: \", x)\n",
    "    print(\"y: \", y)\n",
    "\n",
    "def plot_regresion_lineal(w,b,x,y,title=\"\"):\n",
    "    # genero una ventana de dibujo con una sola zona de dibujo (1,1)\n",
    "    # que permita graficos en 3D\n",
    "    figure = plt.figure(figsize=(10, 10), dpi=100)\n",
    "    ax_data = figure.add_subplot(1, 1, 1, projection='3d')\n",
    "\n",
    "    #dibujo el dataset en 3D (x1,x2,y)\n",
    "    x1=x[:,0]\n",
    "    x2=x[:,1]\n",
    "    ax_data.scatter(x1,x2, y, color=\"blue\")\n",
    "    figure.suptitle(title)\n",
    "\n",
    "    # Dibujo el plano dado por los parametros del modelo (w,b)\n",
    "    # Este codigo probablemente no sea facil de entender\n",
    "    # si no tenes experiencia con calculos en 3D\n",
    "    detail = 0.05\n",
    "    # genero coordenadas x,y de a pares, las llamo xx e yy\n",
    "    xr = np.arange(x.min(), x.max(), detail)\n",
    "    yr = np.arange(y.min(), 10, detail)\n",
    "    xx, yy = np.meshgrid(xr, yr)\n",
    "    # calculo las coordenadas z en base a xx, yy, y el modelo (w,b)\n",
    "    zz = xx * w[0] + yy * w[1] + b\n",
    "    # dibujo la superficie dada por los puntos (xx,yy,zz)\n",
    "    surf = ax_data.plot_surface(xx, yy, zz, cmap='Reds', alpha=0.5, linewidth=0, antialiased=True)\n",
    "\n",
    "    # Establezco las etiquetas de los ejes\n",
    "    ax_data.set_xlabel(\"x1 (Horas estudiadas)\")\n",
    "    ax_data.set_ylabel(\"x2 (Promedio)\")\n",
    "    ax_data.set_zlabel(\"y (Nota)\")\n",
    "    # Establezco el titulo del grafico\n",
    "    ax_data.set_title(\"(Horas estudiadas x Promedio) vs Nota\")"
   ]
  },
  {
   "cell_type": "markdown",
   "metadata": {
    "colab_type": "text",
    "id": "3amunskmtGlW"
   },
   "source": [
    "# Creando modelos de regresión y prediciendo valores\n",
    "\n",
    "El siguiente codigo crea modelos de Keras con distintos valores de `w` y `b` y verifica su salida.\n",
    "\n",
    "Para crear un modelo de Keras utilizamos la clase `Sequential`, que permite utilizar modelos de varias capas. No obstante, en este caso vamos a crear modelos con una sola capa, la capa de clase `Dense` (también conocida como `fully connected` o `lineal`), que permite hacer regresión lineal con varias variables de entrada y de salida. \n",
    "\n",
    "Al crear la capa, especificamos la dimensionalidad de salida (1 en este caso) y la de entrada (2 en este caso). De esta forma el modelo puede crear e inicializar los parámetros `W` y `b`.\n",
    "\n",
    "Como estamos probando un modelo puramente lineal, especificamos `activation=None` para que Keras no agregue ninguna función no-lineal a la salida.\n",
    "\n",
    "Por último, utilizamos los parámetros por nombre `kernel_initializer` y `bias_initializer` de la clase `Dense` para especificar como inicializar los parámetros `w` (kernel) y `b` (bias) respectivamente. En este caso, utilizamos `keras.initializers.Constant` para inicializarlo con algunos valores constantes.\n",
    "\n",
    "Ejecuta el siguiente bloque para verificar que en las 4 pruebas la función `predict` de los modelos de Keras hace lo mismo que la función `forward` vista anteriormente. En cada una de las pruebas, estamos inicializando el modelo con distintos valores de `w` y `b`."
   ]
  },
  {
   "cell_type": "code",
   "execution_count": null,
   "metadata": {
    "ExecuteTime": {
     "start_time": "2020-11-07T13:51:38.596Z"
    }
   },
   "outputs": [],
   "source": [
    "#import tensorflow as tf\n",
    "#import keras\n",
    "#import numpy as np"
   ]
  },
  {
   "cell_type": "code",
   "execution_count": 3,
   "metadata": {
    "ExecuteTime": {
     "start_time": "2020-11-07T15:12:56.560Z"
    }
   },
   "outputs": [
    {
     "name": "stdout",
     "output_type": "stream",
     "text": [
      "WARNING:tensorflow:From C:\\Users\\dalessam\\AppData\\Local\\Continuum\\anaconda3\\envs\\deep_env\\lib\\site-packages\\keras\\backend\\tensorflow_backend.py:66: The name tf.get_default_graph is deprecated. Please use tf.compat.v1.get_default_graph instead.\n",
      "\n",
      "WARNING:tensorflow:From C:\\Users\\dalessam\\AppData\\Local\\Continuum\\anaconda3\\envs\\deep_env\\lib\\site-packages\\keras\\backend\\tensorflow_backend.py:541: The name tf.placeholder is deprecated. Please use tf.compat.v1.placeholder instead.\n",
      "\n",
      "WARNING:tensorflow:From C:\\Users\\dalessam\\AppData\\Local\\Continuum\\anaconda3\\envs\\deep_env\\lib\\site-packages\\keras\\backend\\tensorflow_backend.py:3005: The name tf.Session is deprecated. Please use tf.compat.v1.Session instead.\n",
      "\n",
      "WARNING:tensorflow:From C:\\Users\\dalessam\\AppData\\Local\\Continuum\\anaconda3\\envs\\deep_env\\lib\\site-packages\\keras\\backend\\tensorflow_backend.py:190: The name tf.get_default_session is deprecated. Please use tf.compat.v1.get_default_session instead.\n",
      "\n",
      "WARNING:tensorflow:From C:\\Users\\dalessam\\AppData\\Local\\Continuum\\anaconda3\\envs\\deep_env\\lib\\site-packages\\keras\\backend\\tensorflow_backend.py:197: The name tf.ConfigProto is deprecated. Please use tf.compat.v1.ConfigProto instead.\n",
      "\n",
      "Los vectores x e y son iguales:\n",
      "x:  [[0.]\n",
      " [0.]\n",
      " [0.]]\n",
      "y:  [[0.]\n",
      " [0.]\n",
      " [0.]]\n"
     ]
    }
   ],
   "source": [
    "x=np.array([[1.0,2.0]\n",
    "            ,[2.0,3.0]\n",
    "            ,[3.0,4.0]])\n",
    "dimensionalidad_salida=1\n",
    "dimensionalidad_entrada=(2,)\n",
    "\n",
    "# PRUEBA 1\n",
    "# Defino un modelo con w=(0,0) y b=0\n",
    "model1 = keras.Sequential([\n",
    "    keras.layers.Dense(dimensionalidad_salida\n",
    "                       # dimensionalidad de la entrada\n",
    "                       ,input_shape=dimensionalidad_entrada\n",
    "                       # activation=None para que no tenga f de activacion (r lineal)\n",
    "                       ,activation=None \n",
    "                       # inicializo w=(0,0)\n",
    "                      , kernel_initializer = keras.initializers.Constant(value=0)\n",
    "                       # inicializo b=0\n",
    "                      , bias_initializer   = keras.initializers.Constant(value=0))\n",
    "])\n",
    "y_prediccion = model1.predict(x)\n",
    "y=np.zeros((3,1))\n",
    "verificar_igualdad(y,y_prediccion)"
   ]
  },
  {
   "cell_type": "code",
   "execution_count": 4,
   "metadata": {
    "ExecuteTime": {
     "end_time": "2020-11-07T14:59:15.202307Z",
     "start_time": "2020-11-07T14:59:15.194Z"
    },
    "colab": {},
    "colab_type": "code",
    "id": "ar2beiLutGla"
   },
   "outputs": [
    {
     "name": "stdout",
     "output_type": "stream",
     "text": [
      "Los vectores x e y son iguales:\n",
      "x:  [[3.]\n",
      " [5.]\n",
      " [7.]]\n",
      "y:  [[3.]\n",
      " [5.]\n",
      " [7.]]\n",
      "Los vectores x e y son iguales:\n",
      "x:  [[1.]\n",
      " [1.]\n",
      " [1.]]\n",
      "y:  [[1.]\n",
      " [1.]\n",
      " [1.]]\n",
      "Los vectores x e y son iguales:\n",
      "x:  [[4.]\n",
      " [6.]\n",
      " [8.]]\n",
      "y:  [[4.]\n",
      " [6.]\n",
      " [8.]]\n"
     ]
    }
   ],
   "source": [
    " \n",
    "# PRUEBA 2\n",
    "# Defino un modelo con w=(1,1) y b=0\n",
    "model2 = keras.Sequential([\n",
    "    keras.layers.Dense(dimensionalidad_salida\n",
    "                       ,input_shape=dimensionalidad_entrada\n",
    "                       , activation=None\n",
    "                      , kernel_initializer = keras.initializers.Constant(value=1)\n",
    "                      , bias_initializer   = keras.initializers.Constant(value=0))\n",
    "])\n",
    "\n",
    "y_prediccion = model2.predict(x)\n",
    "y=np.array([[3.0,5.0,7.0]]).T\n",
    "verificar_igualdad(y,y_prediccion)\n",
    "\n",
    "# PRUEBA 3\n",
    "# Defino un modelo con w=(0,0) y b=1\n",
    "model3 = keras.Sequential([\n",
    "    keras.layers.Dense(dimensionalidad_salida\n",
    "                       ,input_shape=dimensionalidad_entrada\n",
    "                       , activation=None\n",
    "                      , kernel_initializer = keras.initializers.Constant(value=0)\n",
    "                      , bias_initializer   = keras.initializers.Constant(value=1))\n",
    "])\n",
    "y=np.ones((3,1))\n",
    "y_prediccion = model3.predict(x)\n",
    "verificar_igualdad(y,y_prediccion)\n",
    "\n",
    "# PRUEBA 4\n",
    "# Defino un modelo con w=(1,1) y b=1\n",
    "model4 = keras.Sequential([\n",
    "    keras.layers.Dense(dimensionalidad_salida\n",
    "                       ,input_shape=dimensionalidad_entrada\n",
    "                       , activation=None\n",
    "                      , kernel_initializer = keras.initializers.Constant(value=1)\n",
    "                      , bias_initializer   = keras.initializers.Constant(value=1))\n",
    "])\n",
    "y_prediccion = model4.predict(x)\n",
    "y=np.array([[4.0,6.0,8.0]]).T\n",
    "verificar_igualdad(y,y_prediccion)\n"
   ]
  },
  {
   "cell_type": "markdown",
   "metadata": {
    "colab_type": "text",
    "id": "4JWc6FRjtGli"
   },
   "source": [
    "# Entrenar un modelo de Regresión Lineal con Keras para el dataset de estudio 2D\n",
    "\n",
    "El siguiente código carga un dataset de prueba con 2 dimensiones de entrada y una de salida.\n",
    "\n",
    "Luego crea un modelo de regresión lineal con Keras, y visualiza sus pesos iniciales. \n",
    "\n",
    "Es importante notar tres cosas:\n",
    "\n",
    "1. La métrica utilizada es `'mse'`, es decir el error cuadrático medio o promedio. Esta es la misma métrica vista en la teoría de Regresión Lineal.\n",
    "\n",
    "2. El optimizador es una clase que define el algoritmo para minimizar el error cuadrático. En general, son todas variantes de descenso de gradiente. En este caso, estamos utilizando descenso de gradiente estocástico (`keras.optimizers.SGD`), que es igual al descenso de gradiente pero realiza cada actualización de los parámetros con un subconjunto de los ejemplos del dataset. \n",
    "\n",
    "3. El método para entrenar el modelo es `fit`. En este caso, el parámetro `lr` lo recibe el optimizador, pero `fit` recibe la cantidad de iteraciones (`epochs`) y el tamaño del batch para el SGD (`batch_size`).\n",
    "\n",
    "\n",
    "Al finalizar el entrenamiento, observá los valores del vector de pesos `w`. ¿A qué atributo o variable de entrada le da más importancia el modelo?"
   ]
  },
  {
   "cell_type": "code",
   "execution_count": 5,
   "metadata": {
    "ExecuteTime": {
     "end_time": "2020-11-07T14:59:17.029426Z",
     "start_time": "2020-11-07T14:59:17.019Z"
    },
    "colab": {},
    "colab_type": "code",
    "id": "q-jpUmyxtGll"
   },
   "outputs": [
    {
     "name": "stdout",
     "output_type": "stream",
     "text": [
      "Inicialización aleatoria del modelo; vuelve a correr esta celda para obtener otros resultados\n",
      "WARNING:tensorflow:From C:\\Users\\dalessam\\AppData\\Local\\Continuum\\anaconda3\\envs\\deep_env\\lib\\site-packages\\keras\\optimizers.py:793: The name tf.train.Optimizer is deprecated. Please use tf.compat.v1.train.Optimizer instead.\n",
      "\n",
      "Epoch 1/15\n",
      "19/19 [==============================] - 0s 6ms/step - loss: 840.5176\n",
      "Epoch 2/15\n",
      "19/19 [==============================] - 0s 51us/step - loss: 17.9613\n",
      "Epoch 3/15\n",
      "19/19 [==============================] - 0s 51us/step - loss: 1.2291\n",
      "Epoch 4/15\n",
      "19/19 [==============================] - 0s 53us/step - loss: 0.8852\n",
      "Epoch 5/15\n",
      "19/19 [==============================] - 0s 105us/step - loss: 0.8746\n",
      "Epoch 6/15\n",
      "19/19 [==============================] - 0s 105us/step - loss: 0.8710\n",
      "Epoch 7/15\n",
      "19/19 [==============================] - 0s 105us/step - loss: 0.8675\n",
      "Epoch 8/15\n",
      "19/19 [==============================] - 0s 53us/step - loss: 0.8641\n",
      "Epoch 9/15\n",
      "19/19 [==============================] - 0s 105us/step - loss: 0.8608\n",
      "Epoch 10/15\n",
      "19/19 [==============================] - 0s 106us/step - loss: 0.8575\n",
      "Epoch 11/15\n",
      "19/19 [==============================] - 0s 54us/step - loss: 0.8544\n",
      "Epoch 12/15\n",
      "19/19 [==============================] - 0s 105us/step - loss: 0.8512\n",
      "Epoch 13/15\n",
      "19/19 [==============================] - 0s 52us/step - loss: 0.8482\n",
      "Epoch 14/15\n",
      "19/19 [==============================] - 0s 105us/step - loss: 0.8452\n",
      "Epoch 15/15\n",
      "19/19 [==============================] - 0s 105us/step - loss: 0.8423\n"
     ]
    }
   ],
   "source": [
    "# Carga del dataset\n",
    "import os\n",
    "dataset_path=os.path.join(\"study_regression_2d_small.csv\")\n",
    "data=np.loadtxt(open(dataset_path, \"rb\"), delimiter=\",\", skiprows=1)\n",
    "x,y=data[:,0:2],data[:,2:3]\n",
    "n,d_in=x.shape\n",
    "n,d_out=y.shape\n",
    "\n",
    "# Creación del modelo inicial\n",
    "print(\"Inicialización aleatoria del modelo; vuelve a correr esta celda para obtener otros resultados\")\n",
    "# Creo un modelo lineal\n",
    "modelo = keras.Sequential([\n",
    "    keras.layers.Dense(d_out,input_shape=(d_in,), activation=None)])\n",
    "\n",
    "# visualización del modelo inicial\n",
    "mensaje=f\"Modelo inicial\"\n",
    "w,b=modelo.get_weights()\n",
    "\n",
    "plot_regresion_lineal(w,b,x,y,title=mensaje)\n",
    "\n",
    "\n",
    "#Creo el optimizador y compilo el modelo para usarlo\n",
    "α=0.001\n",
    "# Algoritmo de optimización: Descenso de Gradiente Estocástico (Stochastic Gradient Descent)\n",
    "sgd = keras.optimizers.SGD(lr=α)\n",
    "# error cuadrático medio es la métrica de error a optimizar\n",
    "error_metric='mse' # IMPORTANTE\n",
    "\n",
    "modelo.compile(\n",
    "  optimizer=sgd,\n",
    "  loss=error_metric,\n",
    "  metrics=[], # metricas para ir calculando en cada iteracion o batch (ninguna ahora)\n",
    ")\n",
    "\n",
    "# Entrenamiento del modelo\n",
    "modelo.fit(x,y,epochs=15,batch_size=32)\n",
    "\n",
    "# visualiza el modelo y los datos\n",
    "w,b=modelo.get_weights()\n",
    "plot_regresion_lineal(w,b,x,y,title=\"Modelo Final\")\n",
    "\n"
   ]
  },
  {
   "cell_type": "code",
   "execution_count": null,
   "metadata": {},
   "outputs": [],
   "source": []
  }
 ],
 "metadata": {
  "colab": {
   "collapsed_sections": [],
   "name": "Ejercicio 3 - Regresion Lineal con Keras.ipynb",
   "provenance": []
  },
  "kernelspec": {
   "display_name": "Python 3",
   "language": "python",
   "name": "python3"
  },
  "toc": {
   "base_numbering": 1,
   "nav_menu": {},
   "number_sections": true,
   "sideBar": true,
   "skip_h1_title": false,
   "title_cell": "Table of Contents",
   "title_sidebar": "Contents",
   "toc_cell": false,
   "toc_position": {},
   "toc_section_display": true,
   "toc_window_display": false
  },
  "varInspector": {
   "cols": {
    "lenName": 16,
    "lenType": 16,
    "lenVar": 40
   },
   "kernels_config": {
    "python": {
     "delete_cmd_postfix": "",
     "delete_cmd_prefix": "del ",
     "library": "var_list.py",
     "varRefreshCmd": "print(var_dic_list())"
    },
    "r": {
     "delete_cmd_postfix": ") ",
     "delete_cmd_prefix": "rm(",
     "library": "var_list.r",
     "varRefreshCmd": "cat(var_dic_list()) "
    }
   },
   "types_to_exclude": [
    "module",
    "function",
    "builtin_function_or_method",
    "instance",
    "_Feature"
   ],
   "window_display": false
  }
 },
 "nbformat": 4,
 "nbformat_minor": 1
}
