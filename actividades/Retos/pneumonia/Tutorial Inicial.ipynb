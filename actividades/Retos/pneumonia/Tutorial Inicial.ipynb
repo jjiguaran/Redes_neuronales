{
 "cells": [
  {
   "cell_type": "code",
   "execution_count": null,
   "metadata": {
    "_cell_guid": "b1076dfc-b9ad-4769-8c92-a6c4dae69d19",
    "_uuid": "8f2839f25d086af736a60e9eeb907d3b93b6e0e5"
   },
   "outputs": [],
   "source": [
    "import numpy as np \n",
    "import pandas as pd\n",
    "import keras\n",
    "import matplotlib.pyplot as plt\n",
    "%matplotlib inline\n",
    "import os"
   ]
  },
  {
   "cell_type": "code",
   "execution_count": null,
   "metadata": {
    "_cell_guid": "79c7e3d0-c299-4dcb-8224-4455121ee9b0",
    "_uuid": "d629ff2d2480ee46fbb7e2d37f6b5fab8052498a"
   },
   "outputs": [],
   "source": [
    "from keras.preprocessing.image import load_img\n",
    "\n",
    "dataset_folderpath = \".\"\n",
    "print(\"Hay 2 directorios con los 2 subconjuntos de datos: \",os.listdir(dataset_folderpath))\n",
    "print(\"La carpeta de cada subconjunto tiene dos subcarpetas: normal y pneumonia\")\n",
    "\n",
    "train_folderpath = os.path.join(dataset_folderpath, \"train\")\n",
    "val_folderpath = os.path.join(dataset_folderpath, \"test\")\n",
    "\n",
    "img_name = '0385_normal.jpg'\n",
    "image_path= f'normal/{img_name}'\n",
    "img_normal = load_img(os.path.join(train_folderpath, image_path))\n",
    "\n",
    "print(f\"Las imágenes tienen tamaño: {img_normal.size}\")\n",
    "\n",
    "plt.imshow(img_normal)\n",
    "plt.title(\"Normal\")\n",
    "plt.show()\n",
    "\n",
    "img_name = '0192_bacteria.jpg'\n",
    "image_path= f'pneumonia/{img_name}'\n",
    "img_pneumonia = load_img(os.path.join(train_folderpath,image_path))\n",
    "plt.imshow(img_pneumonia)\n",
    "plt.title(\"Neumonía\")\n",
    "plt.show()"
   ]
  },
  {
   "cell_type": "code",
   "execution_count": null,
   "metadata": {},
   "outputs": [],
   "source": [
    "from keras.preprocessing.image import ImageDataGenerator\n",
    "\n",
    "\n",
    "# Tamaño objetivo para escalar las imágenes. \n",
    "IMG_SIZE = 32\n",
    "h,w,c = IMG_SIZE, IMG_SIZE, 3\n",
    "batch_size = 32\n",
    "\n",
    "# Preprocesamiento de cada subconjunto\n",
    "train_datagen = ImageDataGenerator(rescale=1./255)\n",
    "test_datagen = ImageDataGenerator(rescale=1./255)\n",
    "\n",
    "# Generadores de los subconjuntos. Reciben un directorio, y \n",
    "# cada carpeta del directorio se interpreta como una clase distinta.\n",
    "# En este caso como cada directorio tiene 3 subdirectorios, normal, covid y pneumonia,\n",
    "# por ende, habrá tres clases.\n",
    "train_generator = train_datagen.flow_from_directory(\n",
    "    train_folderpath, # directorio de donde cargar las imagenes (train)\n",
    "    target_size=(h, w),\n",
    "    batch_size=batch_size,\n",
    "    class_mode='binary')\n",
    "\n",
    "test_generator = val_datagen.flow_from_directory(\n",
    "    test_folderpath, # directorio de donde cargar las imagenes (val)\n",
    "    target_size=(h, w),\n",
    "    batch_size=batch_size,\n",
    "    class_mode='binary')\n",
    "\n",
    "\n",
    "\n",
    "n_train = train_generator.samples\n",
    "n_test = test_generator.samples\n",
    "n_clases = train_generator.num_classes\n",
    "print(f\"Los conjuntos de train y test tienen {n_train}, y {n_test} ejemplos respectivamente.\")\n",
    "print(f\"Los conjuntos de datos tienen {n_clases} clases.\")"
   ]
  },
  {
   "cell_type": "code",
   "execution_count": null,
   "metadata": {},
   "outputs": [],
   "source": [
    "from keras.models import Sequential\n",
    "from keras.layers import Dropout, Flatten, Dense, Conv2D, MaxPooling2D\n",
    "\n",
    "def create_model():\n",
    "    model = Sequential()\n",
    "    model.add(Conv2D(32, kernel_size=(3, 3), padding='same', activation='relu', input_shape=(h, w, c)))\n",
    "    model.add(MaxPooling2D((2, 2), padding='same'))\n",
    "    model.add(Flatten())\n",
    "    model.add(Dense(16, activation='relu'))\n",
    "    model.add(Dense(1, activation='sigmoid'))\n",
    "\n",
    "    return model"
   ]
  },
  {
   "cell_type": "code",
   "execution_count": null,
   "metadata": {},
   "outputs": [],
   "source": [
    "model = create_model()\n",
    "print(model.summary())"
   ]
  },
  {
   "cell_type": "code",
   "execution_count": null,
   "metadata": {},
   "outputs": [],
   "source": [
    "from keras import backend as K\n",
    "# Definición de las métricas F1, recall y precision utilizando Keras.\n",
    "\n",
    "def recall_m(y_true, y_pred):\n",
    "        true_positives = K.sum(K.round(K.clip(y_true * y_pred, 0, 1)))\n",
    "        possible_positives = K.sum(K.round(K.clip(y_true, 0, 1)))\n",
    "        recall = true_positives / (possible_positives + K.epsilon())\n",
    "        return recall\n",
    "\n",
    "def precision_m(y_true, y_pred):\n",
    "        true_positives = K.sum(K.round(K.clip(y_true * y_pred, 0, 1)))\n",
    "        predicted_positives = K.sum(K.round(K.clip(y_pred, 0, 1)))\n",
    "        precision = true_positives / (predicted_positives + K.epsilon())\n",
    "        return precision\n",
    "\n",
    "def f1_m(y_true, y_pred):\n",
    "        precision = precision_m(y_true, y_pred)\n",
    "        recall = recall_m(y_true, y_pred)\n",
    "        return 2*((precision*recall)/(precision+recall+K.epsilon()))"
   ]
  },
  {
   "cell_type": "code",
   "execution_count": null,
   "metadata": {},
   "outputs": [],
   "source": [
    "from keras.optimizers import Adam\n",
    "\n",
    "lr = 1e-4\n",
    "epochs = 1\n",
    "\n",
    "optim = Adam(lr=lr, decay=lr / epochs)\n",
    "val_steps = max(1, n_val // batch_size)\n",
    "\n",
    "# Compilation with weighted metrics\n",
    "model.compile(loss=\"binary_crossentropy\", optimizer=optim, metrics=[\"accuracy\", f1_m, precision_m, recall_m])\n",
    "model.fit_generator(train_generator,\n",
    "                    steps_per_epoch=n_train // batch_size,\n",
    "                    epochs=epochs\n",
    "                    )"
   ]
  },
  {
   "cell_type": "code",
   "execution_count": null,
   "metadata": {},
   "outputs": [],
   "source": [
    "# Evaluar el accuracy del modelo en el conjunto entero de entrenamiento\n",
    "print(\"*********** Conjunto de entrenamiento ***********\")\n",
    "train_generator.reset()\n",
    "_ = model.predict_generator(train_generator, steps=n_train // batch_size)\n",
    "scores = model.evaluate_generator(train_generator, steps=n_train // batch_size)\n",
    "for metric, score in zip(model.metrics_names, scores):\n",
    "    print(f\"{metric}: {score:.2f}\")\n",
    "\n",
    "print()\n",
    "# Evaluar el accuracy del modelo en el conjunto entero de test\n",
    "print(\"*********** Conjunto de test ***********\")\n",
    "test_generator.reset()\n",
    "_ = model.predict_generator(test_generator, steps=n_test // batch_size)\n",
    "scores = model.evaluate_generator(test_generator, steps=n_test // batch_size)\n",
    "for metric, score in zip(model.metrics_names, scores):\n",
    "    print(f\"{metric}: {score:.2f}\")"
   ]
  }
 ],
 "metadata": {
  "kernelspec": {
   "display_name": "Python 3",
   "language": "python",
   "name": "python3"
  },
  "language_info": {
   "codemirror_mode": {
    "name": "ipython",
    "version": 3
   },
   "file_extension": ".py",
   "mimetype": "text/x-python",
   "name": "python",
   "nbconvert_exporter": "python",
   "pygments_lexer": "ipython3",
   "version": "3.7.5"
  }
 },
 "nbformat": 4,
 "nbformat_minor": 4
}
