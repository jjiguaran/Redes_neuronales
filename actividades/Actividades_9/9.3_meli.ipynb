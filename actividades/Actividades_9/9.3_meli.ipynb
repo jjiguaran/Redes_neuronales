{
 "cells": [
  {
   "cell_type": "code",
   "execution_count": 1,
   "metadata": {},
   "outputs": [
    {
     "name": "stderr",
     "output_type": "stream",
     "text": [
      "Using TensorFlow backend.\n"
     ]
    }
   ],
   "source": [
    "# comando de Jupyter para que las imagenes se muestren automaticamente \n",
    "%matplotlib inline\n",
    "\n",
    "import tensorflow as tf\n",
    "import keras\n",
    "import numpy as np\n",
    "import matplotlib.pyplot as plt\n",
    "\n",
    "from sklearn.metrics import classification_report, confusion_matrix\n",
    "from keras.layers import Flatten,Conv2D,Dense,MaxPooling2D,InputLayer,Activation,GlobalAveragePooling2D, Input, Concatenate, Flatten,BatchNormalization, Dropout\n",
    "from keras.models import Sequential\n",
    "from keras.preprocessing.image import ImageDataGenerator\n",
    "from keras.callbacks import EarlyStopping"
   ]
  },
  {
   "cell_type": "markdown",
   "metadata": {},
   "source": [
    "# Carga Datos"
   ]
  },
  {
   "cell_type": "code",
   "execution_count": 3,
   "metadata": {},
   "outputs": [],
   "source": [
    "from keras.datasets import cifar10\n",
    "(x_train, y_train), (x_test, y_test) = cifar10.load_data()"
   ]
  },
  {
   "cell_type": "code",
   "execution_count": 4,
   "metadata": {},
   "outputs": [
    {
     "name": "stdout",
     "output_type": "stream",
     "text": [
      "Train: X=(50000, 32, 32, 3), y=(50000, 1)\n",
      "Test: X=(10000, 32, 32, 3), y=(10000, 1)\n"
     ]
    }
   ],
   "source": [
    "# summarize loaded dataset\n",
    "print('Train: X=%s, y=%s' % (x_train.shape, y_train.shape))\n",
    "print('Test: X=%s, y=%s' % (x_test.shape, y_test.shape))"
   ]
  },
  {
   "cell_type": "code",
   "execution_count": 5,
   "metadata": {},
   "outputs": [],
   "source": [
    "n,h,w,c = x_train.shape\n",
    "classes=int(y_train.max()+1)"
   ]
  },
  {
   "cell_type": "markdown",
   "metadata": {},
   "source": [
    "# Aumento de clases"
   ]
  },
  {
   "cell_type": "code",
   "execution_count": 6,
   "metadata": {},
   "outputs": [],
   "source": [
    "datagen = ImageDataGenerator(\n",
    "    featurewise_center=True,\n",
    "    featurewise_std_normalization=True,\n",
    "    rotation_range=20,\n",
    "    width_shift_range=0.2,\n",
    "    height_shift_range=0.2,\n",
    "    horizontal_flip=True)"
   ]
  },
  {
   "cell_type": "code",
   "execution_count": 7,
   "metadata": {},
   "outputs": [],
   "source": [
    "# Aca hacerlo por canal\n",
    "for i in range(c):\n",
    "    x_train = (x_train - x_train.mean()) / x_train.std()\n",
    "    x_test = (x_test - x_test.mean()) / x_test.std()"
   ]
  },
  {
   "cell_type": "code",
   "execution_count": 8,
   "metadata": {},
   "outputs": [],
   "source": [
    "generator = datagen.flow(x_train, y_train, batch_size=32)"
   ]
  },
  {
   "cell_type": "code",
   "execution_count": 9,
   "metadata": {},
   "outputs": [],
   "source": [
    "input_shape = (32, 32, 3)"
   ]
  },
  {
   "cell_type": "markdown",
   "metadata": {},
   "source": [
    "# Ejercicio a"
   ]
  },
  {
   "cell_type": "markdown",
   "metadata": {},
   "source": [
    "## Modelo 1"
   ]
  },
  {
   "cell_type": "code",
   "execution_count": 14,
   "metadata": {},
   "outputs": [],
   "source": [
    "es = EarlyStopping(monitor='val_acc', mode='min', patience=10, verbose=1)\n",
    "p = 0.1 # esto es 1-p\n",
    "\n",
    "model = Sequential()\n",
    "model.add(Conv2D(64, kernel_size = 7, activation='relu', input_shape=(input_shape), strides = 1))\n",
    "model.add(MaxPooling2D(pool_size=(2,2), strides = 2))\n",
    "model.add(Flatten())\n",
    "model.add(Dropout(p)) #recibe 1-p\n",
    "model.add(Dense(classes, activation='softmax'))\n",
    "\n",
    "model.compile(\n",
    "  optimizer=keras.optimizers.Adam(lr=0.001,beta_1=0.9,beta_2=0.999,amsgrad=False), \n",
    "  loss='sparse_categorical_crossentropy', \n",
    "  # metricas para ir calculando en cada iteracion o batch \n",
    "  # Agregamos el accuracy del modelo\n",
    "  metrics=['accuracy'], \n",
    ")"
   ]
  },
  {
   "cell_type": "code",
   "execution_count": 15,
   "metadata": {
    "scrolled": true
   },
   "outputs": [
    {
     "name": "stdout",
     "output_type": "stream",
     "text": [
      "Epoch 1/100\n"
     ]
    },
    {
     "name": "stderr",
     "output_type": "stream",
     "text": [
      "C:\\Users\\dalessam\\AppData\\Local\\Continuum\\anaconda3\\envs\\deep_env\\lib\\site-packages\\keras_preprocessing\\image\\image_data_generator.py:716: UserWarning: This ImageDataGenerator specifies `featurewise_center`, but it hasn't been fit on any training data. Fit it first by calling `.fit(numpy_data)`.\n",
      "  warnings.warn('This ImageDataGenerator specifies '\n",
      "C:\\Users\\dalessam\\AppData\\Local\\Continuum\\anaconda3\\envs\\deep_env\\lib\\site-packages\\keras_preprocessing\\image\\image_data_generator.py:724: UserWarning: This ImageDataGenerator specifies `featurewise_std_normalization`, but it hasn't been fit on any training data. Fit it first by calling `.fit(numpy_data)`.\n",
      "  warnings.warn('This ImageDataGenerator specifies '\n"
     ]
    },
    {
     "name": "stdout",
     "output_type": "stream",
     "text": [
      "49/48 [==============================] - 4s 74ms/step - loss: 2.2123 - acc: 0.2245 - val_loss: 1.9118 - val_acc: 0.3080\n",
      "Epoch 2/100\n",
      "49/48 [==============================] - 3s 70ms/step - loss: 1.9959 - acc: 0.2914 - val_loss: 1.8601 - val_acc: 0.3372\n",
      "Epoch 3/100\n",
      "49/48 [==============================] - 4s 73ms/step - loss: 1.9844 - acc: 0.2946 - val_loss: 1.8186 - val_acc: 0.3454\n",
      "Epoch 4/100\n",
      "49/48 [==============================] - 4s 72ms/step - loss: 1.9065 - acc: 0.3265 - val_loss: 1.7886 - val_acc: 0.3740\n",
      "Epoch 5/100\n",
      "49/48 [==============================] - 3s 71ms/step - loss: 1.8846 - acc: 0.3221 - val_loss: 1.6639 - val_acc: 0.4041\n",
      "Epoch 6/100\n",
      "49/48 [==============================] - 4s 74ms/step - loss: 1.8842 - acc: 0.3540 - val_loss: 1.7020 - val_acc: 0.3833\n",
      "Epoch 7/100\n",
      "49/48 [==============================] - 4s 76ms/step - loss: 1.8603 - acc: 0.3508 - val_loss: 1.6435 - val_acc: 0.4011\n",
      "Epoch 8/100\n",
      "49/48 [==============================] - 4s 72ms/step - loss: 1.8492 - acc: 0.3546 - val_loss: 1.6948 - val_acc: 0.3910\n",
      "Epoch 9/100\n",
      "49/48 [==============================] - 3s 70ms/step - loss: 1.8395 - acc: 0.3450 - val_loss: 1.5787 - val_acc: 0.4324\n",
      "Epoch 10/100\n",
      "49/48 [==============================] - 3s 71ms/step - loss: 1.7861 - acc: 0.3533 - val_loss: 1.6626 - val_acc: 0.4077\n",
      "Epoch 11/100\n",
      "49/48 [==============================] - 4s 74ms/step - loss: 1.7723 - acc: 0.3642 - val_loss: 1.6016 - val_acc: 0.4265\n",
      "Epoch 00011: early stopping\n"
     ]
    },
    {
     "data": {
      "text/plain": [
       "<keras.callbacks.History at 0x11209e7e470>"
      ]
     },
     "execution_count": 15,
     "metadata": {},
     "output_type": "execute_result"
    }
   ],
   "source": [
    "model.fit_generator(generator, steps_per_epoch=len(generator)/32, epochs=100, validation_data=(x_test,y_test), callbacks=[es])"
   ]
  },
  {
   "cell_type": "code",
   "execution_count": 16,
   "metadata": {},
   "outputs": [
    {
     "data": {
      "text/plain": [
       "[1.746329563140869, 0.3828]"
      ]
     },
     "execution_count": 16,
     "metadata": {},
     "output_type": "execute_result"
    }
   ],
   "source": [
    "test_generator = datagen.flow(x_test,y_test,batch_size=32)\n",
    "model.evaluate_generator(test_generator)"
   ]
  },
  {
   "cell_type": "markdown",
   "metadata": {},
   "source": [
    "## Modelo 2"
   ]
  },
  {
   "cell_type": "code",
   "execution_count": 17,
   "metadata": {},
   "outputs": [],
   "source": [
    "es = EarlyStopping(monitor='val_acc', mode='min', patience=10, verbose=1)\n",
    "p = 0.5 # esto es 1-p\n",
    "\n",
    "model = Sequential()\n",
    "model.add(Conv2D(64, kernel_size = 7, activation='relu', input_shape=(input_shape), strides = 1))\n",
    "model.add(MaxPooling2D(pool_size=(2,2), strides = 2))\n",
    "model.add(Flatten())\n",
    "model.add(Dropout(p)) #recibe 1-p\n",
    "model.add(Dense(classes, activation='softmax'))\n",
    "\n",
    "model.compile(\n",
    "  optimizer=keras.optimizers.Adam(lr=0.001,beta_1=0.9,beta_2=0.999,amsgrad=False), \n",
    "  loss='sparse_categorical_crossentropy', \n",
    "  # metricas para ir calculando en cada iteracion o batch \n",
    "  # Agregamos el accuracy del modelo\n",
    "  metrics=['accuracy'], \n",
    ")"
   ]
  },
  {
   "cell_type": "code",
   "execution_count": 18,
   "metadata": {},
   "outputs": [
    {
     "name": "stdout",
     "output_type": "stream",
     "text": [
      "Epoch 1/100\n"
     ]
    },
    {
     "name": "stderr",
     "output_type": "stream",
     "text": [
      "C:\\Users\\dalessam\\AppData\\Local\\Continuum\\anaconda3\\envs\\deep_env\\lib\\site-packages\\keras_preprocessing\\image\\image_data_generator.py:716: UserWarning: This ImageDataGenerator specifies `featurewise_center`, but it hasn't been fit on any training data. Fit it first by calling `.fit(numpy_data)`.\n",
      "  warnings.warn('This ImageDataGenerator specifies '\n",
      "C:\\Users\\dalessam\\AppData\\Local\\Continuum\\anaconda3\\envs\\deep_env\\lib\\site-packages\\keras_preprocessing\\image\\image_data_generator.py:724: UserWarning: This ImageDataGenerator specifies `featurewise_std_normalization`, but it hasn't been fit on any training data. Fit it first by calling `.fit(numpy_data)`.\n",
      "  warnings.warn('This ImageDataGenerator specifies '\n"
     ]
    },
    {
     "name": "stdout",
     "output_type": "stream",
     "text": [
      "49/48 [==============================] - 4s 77ms/step - loss: 2.2236 - acc: 0.1945 - val_loss: 1.9320 - val_acc: 0.3110\n",
      "Epoch 2/100\n",
      "49/48 [==============================] - 3s 71ms/step - loss: 2.0929 - acc: 0.2691 - val_loss: 1.8774 - val_acc: 0.3221\n",
      "Epoch 3/100\n",
      "49/48 [==============================] - 4s 78ms/step - loss: 1.9618 - acc: 0.3010 - val_loss: 1.8066 - val_acc: 0.3526\n",
      "Epoch 4/100\n",
      "49/48 [==============================] - 4s 72ms/step - loss: 1.9743 - acc: 0.2927 - val_loss: 1.7914 - val_acc: 0.3692\n",
      "Epoch 5/100\n",
      "49/48 [==============================] - 3s 71ms/step - loss: 1.9383 - acc: 0.3157 - val_loss: 1.7089 - val_acc: 0.3899\n",
      "Epoch 6/100\n",
      "49/48 [==============================] - 3s 69ms/step - loss: 1.9055 - acc: 0.3284 - val_loss: 1.7499 - val_acc: 0.3705\n",
      "Epoch 7/100\n",
      "49/48 [==============================] - 3s 70ms/step - loss: 1.8888 - acc: 0.3233 - val_loss: 1.6933 - val_acc: 0.3870\n",
      "Epoch 8/100\n",
      "49/48 [==============================] - 3s 71ms/step - loss: 1.8678 - acc: 0.3253 - val_loss: 1.6362 - val_acc: 0.4211\n",
      "Epoch 9/100\n",
      "49/48 [==============================] - 3s 70ms/step - loss: 1.8631 - acc: 0.3438 - val_loss: 1.6859 - val_acc: 0.3943\n",
      "Epoch 10/100\n",
      "49/48 [==============================] - 4s 73ms/step - loss: 1.8581 - acc: 0.3316 - val_loss: 1.5868 - val_acc: 0.4316\n",
      "Epoch 11/100\n",
      "49/48 [==============================] - 3s 69ms/step - loss: 1.8777 - acc: 0.3399 - val_loss: 1.5836 - val_acc: 0.4384\n",
      "Epoch 00011: early stopping\n"
     ]
    },
    {
     "data": {
      "text/plain": [
       "<keras.callbacks.History at 0x112027d9748>"
      ]
     },
     "execution_count": 18,
     "metadata": {},
     "output_type": "execute_result"
    }
   ],
   "source": [
    "model.fit_generator(generator, steps_per_epoch=len(generator)/32, epochs=100, validation_data=(x_test,y_test), callbacks=[es])"
   ]
  },
  {
   "cell_type": "code",
   "execution_count": 19,
   "metadata": {},
   "outputs": [
    {
     "data": {
      "text/plain": [
       "[1.7471564065933227, 0.3692]"
      ]
     },
     "execution_count": 19,
     "metadata": {},
     "output_type": "execute_result"
    }
   ],
   "source": [
    "test_generator = datagen.flow(x_test,y_test,batch_size=32)\n",
    "model.evaluate_generator(test_generator)"
   ]
  },
  {
   "cell_type": "markdown",
   "metadata": {},
   "source": [
    "## Modelo 3"
   ]
  },
  {
   "cell_type": "code",
   "execution_count": 20,
   "metadata": {},
   "outputs": [
    {
     "name": "stdout",
     "output_type": "stream",
     "text": [
      "WARNING:tensorflow:Large dropout rate: 0.9 (>0.5). In TensorFlow 2.x, dropout() uses dropout rate instead of keep_prob. Please ensure that this is intended.\n"
     ]
    }
   ],
   "source": [
    "es = EarlyStopping(monitor='val_acc', mode='min', patience=10, verbose=1)\n",
    "p = 0.9 # esto es 1-p\n",
    "\n",
    "model = Sequential()\n",
    "model.add(Conv2D(64, kernel_size = 7, activation='relu', input_shape=(input_shape), strides = 1))\n",
    "model.add(MaxPooling2D(pool_size=(2,2), strides = 2))\n",
    "model.add(Flatten())\n",
    "model.add(Dropout(p)) #recibe 1-p\n",
    "model.add(Dense(classes, activation='softmax'))\n",
    "\n",
    "model.compile(\n",
    "  optimizer=keras.optimizers.Adam(lr=0.001,beta_1=0.9,beta_2=0.999,amsgrad=False), \n",
    "  loss='sparse_categorical_crossentropy', \n",
    "  # metricas para ir calculando en cada iteracion o batch \n",
    "  # Agregamos el accuracy del modelo\n",
    "  metrics=['accuracy'], \n",
    ")"
   ]
  },
  {
   "cell_type": "code",
   "execution_count": 21,
   "metadata": {},
   "outputs": [
    {
     "name": "stdout",
     "output_type": "stream",
     "text": [
      "Epoch 1/100\n"
     ]
    },
    {
     "name": "stderr",
     "output_type": "stream",
     "text": [
      "C:\\Users\\dalessam\\AppData\\Local\\Continuum\\anaconda3\\envs\\deep_env\\lib\\site-packages\\keras_preprocessing\\image\\image_data_generator.py:716: UserWarning: This ImageDataGenerator specifies `featurewise_center`, but it hasn't been fit on any training data. Fit it first by calling `.fit(numpy_data)`.\n",
      "  warnings.warn('This ImageDataGenerator specifies '\n",
      "C:\\Users\\dalessam\\AppData\\Local\\Continuum\\anaconda3\\envs\\deep_env\\lib\\site-packages\\keras_preprocessing\\image\\image_data_generator.py:724: UserWarning: This ImageDataGenerator specifies `featurewise_std_normalization`, but it hasn't been fit on any training data. Fit it first by calling `.fit(numpy_data)`.\n",
      "  warnings.warn('This ImageDataGenerator specifies '\n"
     ]
    },
    {
     "name": "stdout",
     "output_type": "stream",
     "text": [
      "49/48 [==============================] - 4s 79ms/step - loss: 2.4507 - acc: 0.1575 - val_loss: 2.0046 - val_acc: 0.2792\n",
      "Epoch 2/100\n",
      "49/48 [==============================] - 3s 71ms/step - loss: 2.2368 - acc: 0.2213 - val_loss: 1.9031 - val_acc: 0.3184\n",
      "Epoch 3/100\n",
      "49/48 [==============================] - 3s 70ms/step - loss: 2.2417 - acc: 0.2341 - val_loss: 1.9460 - val_acc: 0.2727\n",
      "Epoch 4/100\n",
      "49/48 [==============================] - 4s 75ms/step - loss: 2.2299 - acc: 0.2226 - val_loss: 1.8583 - val_acc: 0.3430\n",
      "Epoch 5/100\n",
      "49/48 [==============================] - 4s 74ms/step - loss: 2.1928 - acc: 0.2385 - val_loss: 1.8253 - val_acc: 0.3554\n",
      "Epoch 6/100\n",
      "49/48 [==============================] - 4s 73ms/step - loss: 2.1653 - acc: 0.2392 - val_loss: 1.8097 - val_acc: 0.3463\n",
      "Epoch 7/100\n",
      "49/48 [==============================] - 3s 71ms/step - loss: 2.1041 - acc: 0.2704 - val_loss: 1.9652 - val_acc: 0.2995\n",
      "Epoch 8/100\n",
      "49/48 [==============================] - 4s 74ms/step - loss: 2.1806 - acc: 0.2404 - val_loss: 1.8383 - val_acc: 0.3526\n",
      "Epoch 9/100\n",
      "49/48 [==============================] - 4s 75ms/step - loss: 2.0914 - acc: 0.2679 - val_loss: 1.7405 - val_acc: 0.3746\n",
      "Epoch 10/100\n",
      "49/48 [==============================] - 4s 73ms/step - loss: 2.0979 - acc: 0.2647 - val_loss: 1.7230 - val_acc: 0.3806\n",
      "Epoch 11/100\n",
      "49/48 [==============================] - 3s 70ms/step - loss: 2.1078 - acc: 0.2462 - val_loss: 1.7884 - val_acc: 0.3701\n",
      "Epoch 12/100\n",
      "49/48 [==============================] - 4s 73ms/step - loss: 2.0786 - acc: 0.2570 - val_loss: 1.7089 - val_acc: 0.3886\n",
      "Epoch 13/100\n",
      "49/48 [==============================] - 4s 80ms/step - loss: 2.1100 - acc: 0.2621 - val_loss: 1.7403 - val_acc: 0.3890\n",
      "Epoch 00013: early stopping\n"
     ]
    },
    {
     "data": {
      "text/plain": [
       "<keras.callbacks.History at 0x112028f33c8>"
      ]
     },
     "execution_count": 21,
     "metadata": {},
     "output_type": "execute_result"
    }
   ],
   "source": [
    "model.fit_generator(generator, steps_per_epoch=len(generator)/32, epochs=100, validation_data=(x_test,y_test), callbacks=[es])"
   ]
  },
  {
   "cell_type": "code",
   "execution_count": 22,
   "metadata": {},
   "outputs": [
    {
     "data": {
      "text/plain": [
       "[1.8570180168151855, 0.3489]"
      ]
     },
     "execution_count": 22,
     "metadata": {},
     "output_type": "execute_result"
    }
   ],
   "source": [
    "test_generator = datagen.flow(x_test,y_test,batch_size=32)\n",
    "model.evaluate_generator(test_generator)"
   ]
  },
  {
   "cell_type": "markdown",
   "metadata": {},
   "source": [
    "¿Cómo afectan al accuracy final obtenido en el conjunto de prueba? Al aumentar el valor de 1-p el accuracy disminuye. Pero en 1-p = 0.1 me da mejor el accuracy que en el modelo sin dropout (0.3828 vs 0.3673)."
   ]
  },
  {
   "cell_type": "markdown",
   "metadata": {},
   "source": [
    "# Ejercicio b"
   ]
  },
  {
   "cell_type": "markdown",
   "metadata": {},
   "source": [
    "En general, la capa Dropout no ayuda a las capas convolucionales, ya que al tener estas tan pocos parámetros (en comparación con las capas Dense), no requieren regularización. Verificar esto agregando Dropout a las capas convolucionales, reentrenando y verificando el accuracy del conjunto de prueba."
   ]
  },
  {
   "cell_type": "code",
   "execution_count": 23,
   "metadata": {},
   "outputs": [],
   "source": [
    "es = EarlyStopping(monitor='val_acc', mode='min', patience=10, verbose=1)\n",
    "p = 0.1 # esto es 1-p\n",
    "\n",
    "model = Sequential()\n",
    "model.add(Conv2D(64, kernel_size = 7, activation='relu', input_shape=(input_shape), strides = 1))\n",
    "model.add(Dropout(p)) #recibe 1-p\n",
    "model.add(MaxPooling2D(pool_size=(2,2), strides = 2))\n",
    "model.add(Flatten())\n",
    "model.add(Dropout(p)) #recibe 1-p\n",
    "model.add(Dense(classes, activation='softmax'))\n",
    "\n",
    "model.compile(\n",
    "  optimizer=keras.optimizers.Adam(lr=0.001,beta_1=0.9,beta_2=0.999,amsgrad=False), \n",
    "  loss='sparse_categorical_crossentropy', \n",
    "  # metricas para ir calculando en cada iteracion o batch \n",
    "  # Agregamos el accuracy del modelo\n",
    "  metrics=['accuracy'], \n",
    ")"
   ]
  },
  {
   "cell_type": "code",
   "execution_count": 24,
   "metadata": {},
   "outputs": [
    {
     "name": "stdout",
     "output_type": "stream",
     "text": [
      "Epoch 1/100\n"
     ]
    },
    {
     "name": "stderr",
     "output_type": "stream",
     "text": [
      "C:\\Users\\dalessam\\AppData\\Local\\Continuum\\anaconda3\\envs\\deep_env\\lib\\site-packages\\keras_preprocessing\\image\\image_data_generator.py:716: UserWarning: This ImageDataGenerator specifies `featurewise_center`, but it hasn't been fit on any training data. Fit it first by calling `.fit(numpy_data)`.\n",
      "  warnings.warn('This ImageDataGenerator specifies '\n",
      "C:\\Users\\dalessam\\AppData\\Local\\Continuum\\anaconda3\\envs\\deep_env\\lib\\site-packages\\keras_preprocessing\\image\\image_data_generator.py:724: UserWarning: This ImageDataGenerator specifies `featurewise_std_normalization`, but it hasn't been fit on any training data. Fit it first by calling `.fit(numpy_data)`.\n",
      "  warnings.warn('This ImageDataGenerator specifies '\n"
     ]
    },
    {
     "name": "stdout",
     "output_type": "stream",
     "text": [
      "49/48 [==============================] - 4s 91ms/step - loss: 2.1959 - acc: 0.2290 - val_loss: 1.9422 - val_acc: 0.2895\n",
      "Epoch 2/100\n",
      "49/48 [==============================] - 4s 86ms/step - loss: 2.0439 - acc: 0.2615 - val_loss: 1.7740 - val_acc: 0.3509\n",
      "Epoch 3/100\n",
      "49/48 [==============================] - 4s 89ms/step - loss: 1.9024 - acc: 0.3138 - val_loss: 1.7001 - val_acc: 0.3934\n",
      "Epoch 4/100\n",
      "49/48 [==============================] - 4s 87ms/step - loss: 1.9139 - acc: 0.3176 - val_loss: 1.7216 - val_acc: 0.3860\n",
      "Epoch 5/100\n",
      "49/48 [==============================] - 4s 90ms/step - loss: 1.8824 - acc: 0.3476 - val_loss: 1.8123 - val_acc: 0.3687\n",
      "Epoch 6/100\n",
      "49/48 [==============================] - 4s 86ms/step - loss: 1.9200 - acc: 0.3170 - val_loss: 1.6411 - val_acc: 0.4099\n",
      "Epoch 7/100\n",
      "49/48 [==============================] - 4s 86ms/step - loss: 1.8884 - acc: 0.3393 - val_loss: 1.6444 - val_acc: 0.4123\n",
      "Epoch 8/100\n",
      "49/48 [==============================] - 4s 89ms/step - loss: 1.8483 - acc: 0.3425 - val_loss: 1.6564 - val_acc: 0.4002\n",
      "Epoch 9/100\n",
      "49/48 [==============================] - 4s 89ms/step - loss: 1.8771 - acc: 0.3393 - val_loss: 1.6929 - val_acc: 0.3845\n",
      "Epoch 10/100\n",
      "49/48 [==============================] - 4s 86ms/step - loss: 1.8150 - acc: 0.3533 - val_loss: 1.6250 - val_acc: 0.4130\n",
      "Epoch 11/100\n",
      "49/48 [==============================] - 4s 85ms/step - loss: 1.8197 - acc: 0.3489 - val_loss: 1.6681 - val_acc: 0.4048\n",
      "Epoch 00011: early stopping\n"
     ]
    },
    {
     "data": {
      "text/plain": [
       "<keras.callbacks.History at 0x11203d33128>"
      ]
     },
     "execution_count": 24,
     "metadata": {},
     "output_type": "execute_result"
    }
   ],
   "source": [
    "model.fit_generator(generator, steps_per_epoch=len(generator)/32, epochs=100, validation_data=(x_test,y_test), callbacks=[es])"
   ]
  },
  {
   "cell_type": "code",
   "execution_count": 25,
   "metadata": {},
   "outputs": [
    {
     "data": {
      "text/plain": [
       "[1.8121606983184815, 0.3475]"
      ]
     },
     "execution_count": 25,
     "metadata": {},
     "output_type": "execute_result"
    }
   ],
   "source": [
    "test_generator = datagen.flow(x_test,y_test,batch_size=32)\n",
    "model.evaluate_generator(test_generator)"
   ]
  },
  {
   "cell_type": "markdown",
   "metadata": {},
   "source": [
    "Da peor como es previsto."
   ]
  },
  {
   "cell_type": "code",
   "execution_count": null,
   "metadata": {},
   "outputs": [],
   "source": []
  }
 ],
 "metadata": {
  "kernelspec": {
   "display_name": "Python 3",
   "language": "python",
   "name": "python3"
  },
  "language_info": {
   "codemirror_mode": {
    "name": "ipython",
    "version": 3
   },
   "file_extension": ".py",
   "mimetype": "text/x-python",
   "name": "python",
   "nbconvert_exporter": "python",
   "pygments_lexer": "ipython3",
   "version": "3.7.1"
  },
  "toc": {
   "base_numbering": 1,
   "nav_menu": {},
   "number_sections": true,
   "sideBar": true,
   "skip_h1_title": false,
   "title_cell": "Table of Contents",
   "title_sidebar": "Contents",
   "toc_cell": false,
   "toc_position": {},
   "toc_section_display": true,
   "toc_window_display": false
  },
  "varInspector": {
   "cols": {
    "lenName": 16,
    "lenType": 16,
    "lenVar": 40
   },
   "kernels_config": {
    "python": {
     "delete_cmd_postfix": "",
     "delete_cmd_prefix": "del ",
     "library": "var_list.py",
     "varRefreshCmd": "print(var_dic_list())"
    },
    "r": {
     "delete_cmd_postfix": ") ",
     "delete_cmd_prefix": "rm(",
     "library": "var_list.r",
     "varRefreshCmd": "cat(var_dic_list()) "
    }
   },
   "types_to_exclude": [
    "module",
    "function",
    "builtin_function_or_method",
    "instance",
    "_Feature"
   ],
   "window_display": false
  }
 },
 "nbformat": 4,
 "nbformat_minor": 4
}
