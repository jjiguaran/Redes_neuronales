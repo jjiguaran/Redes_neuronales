{
  "nbformat": 4,
  "nbformat_minor": 0,
  "metadata": {
    "colab": {
      "name": "9.4_meli_kaggle",
      "provenance": [],
      "collapsed_sections": []
    },
    "kernelspec": {
      "name": "python3",
      "display_name": "Python 3"
    },
    "accelerator": "GPU"
  },
  "cells": [
    {
      "cell_type": "code",
      "metadata": {
        "id": "G3LHwwK37haB"
      },
      "source": [
        "import numpy as np\n",
        "import matplotlib.pyplot as plt\n",
        "\n",
        "from keras.datasets import cifar10\n",
        "from keras.models import Sequential\n",
        "from keras.layers import Dense, Flatten, Dropout\n",
        "from keras.applications.mobilenet import MobileNet, preprocess_input"
      ],
      "execution_count": null,
      "outputs": []
    },
    {
      "cell_type": "markdown",
      "metadata": {
        "id": "q9OGxKC9EC-g"
      },
      "source": [
        "https://www.kaggle.com/amolikvivian/cifar10-transfer-learning-mobilenet"
      ]
    },
    {
      "cell_type": "code",
      "metadata": {
        "id": "LBPmXYMC7iT7"
      },
      "source": [
        "#Loading dataset\n",
        "\n",
        "(trainX, trainY), (testX, testY) = cifar10.load_data()"
      ],
      "execution_count": null,
      "outputs": []
    },
    {
      "cell_type": "code",
      "metadata": {
        "colab": {
          "base_uri": "https://localhost:8080/"
        },
        "id": "LqtZ8HYp7jhK",
        "outputId": "a4c989ba-874e-4056-ae5e-e76230a0f05a"
      },
      "source": [
        "#Analyzing shape of data\n",
        "print('Train ', '\\nData :', trainX.shape, '\\nLabel :', trainY.shape)\n",
        "\n",
        "print('\\nTest ', '\\nData :', testX.shape, '\\nLabel :', testY.shape)"
      ],
      "execution_count": null,
      "outputs": [
        {
          "output_type": "stream",
          "text": [
            "Train  \n",
            "Data : (50000, 32, 32, 3) \n",
            "Label : (50000, 1)\n",
            "\n",
            "Test  \n",
            "Data : (10000, 32, 32, 3) \n",
            "Label : (10000, 1)\n"
          ],
          "name": "stdout"
        }
      ]
    },
    {
      "cell_type": "code",
      "metadata": {
        "colab": {
          "base_uri": "https://localhost:8080/",
          "height": 266
        },
        "id": "eTzda8sT7k0r",
        "outputId": "659e2270-e7b4-47b9-ecdb-b53e62bc2368"
      },
      "source": [
        "#Visualizing image from training dataset\n",
        "\n",
        "img = plt.imshow(trainX[1])"
      ],
      "execution_count": null,
      "outputs": [
        {
          "output_type": "display_data",
          "data": {
            "image/png": "[encoded data removed]",
            "text/plain": [
              "<Figure size 432x288 with 1 Axes>"
            ]
          },
          "metadata": {
            "tags": [],
            "needs_background": "light"
          }
        }
      ]
    },
    {
      "cell_type": "code",
      "metadata": {
        "id": "fv7l9J8wE-M3"
      },
      "source": [
        "# Se preprocesan los datos con el mismo método de preprocesamiento que usa la red\n",
        "trainX_preprocesado = preprocess_input(trainX)\n",
        "testX_preprocesado = preprocess_input(testX)"
      ],
      "execution_count": null,
      "outputs": []
    },
    {
      "cell_type": "code",
      "metadata": {
        "id": "HwjlJvgY7mRJ"
      },
      "source": [
        "#One Hot Encoding Labels from Train and Test Dataset\n",
        "from keras.utils import to_categorical\n",
        "\n",
        "trainY_one_hot = to_categorical(trainY)\n",
        "testY_one_hot = to_categorical(testY)"
      ],
      "execution_count": null,
      "outputs": []
    },
    {
      "cell_type": "markdown",
      "metadata": {
        "id": "kbWYO7Zv8pQO"
      },
      "source": [
        "# Congelando las capas ya entrenadas"
      ]
    },
    {
      "cell_type": "code",
      "metadata": {
        "colab": {
          "base_uri": "https://localhost:8080/"
        },
        "id": "kNPj5uRm7oFN",
        "outputId": "f3f2d895-9619-406f-d4bd-cf0092fbe600"
      },
      "source": [
        "#Initializing MobileNet as Base Model for Transfer Learning\n",
        "\n",
        "from keras.applications import MobileNet\n",
        "#include_top = False \n",
        "base_model = MobileNet(include_top=False, weights='imagenet',\n",
        "            input_shape=(32,32,3), classes=trainY.shape[1])"
      ],
      "execution_count": null,
      "outputs": [
        {
          "output_type": "stream",
          "text": [
            "WARNING:tensorflow:`input_shape` is undefined or non-square, or `rows` is not in [128, 160, 192, 224]. Weights for input shape (224, 224) will be loaded as the default.\n"
          ],
          "name": "stdout"
        }
      ]
    },
    {
      "cell_type": "code",
      "metadata": {
        "id": "5v0V2t517pr7"
      },
      "source": [
        "#Adding layers to base model of MobileNet\n",
        "\n",
        "model = Sequential()\n",
        "\n",
        "#Creating base layer of VGG19\n",
        "model.add(base_model)\n",
        "model.add(Dropout(0.5))\n",
        "model.add(Flatten())\n",
        "\n",
        "#Adding the Dense Layers and Dropout\n",
        "model.add(Dense(512,activation=('relu'))) \n",
        "\n",
        "model.add(Dense(256,activation=('relu'))) \n",
        "\n",
        "model.add(Dropout(.3))\n",
        "\n",
        "model.add(Dense(128,activation=('relu')))\n",
        "\n",
        "model.add(Dropout(.2))\n",
        "\n",
        "model.add(Dense(10,activation=('softmax')))"
      ],
      "execution_count": null,
      "outputs": []
    },
    {
      "cell_type": "code",
      "metadata": {
        "colab": {
          "base_uri": "https://localhost:8080/"
        },
        "id": "02e5-dWd7sUL",
        "outputId": "8ed8583c-5190-4930-dd31-10bc8cdafb31"
      },
      "source": [
        "#Visualizing Model Summary\n",
        "model.summary()"
      ],
      "execution_count": null,
      "outputs": [
        {
          "output_type": "stream",
          "text": [
            "Model: \"sequential_3\"\n",
            "_________________________________________________________________\n",
            "Layer (type)                 Output Shape              Param #   \n",
            "=================================================================\n",
            "mobilenet_1.00_224 (Function (None, 1, 1, 1024)        3228864   \n",
            "_________________________________________________________________\n",
            "dropout_9 (Dropout)          (None, 1, 1, 1024)        0         \n",
            "_________________________________________________________________\n",
            "flatten_3 (Flatten)          (None, 1024)              0         \n",
            "_________________________________________________________________\n",
            "dense_12 (Dense)             (None, 512)               524800    \n",
            "_________________________________________________________________\n",
            "dense_13 (Dense)             (None, 256)               131328    \n",
            "_________________________________________________________________\n",
            "dropout_10 (Dropout)         (None, 256)               0         \n",
            "_________________________________________________________________\n",
            "dense_14 (Dense)             (None, 128)               32896     \n",
            "_________________________________________________________________\n",
            "dropout_11 (Dropout)         (None, 128)               0         \n",
            "_________________________________________________________________\n",
            "dense_15 (Dense)             (None, 10)                1290      \n",
            "=================================================================\n",
            "Total params: 3,919,178\n",
            "Trainable params: 3,897,290\n",
            "Non-trainable params: 21,888\n",
            "_________________________________________________________________\n"
          ],
          "name": "stdout"
        }
      ]
    },
    {
      "cell_type": "code",
      "metadata": {
        "id": "NEO90fMr775M"
      },
      "source": [
        "#Compiling Model using SGD \n",
        "\n",
        "model.compile(loss = 'categorical_crossentropy', optimizer = 'adam',\n",
        "              metrics = ['accuracy'])"
      ],
      "execution_count": null,
      "outputs": []
    },
    {
      "cell_type": "code",
      "metadata": {
        "colab": {
          "base_uri": "https://localhost:8080/"
        },
        "id": "c114BtE3FTiY",
        "outputId": "ae975a17-e792-468c-e40e-e2f781666c53"
      },
      "source": [
        "#Training Model\n",
        "hist = model.fit(trainX_preprocesado, trainY_one_hot, batch_size = 100, epochs = 20, \n",
        "                 validation_split = 0.1)"
      ],
      "execution_count": null,
      "outputs": [
        {
          "output_type": "stream",
          "text": [
            "Epoch 1/20\n",
            "450/450 [==============================] - 7s 15ms/step - loss: 1.3335 - accuracy: 0.5486 - val_loss: 0.8096 - val_accuracy: 0.7302\n",
            "Epoch 2/20\n",
            "450/450 [==============================] - 6s 14ms/step - loss: 0.8384 - accuracy: 0.7345 - val_loss: 0.7309 - val_accuracy: 0.7656\n",
            "Epoch 3/20\n",
            "450/450 [==============================] - 6s 14ms/step - loss: 0.6956 - accuracy: 0.7805 - val_loss: 0.7077 - val_accuracy: 0.7682\n",
            "Epoch 4/20\n",
            "450/450 [==============================] - 6s 14ms/step - loss: 0.6099 - accuracy: 0.8093 - val_loss: 0.6512 - val_accuracy: 0.7772\n",
            "Epoch 5/20\n",
            "450/450 [==============================] - 6s 14ms/step - loss: 0.5454 - accuracy: 0.8308 - val_loss: 0.6230 - val_accuracy: 0.7962\n",
            "Epoch 6/20\n",
            "450/450 [==============================] - 6s 14ms/step - loss: 0.5059 - accuracy: 0.8443 - val_loss: 0.6542 - val_accuracy: 0.7904\n",
            "Epoch 7/20\n",
            "450/450 [==============================] - 6s 14ms/step - loss: 0.4583 - accuracy: 0.8584 - val_loss: 0.7686 - val_accuracy: 0.7628\n",
            "Epoch 8/20\n",
            "450/450 [==============================] - 6s 14ms/step - loss: 0.4308 - accuracy: 0.8677 - val_loss: 0.7421 - val_accuracy: 0.7844\n",
            "Epoch 9/20\n",
            "450/450 [==============================] - 6s 14ms/step - loss: 0.3961 - accuracy: 0.8804 - val_loss: 0.7251 - val_accuracy: 0.7836\n",
            "Epoch 10/20\n",
            "450/450 [==============================] - 6s 14ms/step - loss: 0.3798 - accuracy: 0.8854 - val_loss: 0.6579 - val_accuracy: 0.7960\n",
            "Epoch 11/20\n",
            "450/450 [==============================] - 6s 14ms/step - loss: 0.3396 - accuracy: 0.8972 - val_loss: 0.7207 - val_accuracy: 0.8024\n",
            "Epoch 12/20\n",
            "450/450 [==============================] - 6s 14ms/step - loss: 0.3199 - accuracy: 0.9032 - val_loss: 0.7028 - val_accuracy: 0.7812\n",
            "Epoch 13/20\n",
            "450/450 [==============================] - 6s 14ms/step - loss: 0.2947 - accuracy: 0.9126 - val_loss: 0.6643 - val_accuracy: 0.8250\n",
            "Epoch 14/20\n",
            "450/450 [==============================] - 6s 14ms/step - loss: 0.2888 - accuracy: 0.9156 - val_loss: 0.7260 - val_accuracy: 0.8086\n",
            "Epoch 15/20\n",
            "450/450 [==============================] - 6s 14ms/step - loss: 0.2677 - accuracy: 0.9228 - val_loss: 0.7510 - val_accuracy: 0.8064\n",
            "Epoch 16/20\n",
            "450/450 [==============================] - 6s 14ms/step - loss: 0.2421 - accuracy: 0.9308 - val_loss: 0.6953 - val_accuracy: 0.8076\n",
            "Epoch 17/20\n",
            "450/450 [==============================] - 6s 14ms/step - loss: 0.2235 - accuracy: 0.9337 - val_loss: 0.6537 - val_accuracy: 0.8262\n",
            "Epoch 18/20\n",
            "450/450 [==============================] - 6s 14ms/step - loss: 0.2086 - accuracy: 0.9386 - val_loss: 0.7880 - val_accuracy: 0.8102\n",
            "Epoch 19/20\n",
            "450/450 [==============================] - 6s 14ms/step - loss: 0.1925 - accuracy: 0.9446 - val_loss: 0.7180 - val_accuracy: 0.8232\n",
            "Epoch 20/20\n",
            "450/450 [==============================] - 6s 14ms/step - loss: 0.1846 - accuracy: 0.9473 - val_loss: 0.7615 - val_accuracy: 0.8060\n"
          ],
          "name": "stdout"
        }
      ]
    },
    {
      "cell_type": "code",
      "metadata": {
        "colab": {
          "base_uri": "https://localhost:8080/"
        },
        "id": "5vq5WvPQ8C6N",
        "outputId": "769883ba-a7bf-4ded-8989-0c812bc20f77"
      },
      "source": [
        "#Training Model\n",
        "hist = model.fit(trainX, trainY_one_hot, batch_size = 100, epochs = 20, \n",
        "                 validation_split = 0.1)"
      ],
      "execution_count": null,
      "outputs": [
        {
          "output_type": "stream",
          "text": [
            "Epoch 1/20\n",
            "450/450 [==============================] - 6s 14ms/step - loss: 1.3483 - accuracy: 0.5401 - val_loss: 0.8393 - val_accuracy: 0.7180\n",
            "Epoch 2/20\n",
            "450/450 [==============================] - 6s 13ms/step - loss: 0.8466 - accuracy: 0.7326 - val_loss: 0.9023 - val_accuracy: 0.7252\n",
            "Epoch 3/20\n",
            "450/450 [==============================] - 6s 13ms/step - loss: 0.6981 - accuracy: 0.7810 - val_loss: 0.8999 - val_accuracy: 0.7354\n",
            "Epoch 4/20\n",
            "450/450 [==============================] - 6s 13ms/step - loss: 0.6122 - accuracy: 0.8115 - val_loss: 0.7456 - val_accuracy: 0.7574\n",
            "Epoch 5/20\n",
            "450/450 [==============================] - 6s 13ms/step - loss: 0.5502 - accuracy: 0.8269 - val_loss: 0.6484 - val_accuracy: 0.7940\n",
            "Epoch 6/20\n",
            "450/450 [==============================] - 6s 14ms/step - loss: 0.4972 - accuracy: 0.8471 - val_loss: 0.7948 - val_accuracy: 0.7628\n",
            "Epoch 7/20\n",
            "450/450 [==============================] - 6s 14ms/step - loss: 0.4532 - accuracy: 0.8614 - val_loss: 0.6326 - val_accuracy: 0.8008\n",
            "Epoch 8/20\n",
            "450/450 [==============================] - 6s 14ms/step - loss: 0.4236 - accuracy: 0.8689 - val_loss: 0.6679 - val_accuracy: 0.7960\n",
            "Epoch 9/20\n",
            "450/450 [==============================] - 6s 14ms/step - loss: 0.3976 - accuracy: 0.8792 - val_loss: 0.6882 - val_accuracy: 0.8068\n",
            "Epoch 10/20\n",
            "450/450 [==============================] - 6s 14ms/step - loss: 0.3637 - accuracy: 0.8897 - val_loss: 0.6779 - val_accuracy: 0.8012\n",
            "Epoch 11/20\n",
            "450/450 [==============================] - 6s 14ms/step - loss: 0.3409 - accuracy: 0.8961 - val_loss: 0.6396 - val_accuracy: 0.8082\n",
            "Epoch 12/20\n",
            "450/450 [==============================] - 6s 14ms/step - loss: 0.3122 - accuracy: 0.9078 - val_loss: 0.7385 - val_accuracy: 0.7928\n",
            "Epoch 13/20\n",
            "450/450 [==============================] - 6s 14ms/step - loss: 0.2950 - accuracy: 0.9130 - val_loss: 0.6112 - val_accuracy: 0.8238\n",
            "Epoch 14/20\n",
            "450/450 [==============================] - 6s 14ms/step - loss: 0.2632 - accuracy: 0.9234 - val_loss: 0.7161 - val_accuracy: 0.8094\n",
            "Epoch 15/20\n",
            "450/450 [==============================] - 6s 14ms/step - loss: 0.2581 - accuracy: 0.9257 - val_loss: 0.7454 - val_accuracy: 0.7958\n",
            "Epoch 16/20\n",
            "450/450 [==============================] - 6s 14ms/step - loss: 0.2338 - accuracy: 0.9325 - val_loss: 0.7236 - val_accuracy: 0.8186\n",
            "Epoch 17/20\n",
            "450/450 [==============================] - 6s 14ms/step - loss: 0.2194 - accuracy: 0.9366 - val_loss: 0.7090 - val_accuracy: 0.8124\n",
            "Epoch 18/20\n",
            "450/450 [==============================] - 6s 14ms/step - loss: 0.1997 - accuracy: 0.9430 - val_loss: 0.7381 - val_accuracy: 0.8262\n",
            "Epoch 19/20\n",
            "450/450 [==============================] - 6s 14ms/step - loss: 0.1963 - accuracy: 0.9440 - val_loss: 0.8850 - val_accuracy: 0.8034\n",
            "Epoch 20/20\n",
            "450/450 [==============================] - 6s 14ms/step - loss: 0.1833 - accuracy: 0.9471 - val_loss: 0.8654 - val_accuracy: 0.7902\n"
          ],
          "name": "stdout"
        }
      ]
    },
    {
      "cell_type": "code",
      "metadata": {
        "colab": {
          "base_uri": "https://localhost:8080/"
        },
        "id": "34GNdef18EIL",
        "outputId": "8f2b19d8-a7a0-4dd9-9361-b1183f7e6ede"
      },
      "source": [
        "#Testing accuracy of trained model\n",
        "\n",
        "model.evaluate(testX, testY_one_hot)[1]"
      ],
      "execution_count": null,
      "outputs": [
        {
          "output_type": "stream",
          "text": [
            "313/313 [==============================] - 1s 4ms/step - loss: 0.9004 - accuracy: 0.7829\n"
          ],
          "name": "stdout"
        },
        {
          "output_type": "execute_result",
          "data": {
            "text/plain": [
              "0.7828999757766724"
            ]
          },
          "metadata": {
            "tags": []
          },
          "execution_count": 11
        }
      ]
    },
    {
      "cell_type": "code",
      "metadata": {
        "colab": {
          "base_uri": "https://localhost:8080/",
          "height": 312
        },
        "id": "PeyeHEWd8G_N",
        "outputId": "0c2759b1-2d5f-4b40-bb05-ca6046bdce17"
      },
      "source": [
        "#Visualizing Model Accuracy\n",
        "\n",
        "plt.plot(hist.history['accuracy'])\n",
        "plt.plot(hist.history['val_accuracy'])\n",
        "plt.title('Model Accuracy')\n",
        "plt.xlabel('Epoch')\n",
        "plt.ylabel('Accuracy')\n",
        "plt.legend(['Train', 'Val'], loc = 'upper left')"
      ],
      "execution_count": null,
      "outputs": [
        {
          "output_type": "execute_result",
          "data": {
            "text/plain": [
              "<matplotlib.legend.Legend at 0x7f857c835828>"
            ]
          },
          "metadata": {
            "tags": []
          },
          "execution_count": 12
        },
        {
          "output_type": "display_data",
          "data": {
            "image/png": "[encoded data removed]",
            "text/plain": [
              "<Figure size 432x288 with 1 Axes>"
            ]
          },
          "metadata": {
            "tags": [],
            "needs_background": "light"
          }
        }
      ]
    },
    {
      "cell_type": "markdown",
      "metadata": {
        "id": "N-WdnWCf96en"
      },
      "source": [
        "# Descongelando capas"
      ]
    },
    {
      "cell_type": "markdown",
      "metadata": {
        "id": "NToKBlTXEApI"
      },
      "source": [
        "https://keras.io/guides/transfer_learning/"
      ]
    },
    {
      "cell_type": "code",
      "metadata": {
        "id": "pf86EuJsDZtc"
      },
      "source": [
        "# Unfreeze the base model\n",
        "base_model.trainable = True"
      ],
      "execution_count": null,
      "outputs": []
    },
    {
      "cell_type": "code",
      "metadata": {
        "id": "qIZlgMgoDdri"
      },
      "source": [
        "# It's important to recompile your model after you make any changes\n",
        "# to the `trainable` attribute of any inner layer, so that your changes\n",
        "# are take into account\n",
        "model.compile(loss = 'categorical_crossentropy', optimizer = 'adam',\n",
        "              metrics = ['accuracy'])"
      ],
      "execution_count": null,
      "outputs": []
    },
    {
      "cell_type": "code",
      "metadata": {
        "colab": {
          "base_uri": "https://localhost:8080/"
        },
        "id": "QS2uraJcDpMv",
        "outputId": "6e25da52-d331-4186-f648-9fd1cbd7304a"
      },
      "source": [
        "# Train end-to-end. Be careful to stop before you overfit!\n",
        "#Training Model\n",
        "hist = model.fit(trainX, trainY_one_hot, batch_size = 100, epochs = 20, \n",
        "                 validation_split = 0.1)"
      ],
      "execution_count": null,
      "outputs": [
        {
          "output_type": "stream",
          "text": [
            "Epoch 1/20\n",
            "450/450 [==============================] - 7s 15ms/step - loss: 1.3772 - accuracy: 0.5281 - val_loss: 0.8748 - val_accuracy: 0.7184\n",
            "Epoch 2/20\n",
            "450/450 [==============================] - 6s 14ms/step - loss: 0.8466 - accuracy: 0.7351 - val_loss: 0.7234 - val_accuracy: 0.7518\n",
            "Epoch 3/20\n",
            "450/450 [==============================] - 6s 14ms/step - loss: 0.6884 - accuracy: 0.7820 - val_loss: 0.7335 - val_accuracy: 0.7656\n",
            "Epoch 4/20\n",
            "450/450 [==============================] - 6s 14ms/step - loss: 0.6032 - accuracy: 0.8112 - val_loss: 0.7115 - val_accuracy: 0.7748\n",
            "Epoch 5/20\n",
            "450/450 [==============================] - 6s 14ms/step - loss: 0.5451 - accuracy: 0.8262 - val_loss: 0.6515 - val_accuracy: 0.7956\n",
            "Epoch 6/20\n",
            "450/450 [==============================] - 6s 14ms/step - loss: 0.4942 - accuracy: 0.8459 - val_loss: 0.6747 - val_accuracy: 0.7848\n",
            "Epoch 7/20\n",
            "450/450 [==============================] - 6s 14ms/step - loss: 0.4640 - accuracy: 0.8588 - val_loss: 0.7410 - val_accuracy: 0.7812\n",
            "Epoch 8/20\n",
            "450/450 [==============================] - 6s 14ms/step - loss: 0.4198 - accuracy: 0.8705 - val_loss: 0.7303 - val_accuracy: 0.7800\n",
            "Epoch 9/20\n",
            "450/450 [==============================] - 6s 14ms/step - loss: 0.3852 - accuracy: 0.8808 - val_loss: 0.6342 - val_accuracy: 0.8086\n",
            "Epoch 10/20\n",
            "450/450 [==============================] - 6s 14ms/step - loss: 0.3648 - accuracy: 0.8907 - val_loss: 0.6954 - val_accuracy: 0.7874\n",
            "Epoch 11/20\n",
            "450/450 [==============================] - 6s 14ms/step - loss: 0.3334 - accuracy: 0.8976 - val_loss: 0.6793 - val_accuracy: 0.7900\n",
            "Epoch 12/20\n",
            "450/450 [==============================] - 6s 14ms/step - loss: 0.3150 - accuracy: 0.9027 - val_loss: 0.6455 - val_accuracy: 0.8096\n",
            "Epoch 13/20\n",
            "450/450 [==============================] - 6s 14ms/step - loss: 0.2941 - accuracy: 0.9128 - val_loss: 0.6334 - val_accuracy: 0.8116\n",
            "Epoch 14/20\n",
            "450/450 [==============================] - 6s 14ms/step - loss: 0.2609 - accuracy: 0.9206 - val_loss: 0.7537 - val_accuracy: 0.7926\n",
            "Epoch 15/20\n",
            "450/450 [==============================] - 6s 14ms/step - loss: 0.2591 - accuracy: 0.9239 - val_loss: 0.7947 - val_accuracy: 0.7738\n",
            "Epoch 16/20\n",
            "450/450 [==============================] - 6s 14ms/step - loss: 0.2408 - accuracy: 0.9292 - val_loss: 0.7932 - val_accuracy: 0.8020\n",
            "Epoch 17/20\n",
            "450/450 [==============================] - 6s 14ms/step - loss: 0.2233 - accuracy: 0.9342 - val_loss: 0.7395 - val_accuracy: 0.8076\n",
            "Epoch 18/20\n",
            "450/450 [==============================] - 6s 14ms/step - loss: 0.2086 - accuracy: 0.9394 - val_loss: 0.6987 - val_accuracy: 0.8168\n",
            "Epoch 19/20\n",
            "450/450 [==============================] - 6s 14ms/step - loss: 0.1988 - accuracy: 0.9418 - val_loss: 0.6289 - val_accuracy: 0.8274\n",
            "Epoch 20/20\n",
            "450/450 [==============================] - 6s 14ms/step - loss: 0.1772 - accuracy: 0.9492 - val_loss: 0.7140 - val_accuracy: 0.8048\n"
          ],
          "name": "stdout"
        }
      ]
    },
    {
      "cell_type": "code",
      "metadata": {
        "colab": {
          "base_uri": "https://localhost:8080/"
        },
        "id": "THNeLBgQA2PD",
        "outputId": "1023eafb-5a25-47ec-e7eb-7c7656eb4ea6"
      },
      "source": [
        "#Testing accuracy of trained model\n",
        "\n",
        "model.evaluate(testX, testY_one_hot)[1]"
      ],
      "execution_count": null,
      "outputs": [
        {
          "output_type": "stream",
          "text": [
            "313/313 [==============================] - 1s 5ms/step - loss: 0.7640 - accuracy: 0.8136\n"
          ],
          "name": "stdout"
        },
        {
          "output_type": "execute_result",
          "data": {
            "text/plain": [
              "0.8136000037193298"
            ]
          },
          "metadata": {
            "tags": []
          },
          "execution_count": 25
        }
      ]
    },
    {
      "cell_type": "code",
      "metadata": {
        "colab": {
          "base_uri": "https://localhost:8080/",
          "height": 312
        },
        "id": "sY1cOAEVA8mc",
        "outputId": "ab0e9b8c-b4e7-4096-9912-f6c00d6fe7f1"
      },
      "source": [
        "#Visualizing Model Accuracy\n",
        "\n",
        "plt.plot(hist.history['accuracy'])\n",
        "plt.plot(hist.history['val_accuracy'])\n",
        "plt.title('Model Accuracy')\n",
        "plt.xlabel('Epoch')\n",
        "plt.ylabel('Accuracy')\n",
        "plt.legend(['Train', 'Val'], loc = 'upper left')"
      ],
      "execution_count": null,
      "outputs": [
        {
          "output_type": "execute_result",
          "data": {
            "text/plain": [
              "<matplotlib.legend.Legend at 0x7f857c23acc0>"
            ]
          },
          "metadata": {
            "tags": []
          },
          "execution_count": 26
        },
        {
          "output_type": "display_data",
          "data": {
            "image/png": "[encoded data removed]",
            "text/plain": [
              "<Figure size 432x288 with 1 Axes>"
            ]
          },
          "metadata": {
            "tags": [],
            "needs_background": "light"
          }
        }
      ]
    }
  ]
}