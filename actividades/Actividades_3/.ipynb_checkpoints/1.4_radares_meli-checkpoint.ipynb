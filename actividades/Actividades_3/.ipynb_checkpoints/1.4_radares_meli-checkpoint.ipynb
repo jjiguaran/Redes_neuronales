{
 "cells": [
  {
   "cell_type": "code",
   "execution_count": 46,
   "metadata": {},
   "outputs": [],
   "source": [
    "import numpy as np\n",
    "import matplotlib.pyplot as plt\n",
    "import pandas as pd\n",
    "\n",
    "from perceptron import train, plot\n",
    "from numpy import genfromtxt"
   ]
  },
  {
   "cell_type": "code",
   "execution_count": 47,
   "metadata": {},
   "outputs": [],
   "source": [
    "radares = genfromtxt('radar_muestras.csv', delimiter=';', skip_header = 1)"
   ]
  },
  {
   "cell_type": "code",
   "execution_count": 48,
   "metadata": {},
   "outputs": [
    {
     "data": {
      "text/plain": [
       "array([3.84297441, 5.19911503, 0.        ])"
      ]
     },
     "execution_count": 48,
     "metadata": {},
     "output_type": "execute_result"
    }
   ],
   "source": [
    "radares[0]"
   ]
  },
  {
   "cell_type": "code",
   "execution_count": 49,
   "metadata": {},
   "outputs": [],
   "source": [
    "column_count = 3\n",
    "\n",
    "T = radares[:, column_count - 1]\n",
    "P = radares[:, 0:(column_count - 1)]"
   ]
  },
  {
   "cell_type": "code",
   "execution_count": 50,
   "metadata": {},
   "outputs": [
    {
     "name": "stdout",
     "output_type": "stream",
     "text": [
      "109\n"
     ]
    },
    {
     "data": {
      "image/png": "[encoded data removed]",
      "text/plain": [
       "<Figure size 432x288 with 1 Axes>"
      ]
     },
     "metadata": {
      "needs_background": "light"
     },
     "output_type": "display_data"
    }
   ],
   "source": [
    "alfa = 0.01\n",
    "max_ite = 200\n",
    "\n",
    "(W, b, ite) = train(P, T, alfa, max_ite, False)\n",
    "print(ite)\n",
    "\n",
    "plot(P, T, W, b)"
   ]
  },
  {
   "cell_type": "code",
   "execution_count": 51,
   "metadata": {},
   "outputs": [
    {
     "data": {
      "text/plain": [
       "array([[ 0.26793367, -0.08576022]])"
      ]
     },
     "execution_count": 51,
     "metadata": {},
     "output_type": "execute_result"
    }
   ],
   "source": [
    "W"
   ]
  },
  {
   "cell_type": "markdown",
   "metadata": {},
   "source": [
    "a) ¿Qué puede decir de la recta discriminante si el vector de pesos inicial es (0.9; 0) y el bias inicial es -5.2?"
   ]
  },
  {
   "cell_type": "code",
   "execution_count": 52,
   "metadata": {},
   "outputs": [],
   "source": [
    "def train(P, T, alfa, max_itera, dibujar):\n",
    "        \n",
    "    (cant_patrones, cant_atrib) = P.shape\n",
    "    #W = np.random.rand(1, cant_atrib)\n",
    "    W = np.array([0.9, 0])\n",
    "    \n",
    "    #b = np.random.rand()\n",
    "    b = -5.2\n",
    "    \n",
    "    ite = 0\n",
    "    otra_vez = True\n",
    "    \n",
    "    plt.ion()\n",
    "    plt.show()\n",
    "    \n",
    "    while ((ite <= max_itera) and otra_vez):\n",
    "        otra_vez = False\n",
    "        ite = ite + 1\n",
    "        \n",
    "        for patr in range(cant_patrones):\n",
    "            salida = b + W.dot(P[patr, :][np.newaxis].T) \n",
    "            if salida >= 0:\n",
    "                salida = 1\n",
    "            else:\n",
    "                salida = 0\n",
    "      \n",
    "            factor = alfa * (T[patr] - salida)\n",
    "            if (factor != 0):\n",
    "                otra_vez = True\n",
    "                W = W + factor * P[patr, :][np.newaxis]\n",
    "                b = b + factor\n",
    "                \n",
    "        \n",
    "        if dibujar and (cant_atrib == 2):        \n",
    "            plot(P, T, W, b, 'Iteración: ' + str(ite))\n",
    "\n",
    "    if dibujar and (cant_atrib == 2):        \n",
    "        plot(P, T, W, b, 'Iteración: ' + str(ite))\n",
    "        \n",
    "    return (W, b, ite)"
   ]
  },
  {
   "cell_type": "code",
   "execution_count": 53,
   "metadata": {
    "scrolled": true
   },
   "outputs": [
    {
     "name": "stdout",
     "output_type": "stream",
     "text": [
      "7\n"
     ]
    },
    {
     "data": {
      "image/png": "[encoded data removed]",
      "text/plain": [
       "<Figure size 432x288 with 1 Axes>"
      ]
     },
     "metadata": {
      "needs_background": "light"
     },
     "output_type": "display_data"
    }
   ],
   "source": [
    "(W, b, ite) = train(P, T, alfa, max_ite, False)\n",
    "print(ite)\n",
    "\n",
    "plot(P, T, W, b)"
   ]
  },
  {
   "cell_type": "markdown",
   "metadata": {},
   "source": [
    "La recta queda casi vertical con esos pesos "
   ]
  },
  {
   "cell_type": "markdown",
   "metadata": {},
   "source": [
    "b) ¿Qué puede decir de la recta discriminante si el vector de pesos inicial es (7; 3) y el bias inicial es -50?"
   ]
  },
  {
   "cell_type": "code",
   "execution_count": 22,
   "metadata": {},
   "outputs": [],
   "source": [
    "def train(P, T, alfa, max_itera, dibujar):\n",
    "        \n",
    "    (cant_patrones, cant_atrib) = P.shape\n",
    "    #W = np.random.rand(1, cant_atrib)\n",
    "    W = np.array([7, 3])\n",
    "    \n",
    "    #b = np.random.rand()\n",
    "    b = -50\n",
    "    \n",
    "    ite = 0\n",
    "    otra_vez = True\n",
    "    \n",
    "    plt.ion()\n",
    "    plt.show()\n",
    "    \n",
    "    while ((ite <= max_itera) and otra_vez):\n",
    "        otra_vez = False\n",
    "        ite = ite + 1\n",
    "        \n",
    "        for patr in range(cant_patrones):\n",
    "            salida = b + W.dot(P[patr, :][np.newaxis].T) \n",
    "            if salida >= 0:\n",
    "                salida = 1\n",
    "            else:\n",
    "                salida = 0\n",
    "      \n",
    "            factor = alfa * (T[patr] - salida)\n",
    "            if (factor != 0):\n",
    "                otra_vez = True\n",
    "                W = W + factor * P[patr, :][np.newaxis]\n",
    "                b = b + factor\n",
    "                \n",
    "        \n",
    "        if dibujar and (cant_atrib == 2):        \n",
    "            plot(P, T, W, b, 'Iteración: ' + str(ite))\n",
    "\n",
    "    if dibujar and (cant_atrib == 2):        \n",
    "        plot(P, T, W, b, 'Iteración: ' + str(ite))\n",
    "        \n",
    "    return (W, b, ite)"
   ]
  },
  {
   "cell_type": "code",
   "execution_count": 23,
   "metadata": {},
   "outputs": [
    {
     "name": "stdout",
     "output_type": "stream",
     "text": [
      "6\n"
     ]
    },
    {
     "data": {
      "image/png": "[encoded data removed]",
      "text/plain": [
       "<Figure size 432x288 with 1 Axes>"
      ]
     },
     "metadata": {
      "needs_background": "light"
     },
     "output_type": "display_data"
    }
   ],
   "source": [
    "(W, b, ite) = train(P, T, alfa, max_ite, False)\n",
    "print(ite)\n",
    "\n",
    "plot(P, T, W, b)"
   ]
  },
  {
   "cell_type": "markdown",
   "metadata": {},
   "source": [
    "La recta queda con un angulo obtuso, limitando mucho a al azul. "
   ]
  },
  {
   "cell_type": "markdown",
   "metadata": {},
   "source": [
    "c) ¿Qué puede decir de la recta discriminante si el vector de pesos inicial es (2; -0.5) y el bias inicial es -8?"
   ]
  },
  {
   "cell_type": "code",
   "execution_count": 24,
   "metadata": {},
   "outputs": [],
   "source": [
    "def train(P, T, alfa, max_itera, dibujar):\n",
    "        \n",
    "    (cant_patrones, cant_atrib) = P.shape\n",
    "    #W = np.random.rand(1, cant_atrib)\n",
    "    W = np.array([2, -0.5])\n",
    "    \n",
    "    #b = np.random.rand()\n",
    "    b = -8\n",
    "    \n",
    "    ite = 0\n",
    "    otra_vez = True\n",
    "    \n",
    "    plt.ion()\n",
    "    plt.show()\n",
    "    \n",
    "    while ((ite <= max_itera) and otra_vez):\n",
    "        otra_vez = False\n",
    "        ite = ite + 1\n",
    "        \n",
    "        for patr in range(cant_patrones):\n",
    "            salida = b + W.dot(P[patr, :][np.newaxis].T) \n",
    "            if salida >= 0:\n",
    "                salida = 1\n",
    "            else:\n",
    "                salida = 0\n",
    "      \n",
    "            factor = alfa * (T[patr] - salida)\n",
    "            if (factor != 0):\n",
    "                otra_vez = True\n",
    "                W = W + factor * P[patr, :][np.newaxis]\n",
    "                b = b + factor\n",
    "                \n",
    "        \n",
    "        if dibujar and (cant_atrib == 2):        \n",
    "            plot(P, T, W, b, 'Iteración: ' + str(ite))\n",
    "\n",
    "    if dibujar and (cant_atrib == 2):        \n",
    "        plot(P, T, W, b, 'Iteración: ' + str(ite))\n",
    "        \n",
    "    return (W, b, ite)"
   ]
  },
  {
   "cell_type": "code",
   "execution_count": 25,
   "metadata": {
    "scrolled": true
   },
   "outputs": [
    {
     "name": "stdout",
     "output_type": "stream",
     "text": [
      "7\n"
     ]
    },
    {
     "data": {
      "image/png": "[encoded data removed]",
      "text/plain": [
       "<Figure size 432x288 with 1 Axes>"
      ]
     },
     "metadata": {
      "needs_background": "light"
     },
     "output_type": "display_data"
    }
   ],
   "source": [
    "(W, b, ite) = train(P, T, alfa, max_ite, False)\n",
    "print(ite)\n",
    "\n",
    "plot(P, T, W, b)"
   ]
  },
  {
   "cell_type": "code",
   "execution_count": 39,
   "metadata": {},
   "outputs": [
    {
     "data": {
      "text/plain": [
       "-8.02"
      ]
     },
     "execution_count": 39,
     "metadata": {},
     "output_type": "execute_result"
    }
   ],
   "source": [
    "b"
   ]
  },
  {
   "cell_type": "markdown",
   "metadata": {},
   "source": [
    "Al contrario de la anterior, el ángulo queda agudo limitando al verde."
   ]
  },
  {
   "cell_type": "markdown",
   "metadata": {},
   "source": [
    "d) En función a lo observado en los incisos anteriores ¿Cómo clasifican los tres perceptrones conseguidos, a los datos que están en el dataset radar_desconocidos.csv?"
   ]
  },
  {
   "cell_type": "code",
   "execution_count": 54,
   "metadata": {},
   "outputs": [
    {
     "data": {
      "text/html": [
       "<div>\n",
       "<style scoped>\n",
       "    .dataframe tbody tr th:only-of-type {\n",
       "        vertical-align: middle;\n",
       "    }\n",
       "\n",
       "    .dataframe tbody tr th {\n",
       "        vertical-align: top;\n",
       "    }\n",
       "\n",
       "    .dataframe thead th {\n",
       "        text-align: right;\n",
       "    }\n",
       "</style>\n",
       "<table border=\"1\" class=\"dataframe\">\n",
       "  <thead>\n",
       "    <tr style=\"text-align: right;\">\n",
       "      <th></th>\n",
       "      <th>angulo_x</th>\n",
       "      <th>angulo_y</th>\n",
       "    </tr>\n",
       "  </thead>\n",
       "  <tbody>\n",
       "    <tr>\n",
       "      <th>0</th>\n",
       "      <td>3.923624</td>\n",
       "      <td>6.592920</td>\n",
       "    </tr>\n",
       "    <tr>\n",
       "      <th>1</th>\n",
       "      <td>4.127522</td>\n",
       "      <td>6.172566</td>\n",
       "    </tr>\n",
       "    <tr>\n",
       "      <th>2</th>\n",
       "      <td>4.410382</td>\n",
       "      <td>5.575221</td>\n",
       "    </tr>\n",
       "    <tr>\n",
       "      <th>3</th>\n",
       "      <td>4.559605</td>\n",
       "      <td>5.132743</td>\n",
       "    </tr>\n",
       "    <tr>\n",
       "      <th>4</th>\n",
       "      <td>5.444420</td>\n",
       "      <td>4.469027</td>\n",
       "    </tr>\n",
       "  </tbody>\n",
       "</table>\n",
       "</div>"
      ],
      "text/plain": [
       "   angulo_x  angulo_y\n",
       "0  3.923624  6.592920\n",
       "1  4.127522  6.172566\n",
       "2  4.410382  5.575221\n",
       "3  4.559605  5.132743\n",
       "4  5.444420  4.469027"
      ]
     },
     "execution_count": 54,
     "metadata": {},
     "output_type": "execute_result"
    }
   ],
   "source": [
    "radares_desconocidos = pd.read_csv('radar_desconocidos.csv', encoding = 'iso-8859-1',sep = \";\")\n",
    "radares_desconocidos.columns = ['angulo_x', 'angulo_y']\n",
    "radares_desconocidos.head()"
   ]
  },
  {
   "cell_type": "code",
   "execution_count": 55,
   "metadata": {},
   "outputs": [
    {
     "ename": "IndexError",
     "evalue": "invalid index to scalar variable.",
     "output_type": "error",
     "traceback": [
      "\u001b[1;31m---------------------------------------------------------------------------\u001b[0m",
      "\u001b[1;31mIndexError\u001b[0m                                Traceback (most recent call last)",
      "\u001b[1;32m<ipython-input-55-a56af61dadf4>\u001b[0m in \u001b[0;36m<module>\u001b[1;34m\u001b[0m\n\u001b[0;32m      2\u001b[0m \u001b[0mradares_desconocidos\u001b[0m\u001b[1;33m[\u001b[0m\u001b[1;34m'W1'\u001b[0m\u001b[1;33m]\u001b[0m \u001b[1;33m=\u001b[0m \u001b[0mW\u001b[0m\u001b[1;33m[\u001b[0m\u001b[1;36m0\u001b[0m\u001b[1;33m]\u001b[0m\u001b[1;33m[\u001b[0m\u001b[1;36m0\u001b[0m\u001b[1;33m]\u001b[0m\u001b[1;33m\u001b[0m\u001b[1;33m\u001b[0m\u001b[0m\n\u001b[0;32m      3\u001b[0m \u001b[0mradares_desconocidos\u001b[0m\u001b[1;33m[\u001b[0m\u001b[1;34m'W2'\u001b[0m\u001b[1;33m]\u001b[0m \u001b[1;33m=\u001b[0m \u001b[0mW\u001b[0m\u001b[1;33m[\u001b[0m\u001b[1;36m0\u001b[0m\u001b[1;33m]\u001b[0m\u001b[1;33m[\u001b[0m\u001b[1;36m1\u001b[0m\u001b[1;33m]\u001b[0m\u001b[1;33m\u001b[0m\u001b[1;33m\u001b[0m\u001b[0m\n\u001b[1;32m----> 4\u001b[1;33m \u001b[0mradares_desconocidos\u001b[0m\u001b[1;33m[\u001b[0m\u001b[1;34m'bias'\u001b[0m\u001b[1;33m]\u001b[0m \u001b[1;33m=\u001b[0m \u001b[0mb\u001b[0m\u001b[1;33m[\u001b[0m\u001b[1;36m0\u001b[0m\u001b[1;33m]\u001b[0m\u001b[1;33m\u001b[0m\u001b[1;33m\u001b[0m\u001b[0m\n\u001b[0m",
      "\u001b[1;31mIndexError\u001b[0m: invalid index to scalar variable."
     ]
    }
   ],
   "source": [
    "radares_desconocidos = radares_desconocidos.copy()\n",
    "radares_desconocidos['W1'] = W[0][0]\n",
    "radares_desconocidos['W2'] = W[0][1]\n",
    "radares_desconocidos['bias'] = b[0]"
   ]
  },
  {
   "cell_type": "code",
   "execution_count": 37,
   "metadata": {},
   "outputs": [
    {
     "ename": "IndexError",
     "evalue": "invalid index to scalar variable.",
     "output_type": "error",
     "traceback": [
      "\u001b[1;31m---------------------------------------------------------------------------\u001b[0m",
      "\u001b[1;31mIndexError\u001b[0m                                Traceback (most recent call last)",
      "\u001b[1;32m<ipython-input-37-5afdbd10721c>\u001b[0m in \u001b[0;36m<module>\u001b[1;34m\u001b[0m\n\u001b[0;32m      2\u001b[0m \u001b[0mtesting\u001b[0m\u001b[1;33m[\u001b[0m\u001b[1;34m'W1'\u001b[0m\u001b[1;33m]\u001b[0m \u001b[1;33m=\u001b[0m \u001b[0mW\u001b[0m\u001b[1;33m[\u001b[0m\u001b[1;36m0\u001b[0m\u001b[1;33m]\u001b[0m\u001b[1;33m[\u001b[0m\u001b[1;36m0\u001b[0m\u001b[1;33m]\u001b[0m\u001b[1;33m\u001b[0m\u001b[1;33m\u001b[0m\u001b[0m\n\u001b[0;32m      3\u001b[0m \u001b[0mtesting\u001b[0m\u001b[1;33m[\u001b[0m\u001b[1;34m'W2'\u001b[0m\u001b[1;33m]\u001b[0m \u001b[1;33m=\u001b[0m \u001b[0mW\u001b[0m\u001b[1;33m[\u001b[0m\u001b[1;36m0\u001b[0m\u001b[1;33m]\u001b[0m\u001b[1;33m[\u001b[0m\u001b[1;36m1\u001b[0m\u001b[1;33m]\u001b[0m\u001b[1;33m\u001b[0m\u001b[1;33m\u001b[0m\u001b[0m\n\u001b[1;32m----> 4\u001b[1;33m \u001b[0mtesting\u001b[0m\u001b[1;33m[\u001b[0m\u001b[1;34m'bias'\u001b[0m\u001b[1;33m]\u001b[0m \u001b[1;33m=\u001b[0m \u001b[0mb\u001b[0m\u001b[1;33m[\u001b[0m\u001b[1;36m0\u001b[0m\u001b[1;33m]\u001b[0m\u001b[1;33m\u001b[0m\u001b[1;33m\u001b[0m\u001b[0m\n\u001b[0m\u001b[0;32m      5\u001b[0m testing['salida'] =  testing['bias'] + ((testing['W1'] * testing['sepal length']) +\n\u001b[0;32m      6\u001b[0m                                           \u001b[1;33m(\u001b[0m\u001b[0mtesting\u001b[0m\u001b[1;33m[\u001b[0m\u001b[1;34m'W2'\u001b[0m\u001b[1;33m]\u001b[0m \u001b[1;33m*\u001b[0m \u001b[0mtesting\u001b[0m\u001b[1;33m[\u001b[0m\u001b[1;34m'sepal width'\u001b[0m\u001b[1;33m]\u001b[0m\u001b[1;33m)\u001b[0m\u001b[1;33m\u001b[0m\u001b[1;33m\u001b[0m\u001b[0m\n",
      "\u001b[1;31mIndexError\u001b[0m: invalid index to scalar variable."
     ]
    }
   ],
   "source": [
    "radares_desconocidos['salida'] =  radares_desconocidos['bias'] + ((radares_desconocidos['W1'] * radares_desconocidos['angulo_x']) +\n",
    "                                          (radares_desconocidos['W2'] * radares_desconocidos['angulo_y'])\n",
    "                                         )\n",
    "\n",
    "radares_desconocidos['Pred'] = 0\n",
    "radares_desconocidos.loc[radares_desconocidos['salida']>=0, 'Pred'] = 1\n",
    "radares_desconocidos.head()"
   ]
  },
  {
   "cell_type": "code",
   "execution_count": null,
   "metadata": {},
   "outputs": [],
   "source": []
  }
 ],
 "metadata": {
  "kernelspec": {
   "display_name": "Python 3",
   "language": "python",
   "name": "python3"
  },
  "language_info": {
   "codemirror_mode": {
    "name": "ipython",
    "version": 3
   },
   "file_extension": ".py",
   "mimetype": "text/x-python",
   "name": "python",
   "nbconvert_exporter": "python",
   "pygments_lexer": "ipython3",
   "version": "3.7.1"
  }
 },
 "nbformat": 4,
 "nbformat_minor": 2
}
