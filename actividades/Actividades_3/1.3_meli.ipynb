{
 "cells": [
  {
   "cell_type": "markdown",
   "metadata": {},
   "source": [
    "a) Al escalar convergia. Se debería hacer el escalado para que lo haga más rápido.\n"
   ]
  },
  {
   "cell_type": "markdown",
   "metadata": {},
   "source": [
    "b) Converge pero tarda mas, porque al presentar primero todos los ejemplos de la clase 0. Cada observacion cambia la pendiente y luego con los 1 hacen lo mismo."
   ]
  },
  {
   "cell_type": "markdown",
   "metadata": {},
   "source": [
    "c) Linealmente separable y solo ejemplos que pertenezcan a 2 clases nada más"
   ]
  },
  {
   "cell_type": "markdown",
   "metadata": {},
   "source": [
    "d) Cuantas posibles soluciones hay para un dataset linealmente separable? --> en principio son infinitas que pasan por la franja que separa las observaciones. La figura 1 y la 2 tenian brechas altas. A veces la recta queda pegada de un lado u otro. Con pendiente positiva o pendiente negativa, ambas validas como respuesta. La recta depende de las condiciones iniciales."
   ]
  }
 ],
 "metadata": {
  "kernelspec": {
   "display_name": "Python 3",
   "language": "python",
   "name": "python3"
  },
  "language_info": {
   "codemirror_mode": {
    "name": "ipython",
    "version": 3
   },
   "file_extension": ".py",
   "mimetype": "text/x-python",
   "name": "python",
   "nbconvert_exporter": "python",
   "pygments_lexer": "ipython3",
   "version": "3.7.1"
  }
 },
 "nbformat": 4,
 "nbformat_minor": 2
}
